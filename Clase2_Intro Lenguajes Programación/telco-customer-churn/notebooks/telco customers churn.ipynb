{
 "cells": [
  {
   "cell_type": "markdown",
   "metadata": {},
   "source": [
    "# Lectura y análisis preliminar de los datos"
   ]
  },
  {
   "cell_type": "code",
   "execution_count": 226,
   "metadata": {
    "jupyter": {
     "source_hidden": true
    }
   },
   "outputs": [],
   "source": [
    "# Importación de las librerías que usaremos\n",
    "import numpy as np\n",
    "import pandas as pd"
   ]
  },
  {
   "cell_type": "markdown",
   "metadata": {},
   "source": [
    "Lectura del dataset"
   ]
  },
  {
   "cell_type": "code",
   "execution_count": 227,
   "metadata": {
    "jupyter": {
     "source_hidden": true
    }
   },
   "outputs": [],
   "source": [
    "df_telco_cust_churn = pd.read_csv('../data/raw/datasets_13996_18858_WA_Fn-UseC_-Telco-Customer-Churn.csv')"
   ]
  },
  {
   "cell_type": "code",
   "execution_count": 228,
   "metadata": {
    "jupyter": {
     "source_hidden": true
    }
   },
   "outputs": [
    {
     "data": {
      "text/html": [
       "<div>\n",
       "<style scoped>\n",
       "    .dataframe tbody tr th:only-of-type {\n",
       "        vertical-align: middle;\n",
       "    }\n",
       "\n",
       "    .dataframe tbody tr th {\n",
       "        vertical-align: top;\n",
       "    }\n",
       "\n",
       "    .dataframe thead th {\n",
       "        text-align: right;\n",
       "    }\n",
       "</style>\n",
       "<table border=\"1\" class=\"dataframe\">\n",
       "  <thead>\n",
       "    <tr style=\"text-align: right;\">\n",
       "      <th></th>\n",
       "      <th>customerID</th>\n",
       "      <th>gender</th>\n",
       "      <th>SeniorCitizen</th>\n",
       "      <th>Partner</th>\n",
       "      <th>Dependents</th>\n",
       "      <th>tenure</th>\n",
       "      <th>PhoneService</th>\n",
       "      <th>MultipleLines</th>\n",
       "      <th>InternetService</th>\n",
       "      <th>OnlineSecurity</th>\n",
       "      <th>...</th>\n",
       "      <th>DeviceProtection</th>\n",
       "      <th>TechSupport</th>\n",
       "      <th>StreamingTV</th>\n",
       "      <th>StreamingMovies</th>\n",
       "      <th>Contract</th>\n",
       "      <th>PaperlessBilling</th>\n",
       "      <th>PaymentMethod</th>\n",
       "      <th>MonthlyCharges</th>\n",
       "      <th>TotalCharges</th>\n",
       "      <th>Churn</th>\n",
       "    </tr>\n",
       "  </thead>\n",
       "  <tbody>\n",
       "    <tr>\n",
       "      <th>0</th>\n",
       "      <td>7590-VHVEG</td>\n",
       "      <td>Female</td>\n",
       "      <td>0</td>\n",
       "      <td>Yes</td>\n",
       "      <td>No</td>\n",
       "      <td>1</td>\n",
       "      <td>No</td>\n",
       "      <td>No phone service</td>\n",
       "      <td>DSL</td>\n",
       "      <td>No</td>\n",
       "      <td>...</td>\n",
       "      <td>No</td>\n",
       "      <td>No</td>\n",
       "      <td>No</td>\n",
       "      <td>No</td>\n",
       "      <td>Month-to-month</td>\n",
       "      <td>Yes</td>\n",
       "      <td>Electronic check</td>\n",
       "      <td>29.85</td>\n",
       "      <td>29.85</td>\n",
       "      <td>No</td>\n",
       "    </tr>\n",
       "    <tr>\n",
       "      <th>1</th>\n",
       "      <td>5575-GNVDE</td>\n",
       "      <td>Male</td>\n",
       "      <td>0</td>\n",
       "      <td>No</td>\n",
       "      <td>No</td>\n",
       "      <td>34</td>\n",
       "      <td>Yes</td>\n",
       "      <td>No</td>\n",
       "      <td>DSL</td>\n",
       "      <td>Yes</td>\n",
       "      <td>...</td>\n",
       "      <td>Yes</td>\n",
       "      <td>No</td>\n",
       "      <td>No</td>\n",
       "      <td>No</td>\n",
       "      <td>One year</td>\n",
       "      <td>No</td>\n",
       "      <td>Mailed check</td>\n",
       "      <td>56.95</td>\n",
       "      <td>1889.5</td>\n",
       "      <td>No</td>\n",
       "    </tr>\n",
       "    <tr>\n",
       "      <th>2</th>\n",
       "      <td>3668-QPYBK</td>\n",
       "      <td>Male</td>\n",
       "      <td>0</td>\n",
       "      <td>No</td>\n",
       "      <td>No</td>\n",
       "      <td>2</td>\n",
       "      <td>Yes</td>\n",
       "      <td>No</td>\n",
       "      <td>DSL</td>\n",
       "      <td>Yes</td>\n",
       "      <td>...</td>\n",
       "      <td>No</td>\n",
       "      <td>No</td>\n",
       "      <td>No</td>\n",
       "      <td>No</td>\n",
       "      <td>Month-to-month</td>\n",
       "      <td>Yes</td>\n",
       "      <td>Mailed check</td>\n",
       "      <td>53.85</td>\n",
       "      <td>108.15</td>\n",
       "      <td>Yes</td>\n",
       "    </tr>\n",
       "    <tr>\n",
       "      <th>3</th>\n",
       "      <td>7795-CFOCW</td>\n",
       "      <td>Male</td>\n",
       "      <td>0</td>\n",
       "      <td>No</td>\n",
       "      <td>No</td>\n",
       "      <td>45</td>\n",
       "      <td>No</td>\n",
       "      <td>No phone service</td>\n",
       "      <td>DSL</td>\n",
       "      <td>Yes</td>\n",
       "      <td>...</td>\n",
       "      <td>Yes</td>\n",
       "      <td>Yes</td>\n",
       "      <td>No</td>\n",
       "      <td>No</td>\n",
       "      <td>One year</td>\n",
       "      <td>No</td>\n",
       "      <td>Bank transfer (automatic)</td>\n",
       "      <td>42.30</td>\n",
       "      <td>1840.75</td>\n",
       "      <td>No</td>\n",
       "    </tr>\n",
       "    <tr>\n",
       "      <th>4</th>\n",
       "      <td>9237-HQITU</td>\n",
       "      <td>Female</td>\n",
       "      <td>0</td>\n",
       "      <td>No</td>\n",
       "      <td>No</td>\n",
       "      <td>2</td>\n",
       "      <td>Yes</td>\n",
       "      <td>No</td>\n",
       "      <td>Fiber optic</td>\n",
       "      <td>No</td>\n",
       "      <td>...</td>\n",
       "      <td>No</td>\n",
       "      <td>No</td>\n",
       "      <td>No</td>\n",
       "      <td>No</td>\n",
       "      <td>Month-to-month</td>\n",
       "      <td>Yes</td>\n",
       "      <td>Electronic check</td>\n",
       "      <td>70.70</td>\n",
       "      <td>151.65</td>\n",
       "      <td>Yes</td>\n",
       "    </tr>\n",
       "  </tbody>\n",
       "</table>\n",
       "<p>5 rows × 21 columns</p>\n",
       "</div>"
      ],
      "text/plain": [
       "   customerID  gender  SeniorCitizen Partner Dependents  tenure PhoneService  \\\n",
       "0  7590-VHVEG  Female              0     Yes         No       1           No   \n",
       "1  5575-GNVDE    Male              0      No         No      34          Yes   \n",
       "2  3668-QPYBK    Male              0      No         No       2          Yes   \n",
       "3  7795-CFOCW    Male              0      No         No      45           No   \n",
       "4  9237-HQITU  Female              0      No         No       2          Yes   \n",
       "\n",
       "      MultipleLines InternetService OnlineSecurity  ... DeviceProtection  \\\n",
       "0  No phone service             DSL             No  ...               No   \n",
       "1                No             DSL            Yes  ...              Yes   \n",
       "2                No             DSL            Yes  ...               No   \n",
       "3  No phone service             DSL            Yes  ...              Yes   \n",
       "4                No     Fiber optic             No  ...               No   \n",
       "\n",
       "  TechSupport StreamingTV StreamingMovies        Contract PaperlessBilling  \\\n",
       "0          No          No              No  Month-to-month              Yes   \n",
       "1          No          No              No        One year               No   \n",
       "2          No          No              No  Month-to-month              Yes   \n",
       "3         Yes          No              No        One year               No   \n",
       "4          No          No              No  Month-to-month              Yes   \n",
       "\n",
       "               PaymentMethod MonthlyCharges  TotalCharges Churn  \n",
       "0           Electronic check          29.85         29.85    No  \n",
       "1               Mailed check          56.95        1889.5    No  \n",
       "2               Mailed check          53.85        108.15   Yes  \n",
       "3  Bank transfer (automatic)          42.30       1840.75    No  \n",
       "4           Electronic check          70.70        151.65   Yes  \n",
       "\n",
       "[5 rows x 21 columns]"
      ]
     },
     "execution_count": 228,
     "metadata": {},
     "output_type": "execute_result"
    }
   ],
   "source": [
    "# Primeras filas del \n",
    "df_telco_cust_churn.head()"
   ]
  },
  {
   "cell_type": "markdown",
   "metadata": {},
   "source": [
    "## Análisis preliminar del dataset"
   ]
  },
  {
   "cell_type": "code",
   "execution_count": 229,
   "metadata": {
    "jupyter": {
     "source_hidden": true
    }
   },
   "outputs": [
    {
     "name": "stdout",
     "output_type": "stream",
     "text": [
      "El dataset tiene 7043 filas\n",
      "El dataset tiene 21 columnas\n"
     ]
    }
   ],
   "source": [
    "# Número de filas y de columnas\n",
    "print(f\"El dataset tiene {df_telco_cust_churn.shape[0]} filas\")\n",
    "print(f\"El dataset tiene {df_telco_cust_churn.shape[1]} columnas\")"
   ]
  },
  {
   "cell_type": "markdown",
   "metadata": {},
   "source": [
    "Análisis del tipo de datos de cada columna"
   ]
  },
  {
   "cell_type": "code",
   "execution_count": 230,
   "metadata": {
    "jupyter": {
     "source_hidden": true
    }
   },
   "outputs": [
    {
     "name": "stdout",
     "output_type": "stream",
     "text": [
      "<class 'pandas.core.frame.DataFrame'>\n",
      "RangeIndex: 7043 entries, 0 to 7042\n",
      "Data columns (total 21 columns):\n",
      " #   Column            Non-Null Count  Dtype  \n",
      "---  ------            --------------  -----  \n",
      " 0   customerID        7043 non-null   object \n",
      " 1   gender            7043 non-null   object \n",
      " 2   SeniorCitizen     7043 non-null   int64  \n",
      " 3   Partner           7043 non-null   object \n",
      " 4   Dependents        7043 non-null   object \n",
      " 5   tenure            7043 non-null   int64  \n",
      " 6   PhoneService      7043 non-null   object \n",
      " 7   MultipleLines     7043 non-null   object \n",
      " 8   InternetService   7043 non-null   object \n",
      " 9   OnlineSecurity    7043 non-null   object \n",
      " 10  OnlineBackup      7043 non-null   object \n",
      " 11  DeviceProtection  7043 non-null   object \n",
      " 12  TechSupport       7043 non-null   object \n",
      " 13  StreamingTV       7043 non-null   object \n",
      " 14  StreamingMovies   7043 non-null   object \n",
      " 15  Contract          7043 non-null   object \n",
      " 16  PaperlessBilling  7043 non-null   object \n",
      " 17  PaymentMethod     7043 non-null   object \n",
      " 18  MonthlyCharges    7043 non-null   float64\n",
      " 19  TotalCharges      7043 non-null   object \n",
      " 20  Churn             7043 non-null   object \n",
      "dtypes: float64(1), int64(2), object(18)\n",
      "memory usage: 1.1+ MB\n"
     ]
    }
   ],
   "source": [
    "# Tipos de datos de las columnas\n",
    "df_telco_cust_churn.info()"
   ]
  },
  {
   "cell_type": "markdown",
   "metadata": {},
   "source": [
    "Estadísticas básicas"
   ]
  },
  {
   "cell_type": "code",
   "execution_count": 231,
   "metadata": {
    "jupyter": {
     "source_hidden": true
    }
   },
   "outputs": [
    {
     "data": {
      "text/html": [
       "<div>\n",
       "<style scoped>\n",
       "    .dataframe tbody tr th:only-of-type {\n",
       "        vertical-align: middle;\n",
       "    }\n",
       "\n",
       "    .dataframe tbody tr th {\n",
       "        vertical-align: top;\n",
       "    }\n",
       "\n",
       "    .dataframe thead th {\n",
       "        text-align: right;\n",
       "    }\n",
       "</style>\n",
       "<table border=\"1\" class=\"dataframe\">\n",
       "  <thead>\n",
       "    <tr style=\"text-align: right;\">\n",
       "      <th></th>\n",
       "      <th>customerID</th>\n",
       "      <th>gender</th>\n",
       "      <th>SeniorCitizen</th>\n",
       "      <th>Partner</th>\n",
       "      <th>Dependents</th>\n",
       "      <th>tenure</th>\n",
       "      <th>PhoneService</th>\n",
       "      <th>MultipleLines</th>\n",
       "      <th>InternetService</th>\n",
       "      <th>OnlineSecurity</th>\n",
       "      <th>...</th>\n",
       "      <th>DeviceProtection</th>\n",
       "      <th>TechSupport</th>\n",
       "      <th>StreamingTV</th>\n",
       "      <th>StreamingMovies</th>\n",
       "      <th>Contract</th>\n",
       "      <th>PaperlessBilling</th>\n",
       "      <th>PaymentMethod</th>\n",
       "      <th>MonthlyCharges</th>\n",
       "      <th>TotalCharges</th>\n",
       "      <th>Churn</th>\n",
       "    </tr>\n",
       "  </thead>\n",
       "  <tbody>\n",
       "    <tr>\n",
       "      <th>count</th>\n",
       "      <td>7043</td>\n",
       "      <td>7043</td>\n",
       "      <td>7043.000000</td>\n",
       "      <td>7043</td>\n",
       "      <td>7043</td>\n",
       "      <td>7043.000000</td>\n",
       "      <td>7043</td>\n",
       "      <td>7043</td>\n",
       "      <td>7043</td>\n",
       "      <td>7043</td>\n",
       "      <td>...</td>\n",
       "      <td>7043</td>\n",
       "      <td>7043</td>\n",
       "      <td>7043</td>\n",
       "      <td>7043</td>\n",
       "      <td>7043</td>\n",
       "      <td>7043</td>\n",
       "      <td>7043</td>\n",
       "      <td>7043.000000</td>\n",
       "      <td>7043</td>\n",
       "      <td>7043</td>\n",
       "    </tr>\n",
       "    <tr>\n",
       "      <th>unique</th>\n",
       "      <td>7043</td>\n",
       "      <td>2</td>\n",
       "      <td>NaN</td>\n",
       "      <td>2</td>\n",
       "      <td>2</td>\n",
       "      <td>NaN</td>\n",
       "      <td>2</td>\n",
       "      <td>3</td>\n",
       "      <td>3</td>\n",
       "      <td>3</td>\n",
       "      <td>...</td>\n",
       "      <td>3</td>\n",
       "      <td>3</td>\n",
       "      <td>3</td>\n",
       "      <td>3</td>\n",
       "      <td>3</td>\n",
       "      <td>2</td>\n",
       "      <td>4</td>\n",
       "      <td>NaN</td>\n",
       "      <td>6531</td>\n",
       "      <td>2</td>\n",
       "    </tr>\n",
       "    <tr>\n",
       "      <th>top</th>\n",
       "      <td>0999-QXNSA</td>\n",
       "      <td>Male</td>\n",
       "      <td>NaN</td>\n",
       "      <td>No</td>\n",
       "      <td>No</td>\n",
       "      <td>NaN</td>\n",
       "      <td>Yes</td>\n",
       "      <td>No</td>\n",
       "      <td>Fiber optic</td>\n",
       "      <td>No</td>\n",
       "      <td>...</td>\n",
       "      <td>No</td>\n",
       "      <td>No</td>\n",
       "      <td>No</td>\n",
       "      <td>No</td>\n",
       "      <td>Month-to-month</td>\n",
       "      <td>Yes</td>\n",
       "      <td>Electronic check</td>\n",
       "      <td>NaN</td>\n",
       "      <td></td>\n",
       "      <td>No</td>\n",
       "    </tr>\n",
       "    <tr>\n",
       "      <th>freq</th>\n",
       "      <td>1</td>\n",
       "      <td>3555</td>\n",
       "      <td>NaN</td>\n",
       "      <td>3641</td>\n",
       "      <td>4933</td>\n",
       "      <td>NaN</td>\n",
       "      <td>6361</td>\n",
       "      <td>3390</td>\n",
       "      <td>3096</td>\n",
       "      <td>3498</td>\n",
       "      <td>...</td>\n",
       "      <td>3095</td>\n",
       "      <td>3473</td>\n",
       "      <td>2810</td>\n",
       "      <td>2785</td>\n",
       "      <td>3875</td>\n",
       "      <td>4171</td>\n",
       "      <td>2365</td>\n",
       "      <td>NaN</td>\n",
       "      <td>11</td>\n",
       "      <td>5174</td>\n",
       "    </tr>\n",
       "    <tr>\n",
       "      <th>mean</th>\n",
       "      <td>NaN</td>\n",
       "      <td>NaN</td>\n",
       "      <td>0.162147</td>\n",
       "      <td>NaN</td>\n",
       "      <td>NaN</td>\n",
       "      <td>32.371149</td>\n",
       "      <td>NaN</td>\n",
       "      <td>NaN</td>\n",
       "      <td>NaN</td>\n",
       "      <td>NaN</td>\n",
       "      <td>...</td>\n",
       "      <td>NaN</td>\n",
       "      <td>NaN</td>\n",
       "      <td>NaN</td>\n",
       "      <td>NaN</td>\n",
       "      <td>NaN</td>\n",
       "      <td>NaN</td>\n",
       "      <td>NaN</td>\n",
       "      <td>64.761692</td>\n",
       "      <td>NaN</td>\n",
       "      <td>NaN</td>\n",
       "    </tr>\n",
       "    <tr>\n",
       "      <th>std</th>\n",
       "      <td>NaN</td>\n",
       "      <td>NaN</td>\n",
       "      <td>0.368612</td>\n",
       "      <td>NaN</td>\n",
       "      <td>NaN</td>\n",
       "      <td>24.559481</td>\n",
       "      <td>NaN</td>\n",
       "      <td>NaN</td>\n",
       "      <td>NaN</td>\n",
       "      <td>NaN</td>\n",
       "      <td>...</td>\n",
       "      <td>NaN</td>\n",
       "      <td>NaN</td>\n",
       "      <td>NaN</td>\n",
       "      <td>NaN</td>\n",
       "      <td>NaN</td>\n",
       "      <td>NaN</td>\n",
       "      <td>NaN</td>\n",
       "      <td>30.090047</td>\n",
       "      <td>NaN</td>\n",
       "      <td>NaN</td>\n",
       "    </tr>\n",
       "    <tr>\n",
       "      <th>min</th>\n",
       "      <td>NaN</td>\n",
       "      <td>NaN</td>\n",
       "      <td>0.000000</td>\n",
       "      <td>NaN</td>\n",
       "      <td>NaN</td>\n",
       "      <td>0.000000</td>\n",
       "      <td>NaN</td>\n",
       "      <td>NaN</td>\n",
       "      <td>NaN</td>\n",
       "      <td>NaN</td>\n",
       "      <td>...</td>\n",
       "      <td>NaN</td>\n",
       "      <td>NaN</td>\n",
       "      <td>NaN</td>\n",
       "      <td>NaN</td>\n",
       "      <td>NaN</td>\n",
       "      <td>NaN</td>\n",
       "      <td>NaN</td>\n",
       "      <td>18.250000</td>\n",
       "      <td>NaN</td>\n",
       "      <td>NaN</td>\n",
       "    </tr>\n",
       "    <tr>\n",
       "      <th>25%</th>\n",
       "      <td>NaN</td>\n",
       "      <td>NaN</td>\n",
       "      <td>0.000000</td>\n",
       "      <td>NaN</td>\n",
       "      <td>NaN</td>\n",
       "      <td>9.000000</td>\n",
       "      <td>NaN</td>\n",
       "      <td>NaN</td>\n",
       "      <td>NaN</td>\n",
       "      <td>NaN</td>\n",
       "      <td>...</td>\n",
       "      <td>NaN</td>\n",
       "      <td>NaN</td>\n",
       "      <td>NaN</td>\n",
       "      <td>NaN</td>\n",
       "      <td>NaN</td>\n",
       "      <td>NaN</td>\n",
       "      <td>NaN</td>\n",
       "      <td>35.500000</td>\n",
       "      <td>NaN</td>\n",
       "      <td>NaN</td>\n",
       "    </tr>\n",
       "    <tr>\n",
       "      <th>50%</th>\n",
       "      <td>NaN</td>\n",
       "      <td>NaN</td>\n",
       "      <td>0.000000</td>\n",
       "      <td>NaN</td>\n",
       "      <td>NaN</td>\n",
       "      <td>29.000000</td>\n",
       "      <td>NaN</td>\n",
       "      <td>NaN</td>\n",
       "      <td>NaN</td>\n",
       "      <td>NaN</td>\n",
       "      <td>...</td>\n",
       "      <td>NaN</td>\n",
       "      <td>NaN</td>\n",
       "      <td>NaN</td>\n",
       "      <td>NaN</td>\n",
       "      <td>NaN</td>\n",
       "      <td>NaN</td>\n",
       "      <td>NaN</td>\n",
       "      <td>70.350000</td>\n",
       "      <td>NaN</td>\n",
       "      <td>NaN</td>\n",
       "    </tr>\n",
       "    <tr>\n",
       "      <th>75%</th>\n",
       "      <td>NaN</td>\n",
       "      <td>NaN</td>\n",
       "      <td>0.000000</td>\n",
       "      <td>NaN</td>\n",
       "      <td>NaN</td>\n",
       "      <td>55.000000</td>\n",
       "      <td>NaN</td>\n",
       "      <td>NaN</td>\n",
       "      <td>NaN</td>\n",
       "      <td>NaN</td>\n",
       "      <td>...</td>\n",
       "      <td>NaN</td>\n",
       "      <td>NaN</td>\n",
       "      <td>NaN</td>\n",
       "      <td>NaN</td>\n",
       "      <td>NaN</td>\n",
       "      <td>NaN</td>\n",
       "      <td>NaN</td>\n",
       "      <td>89.850000</td>\n",
       "      <td>NaN</td>\n",
       "      <td>NaN</td>\n",
       "    </tr>\n",
       "    <tr>\n",
       "      <th>max</th>\n",
       "      <td>NaN</td>\n",
       "      <td>NaN</td>\n",
       "      <td>1.000000</td>\n",
       "      <td>NaN</td>\n",
       "      <td>NaN</td>\n",
       "      <td>72.000000</td>\n",
       "      <td>NaN</td>\n",
       "      <td>NaN</td>\n",
       "      <td>NaN</td>\n",
       "      <td>NaN</td>\n",
       "      <td>...</td>\n",
       "      <td>NaN</td>\n",
       "      <td>NaN</td>\n",
       "      <td>NaN</td>\n",
       "      <td>NaN</td>\n",
       "      <td>NaN</td>\n",
       "      <td>NaN</td>\n",
       "      <td>NaN</td>\n",
       "      <td>118.750000</td>\n",
       "      <td>NaN</td>\n",
       "      <td>NaN</td>\n",
       "    </tr>\n",
       "  </tbody>\n",
       "</table>\n",
       "<p>11 rows × 21 columns</p>\n",
       "</div>"
      ],
      "text/plain": [
       "        customerID gender  SeniorCitizen Partner Dependents       tenure  \\\n",
       "count         7043   7043    7043.000000    7043       7043  7043.000000   \n",
       "unique        7043      2            NaN       2          2          NaN   \n",
       "top     0999-QXNSA   Male            NaN      No         No          NaN   \n",
       "freq             1   3555            NaN    3641       4933          NaN   \n",
       "mean           NaN    NaN       0.162147     NaN        NaN    32.371149   \n",
       "std            NaN    NaN       0.368612     NaN        NaN    24.559481   \n",
       "min            NaN    NaN       0.000000     NaN        NaN     0.000000   \n",
       "25%            NaN    NaN       0.000000     NaN        NaN     9.000000   \n",
       "50%            NaN    NaN       0.000000     NaN        NaN    29.000000   \n",
       "75%            NaN    NaN       0.000000     NaN        NaN    55.000000   \n",
       "max            NaN    NaN       1.000000     NaN        NaN    72.000000   \n",
       "\n",
       "       PhoneService MultipleLines InternetService OnlineSecurity  ...  \\\n",
       "count          7043          7043            7043           7043  ...   \n",
       "unique            2             3               3              3  ...   \n",
       "top             Yes            No     Fiber optic             No  ...   \n",
       "freq           6361          3390            3096           3498  ...   \n",
       "mean            NaN           NaN             NaN            NaN  ...   \n",
       "std             NaN           NaN             NaN            NaN  ...   \n",
       "min             NaN           NaN             NaN            NaN  ...   \n",
       "25%             NaN           NaN             NaN            NaN  ...   \n",
       "50%             NaN           NaN             NaN            NaN  ...   \n",
       "75%             NaN           NaN             NaN            NaN  ...   \n",
       "max             NaN           NaN             NaN            NaN  ...   \n",
       "\n",
       "       DeviceProtection TechSupport StreamingTV StreamingMovies  \\\n",
       "count              7043        7043        7043            7043   \n",
       "unique                3           3           3               3   \n",
       "top                  No          No          No              No   \n",
       "freq               3095        3473        2810            2785   \n",
       "mean                NaN         NaN         NaN             NaN   \n",
       "std                 NaN         NaN         NaN             NaN   \n",
       "min                 NaN         NaN         NaN             NaN   \n",
       "25%                 NaN         NaN         NaN             NaN   \n",
       "50%                 NaN         NaN         NaN             NaN   \n",
       "75%                 NaN         NaN         NaN             NaN   \n",
       "max                 NaN         NaN         NaN             NaN   \n",
       "\n",
       "              Contract PaperlessBilling     PaymentMethod MonthlyCharges  \\\n",
       "count             7043             7043              7043    7043.000000   \n",
       "unique               3                2                 4            NaN   \n",
       "top     Month-to-month              Yes  Electronic check            NaN   \n",
       "freq              3875             4171              2365            NaN   \n",
       "mean               NaN              NaN               NaN      64.761692   \n",
       "std                NaN              NaN               NaN      30.090047   \n",
       "min                NaN              NaN               NaN      18.250000   \n",
       "25%                NaN              NaN               NaN      35.500000   \n",
       "50%                NaN              NaN               NaN      70.350000   \n",
       "75%                NaN              NaN               NaN      89.850000   \n",
       "max                NaN              NaN               NaN     118.750000   \n",
       "\n",
       "        TotalCharges Churn  \n",
       "count           7043  7043  \n",
       "unique          6531     2  \n",
       "top                     No  \n",
       "freq              11  5174  \n",
       "mean             NaN   NaN  \n",
       "std              NaN   NaN  \n",
       "min              NaN   NaN  \n",
       "25%              NaN   NaN  \n",
       "50%              NaN   NaN  \n",
       "75%              NaN   NaN  \n",
       "max              NaN   NaN  \n",
       "\n",
       "[11 rows x 21 columns]"
      ]
     },
     "execution_count": 231,
     "metadata": {},
     "output_type": "execute_result"
    }
   ],
   "source": [
    "# Estadísticas básicas\n",
    "df_telco_cust_churn.describe(include = 'all')"
   ]
  },
  {
   "cell_type": "markdown",
   "metadata": {},
   "source": [
    "Renombramos las columnas para que sean más explicativas"
   ]
  },
  {
   "cell_type": "code",
   "execution_count": 232,
   "metadata": {
    "jupyter": {
     "source_hidden": true
    }
   },
   "outputs": [
    {
     "data": {
      "text/html": [
       "<div>\n",
       "<style scoped>\n",
       "    .dataframe tbody tr th:only-of-type {\n",
       "        vertical-align: middle;\n",
       "    }\n",
       "\n",
       "    .dataframe tbody tr th {\n",
       "        vertical-align: top;\n",
       "    }\n",
       "\n",
       "    .dataframe thead th {\n",
       "        text-align: right;\n",
       "    }\n",
       "</style>\n",
       "<table border=\"1\" class=\"dataframe\">\n",
       "  <thead>\n",
       "    <tr style=\"text-align: right;\">\n",
       "      <th></th>\n",
       "      <th>CustomerID</th>\n",
       "      <th>Gender</th>\n",
       "      <th>IsSeniorCitizen</th>\n",
       "      <th>IsPartner</th>\n",
       "      <th>HasDependents</th>\n",
       "      <th>MonthsInCompany</th>\n",
       "      <th>HasPhoneService</th>\n",
       "      <th>HasMultipleLines</th>\n",
       "      <th>InternetServiceType</th>\n",
       "      <th>HasOnlineSecurity</th>\n",
       "      <th>...</th>\n",
       "      <th>HasDeviceProtection</th>\n",
       "      <th>HasTechSupport</th>\n",
       "      <th>HasStreamingTV</th>\n",
       "      <th>HasStreamingMovies</th>\n",
       "      <th>ContractTerm</th>\n",
       "      <th>HasPaperlessBilling</th>\n",
       "      <th>PaymentMethod</th>\n",
       "      <th>MonthlyCharges</th>\n",
       "      <th>TotalCharges</th>\n",
       "      <th>Abandoned</th>\n",
       "    </tr>\n",
       "  </thead>\n",
       "  <tbody>\n",
       "    <tr>\n",
       "      <th>0</th>\n",
       "      <td>7590-VHVEG</td>\n",
       "      <td>Female</td>\n",
       "      <td>0</td>\n",
       "      <td>Yes</td>\n",
       "      <td>No</td>\n",
       "      <td>1</td>\n",
       "      <td>No</td>\n",
       "      <td>No phone service</td>\n",
       "      <td>DSL</td>\n",
       "      <td>No</td>\n",
       "      <td>...</td>\n",
       "      <td>No</td>\n",
       "      <td>No</td>\n",
       "      <td>No</td>\n",
       "      <td>No</td>\n",
       "      <td>Month-to-month</td>\n",
       "      <td>Yes</td>\n",
       "      <td>Electronic check</td>\n",
       "      <td>29.85</td>\n",
       "      <td>29.85</td>\n",
       "      <td>No</td>\n",
       "    </tr>\n",
       "    <tr>\n",
       "      <th>1</th>\n",
       "      <td>5575-GNVDE</td>\n",
       "      <td>Male</td>\n",
       "      <td>0</td>\n",
       "      <td>No</td>\n",
       "      <td>No</td>\n",
       "      <td>34</td>\n",
       "      <td>Yes</td>\n",
       "      <td>No</td>\n",
       "      <td>DSL</td>\n",
       "      <td>Yes</td>\n",
       "      <td>...</td>\n",
       "      <td>Yes</td>\n",
       "      <td>No</td>\n",
       "      <td>No</td>\n",
       "      <td>No</td>\n",
       "      <td>One year</td>\n",
       "      <td>No</td>\n",
       "      <td>Mailed check</td>\n",
       "      <td>56.95</td>\n",
       "      <td>1889.5</td>\n",
       "      <td>No</td>\n",
       "    </tr>\n",
       "    <tr>\n",
       "      <th>2</th>\n",
       "      <td>3668-QPYBK</td>\n",
       "      <td>Male</td>\n",
       "      <td>0</td>\n",
       "      <td>No</td>\n",
       "      <td>No</td>\n",
       "      <td>2</td>\n",
       "      <td>Yes</td>\n",
       "      <td>No</td>\n",
       "      <td>DSL</td>\n",
       "      <td>Yes</td>\n",
       "      <td>...</td>\n",
       "      <td>No</td>\n",
       "      <td>No</td>\n",
       "      <td>No</td>\n",
       "      <td>No</td>\n",
       "      <td>Month-to-month</td>\n",
       "      <td>Yes</td>\n",
       "      <td>Mailed check</td>\n",
       "      <td>53.85</td>\n",
       "      <td>108.15</td>\n",
       "      <td>Yes</td>\n",
       "    </tr>\n",
       "    <tr>\n",
       "      <th>3</th>\n",
       "      <td>7795-CFOCW</td>\n",
       "      <td>Male</td>\n",
       "      <td>0</td>\n",
       "      <td>No</td>\n",
       "      <td>No</td>\n",
       "      <td>45</td>\n",
       "      <td>No</td>\n",
       "      <td>No phone service</td>\n",
       "      <td>DSL</td>\n",
       "      <td>Yes</td>\n",
       "      <td>...</td>\n",
       "      <td>Yes</td>\n",
       "      <td>Yes</td>\n",
       "      <td>No</td>\n",
       "      <td>No</td>\n",
       "      <td>One year</td>\n",
       "      <td>No</td>\n",
       "      <td>Bank transfer (automatic)</td>\n",
       "      <td>42.30</td>\n",
       "      <td>1840.75</td>\n",
       "      <td>No</td>\n",
       "    </tr>\n",
       "    <tr>\n",
       "      <th>4</th>\n",
       "      <td>9237-HQITU</td>\n",
       "      <td>Female</td>\n",
       "      <td>0</td>\n",
       "      <td>No</td>\n",
       "      <td>No</td>\n",
       "      <td>2</td>\n",
       "      <td>Yes</td>\n",
       "      <td>No</td>\n",
       "      <td>Fiber optic</td>\n",
       "      <td>No</td>\n",
       "      <td>...</td>\n",
       "      <td>No</td>\n",
       "      <td>No</td>\n",
       "      <td>No</td>\n",
       "      <td>No</td>\n",
       "      <td>Month-to-month</td>\n",
       "      <td>Yes</td>\n",
       "      <td>Electronic check</td>\n",
       "      <td>70.70</td>\n",
       "      <td>151.65</td>\n",
       "      <td>Yes</td>\n",
       "    </tr>\n",
       "  </tbody>\n",
       "</table>\n",
       "<p>5 rows × 21 columns</p>\n",
       "</div>"
      ],
      "text/plain": [
       "   CustomerID  Gender  IsSeniorCitizen IsPartner HasDependents  \\\n",
       "0  7590-VHVEG  Female                0       Yes            No   \n",
       "1  5575-GNVDE    Male                0        No            No   \n",
       "2  3668-QPYBK    Male                0        No            No   \n",
       "3  7795-CFOCW    Male                0        No            No   \n",
       "4  9237-HQITU  Female                0        No            No   \n",
       "\n",
       "   MonthsInCompany HasPhoneService  HasMultipleLines InternetServiceType  \\\n",
       "0                1              No  No phone service                 DSL   \n",
       "1               34             Yes                No                 DSL   \n",
       "2                2             Yes                No                 DSL   \n",
       "3               45              No  No phone service                 DSL   \n",
       "4                2             Yes                No         Fiber optic   \n",
       "\n",
       "  HasOnlineSecurity  ... HasDeviceProtection HasTechSupport HasStreamingTV  \\\n",
       "0                No  ...                  No             No             No   \n",
       "1               Yes  ...                 Yes             No             No   \n",
       "2               Yes  ...                  No             No             No   \n",
       "3               Yes  ...                 Yes            Yes             No   \n",
       "4                No  ...                  No             No             No   \n",
       "\n",
       "  HasStreamingMovies    ContractTerm HasPaperlessBilling  \\\n",
       "0                 No  Month-to-month                 Yes   \n",
       "1                 No        One year                  No   \n",
       "2                 No  Month-to-month                 Yes   \n",
       "3                 No        One year                  No   \n",
       "4                 No  Month-to-month                 Yes   \n",
       "\n",
       "               PaymentMethod MonthlyCharges  TotalCharges Abandoned  \n",
       "0           Electronic check          29.85         29.85        No  \n",
       "1               Mailed check          56.95        1889.5        No  \n",
       "2               Mailed check          53.85        108.15       Yes  \n",
       "3  Bank transfer (automatic)          42.30       1840.75        No  \n",
       "4           Electronic check          70.70        151.65       Yes  \n",
       "\n",
       "[5 rows x 21 columns]"
      ]
     },
     "execution_count": 232,
     "metadata": {},
     "output_type": "execute_result"
    }
   ],
   "source": [
    "# Renombrado de columnas para que se entienda mejor\n",
    "df_telco_cust_churn_processed = df_telco_cust_churn.rename(\n",
    "    columns={\"customerID\":\"CustomerID\",\n",
    "             \"gender\":\"Gender\",\n",
    "             \"SeniorCitizen\":\"IsSeniorCitizen\",\n",
    "             \"Partner\":\"IsPartner\",\n",
    "             \"Dependents\":\"HasDependents\",\n",
    "             \"tenure\":\"MonthsInCompany\",\n",
    "             \"PhoneService\":\"HasPhoneService\",\n",
    "             \"MultipleLines\":\"HasMultipleLines\",\n",
    "             \"InternetService\":\"InternetServiceType\",\n",
    "             \"OnlineSecurity\":\"HasOnlineSecurity\",\n",
    "             \"OnlineBackup\":\"HasOnlineBackup\",\n",
    "             \"DeviceProtection\":\"HasDeviceProtection\",\n",
    "             \"TechSupport\":\"HasTechSupport\",\n",
    "             \"StreamingTV\":\"HasStreamingTV\",\n",
    "             \"StreamingMovies\":\"HasStreamingMovies\",\n",
    "             \"Contract\":\"ContractTerm\",\n",
    "             \"PaperlessBilling\":\"HasPaperlessBilling\",\n",
    "             \"Churn\":\"Abandoned\"\n",
    "            }\n",
    ")\n",
    "\n",
    "df_telco_cust_churn_processed.head()"
   ]
  },
  {
   "cell_type": "markdown",
   "metadata": {},
   "source": [
    "El dataset no tiene valores nulos"
   ]
  },
  {
   "cell_type": "code",
   "execution_count": 233,
   "metadata": {
    "jupyter": {
     "source_hidden": true
    }
   },
   "outputs": [
    {
     "data": {
      "text/plain": [
       "CustomerID             0\n",
       "Gender                 0\n",
       "IsSeniorCitizen        0\n",
       "IsPartner              0\n",
       "HasDependents          0\n",
       "MonthsInCompany        0\n",
       "HasPhoneService        0\n",
       "HasMultipleLines       0\n",
       "InternetServiceType    0\n",
       "HasOnlineSecurity      0\n",
       "HasOnlineBackup        0\n",
       "HasDeviceProtection    0\n",
       "HasTechSupport         0\n",
       "HasStreamingTV         0\n",
       "HasStreamingMovies     0\n",
       "ContractTerm           0\n",
       "HasPaperlessBilling    0\n",
       "PaymentMethod          0\n",
       "MonthlyCharges         0\n",
       "TotalCharges           0\n",
       "Abandoned              0\n",
       "dtype: int64"
      ]
     },
     "execution_count": 233,
     "metadata": {},
     "output_type": "execute_result"
    }
   ],
   "source": [
    "# Verificación de valores nulos\n",
    "df_telco_cust_churn_processed.isna().sum()"
   ]
  },
  {
   "cell_type": "markdown",
   "metadata": {},
   "source": [
    "Análisis de los valores posibles para cada una de las columnas"
   ]
  },
  {
   "cell_type": "code",
   "execution_count": 234,
   "metadata": {
    "jupyter": {
     "source_hidden": true
    }
   },
   "outputs": [
    {
     "name": "stdout",
     "output_type": "stream",
     "text": [
      "Valores para CustomerID:  ['7590-VHVEG' '5575-GNVDE' '3668-QPYBK' ... '4801-JZAZL' '8361-LTMKD'\n",
      " '3186-AJIEK']\n",
      "Valores para Gender:  ['Female' 'Male']\n",
      "Valores para IsSeniorCitizen:  [0 1]\n",
      "Valores para IsPartner:  ['Yes' 'No']\n",
      "Valores para HasDependents:  ['No' 'Yes']\n",
      "Valores para MonthsInCompany:  [ 1 34  2 45  8 22 10 28 62 13 16 58 49 25 69 52 71 21 12 30 47 72 17 27\n",
      "  5 46 11 70 63 43 15 60 18 66  9  3 31 50 64 56  7 42 35 48 29 65 38 68\n",
      " 32 55 37 36 41  6  4 33 67 23 57 61 14 20 53 40 59 24 44 19 54 51 26  0\n",
      " 39]\n",
      "Valores para HasPhoneService:  ['No' 'Yes']\n",
      "Valores para HasMultipleLines:  ['No phone service' 'No' 'Yes']\n",
      "Valores para InternetServiceType:  ['DSL' 'Fiber optic' 'No']\n",
      "Valores para HasOnlineSecurity:  ['No' 'Yes' 'No internet service']\n",
      "Valores para HasOnlineBackup:  ['Yes' 'No' 'No internet service']\n",
      "Valores para HasDeviceProtection:  ['No' 'Yes' 'No internet service']\n",
      "Valores para HasTechSupport:  ['No' 'Yes' 'No internet service']\n",
      "Valores para HasStreamingTV:  ['No' 'Yes' 'No internet service']\n",
      "Valores para HasStreamingMovies:  ['No' 'Yes' 'No internet service']\n",
      "Valores para ContractTerm:  ['Month-to-month' 'One year' 'Two year']\n",
      "Valores para HasPaperlessBilling:  ['Yes' 'No']\n",
      "Valores para PaymentMethod:  ['Electronic check' 'Mailed check' 'Bank transfer (automatic)'\n",
      " 'Credit card (automatic)']\n",
      "Valores para MonthlyCharges:  [29.85 56.95 53.85 ... 63.1  44.2  78.7 ]\n",
      "Valores para TotalCharges:  ['29.85' '1889.5' '108.15' ... '346.45' '306.6' '6844.5']\n",
      "Valores para Abandoned:  ['No' 'Yes']\n"
     ]
    }
   ],
   "source": [
    "for i in df_telco_cust_churn_processed.columns:\n",
    "    print(f\"Valores para {i}: \", df_telco_cust_churn_processed[i].unique())"
   ]
  },
  {
   "cell_type": "markdown",
   "metadata": {},
   "source": [
    "Sólo hay un 0,15% de los registros sin información en alguna de las columnas numéricas"
   ]
  },
  {
   "cell_type": "code",
   "execution_count": 235,
   "metadata": {
    "jupyter": {
     "source_hidden": true
    }
   },
   "outputs": [
    {
     "name": "stdout",
     "output_type": "stream",
     "text": [
      "Valores vacíos en MonthlyCharges  0\n",
      "Valores vacíos en TotalCharges  11\n"
     ]
    },
    {
     "name": "stderr",
     "output_type": "stream",
     "text": [
      "C:\\Users\\jmanu\\Anaconda3\\envs\\IEBS\\lib\\site-packages\\pandas\\core\\ops\\array_ops.py:253: FutureWarning: elementwise comparison failed; returning scalar instead, but in the future will perform elementwise comparison\n",
      "  res_values = method(rvalues)\n"
     ]
    }
   ],
   "source": [
    "# Verificación de valores en las columnas numéricas\n",
    "print(\"Valores vacíos en MonthlyCharges \", (df_telco_cust_churn_processed[\"MonthlyCharges\"] == \" \").sum())\n",
    "print(\"Valores vacíos en TotalCharges \", (df_telco_cust_churn_processed[\"TotalCharges\"] == \" \").sum())"
   ]
  },
  {
   "cell_type": "markdown",
   "metadata": {},
   "source": [
    "Los valores de los servicios añadidos a la línea de internet son consistentes con la columna que indica si tiene servicio de internet o no"
   ]
  },
  {
   "cell_type": "code",
   "execution_count": 236,
   "metadata": {
    "jupyter": {
     "source_hidden": true
    }
   },
   "outputs": [
    {
     "name": "stdout",
     "output_type": "stream",
     "text": [
      "Valores para InternetServiceType = No: HasOnlineSecurity:  ['No internet service']\n",
      "Valores para InternetServiceType = No: HasOnlineBackup:  ['No internet service']\n",
      "Valores para InternetServiceType = No: HasDeviceProtection:  ['No internet service']\n",
      "Valores para InternetServiceType = No: HasTechSupport:  ['No internet service']\n",
      "Valores para InternetServiceType = No: HasStreamingTV:  ['No internet service']\n",
      "Valores para InternetServiceType = No: HasStreamingMovies:  ['No internet service']\n"
     ]
    }
   ],
   "source": [
    "internet_rel_cols = [\"HasOnlineSecurity\", \"HasOnlineBackup\", \"HasDeviceProtection\",\"HasTechSupport\", \"HasStreamingTV\", \"HasStreamingMovies\"]\n",
    "\n",
    "for i in internet_rel_cols:\n",
    "    print(f\"Valores para InternetServiceType = No: {i}: \", df_telco_cust_churn_no_internet[i].unique())\n",
    "\n"
   ]
  },
  {
   "cell_type": "markdown",
   "metadata": {},
   "source": [
    "# Preparación de los datos para ser analizados"
   ]
  },
  {
   "cell_type": "markdown",
   "metadata": {},
   "source": [
    "## Adaptación de los valores en las columnas"
   ]
  },
  {
   "cell_type": "markdown",
   "metadata": {},
   "source": [
    "En las columnas con servicios añadidos a la línea de internet (OnlineSecurity, OnlineBackup, DeviceProtection, TechSupport, StreamingTV, StreamingMovies), aparecen los valores \"Yes\", \"No\" y \"No internet service\". Reemplazaremos el valor \"No internet service\" por \"No\" para que sea más sencillo el análisis."
   ]
  },
  {
   "cell_type": "code",
   "execution_count": 237,
   "metadata": {
    "jupyter": {
     "source_hidden": true
    }
   },
   "outputs": [],
   "source": [
    "# Reemplazo de los valores \"No internet service\" por \"No\".\n",
    "for i in internet_rel_cols:\n",
    "    df_telco_cust_churn_processed[i] = df_telco_cust_churn_processed[i].replace(\"No internet service\", \"No\")"
   ]
  },
  {
   "cell_type": "markdown",
   "metadata": {},
   "source": [
    "En la columna HasMultipleLines reemplazamos el valor \"No phone service\" por \"No\" para que sea más sencillo el análisis. Si el cliente tiene o no contratado el servicio de telefonía está en otra columna"
   ]
  },
  {
   "cell_type": "code",
   "execution_count": 238,
   "metadata": {
    "jupyter": {
     "source_hidden": true
    }
   },
   "outputs": [
    {
     "data": {
      "text/plain": [
       "array(['No', 'Yes'], dtype=object)"
      ]
     },
     "execution_count": 238,
     "metadata": {},
     "output_type": "execute_result"
    }
   ],
   "source": [
    "# Reemplazo de los valores \"No phone service\" por \"No\"\n",
    "df_telco_cust_churn_processed[\"HasMultipleLines\"] = df_telco_cust_churn_processed[\"HasMultipleLines\"].replace(\"No phone service\", \"No\")\n",
    "df_telco_cust_churn_processed[\"HasMultipleLines\"].unique()"
   ]
  },
  {
   "cell_type": "markdown",
   "metadata": {},
   "source": [
    "Cambiamos los valores para indicar si es cliente senior de 0/1 a Yes/No para que sea consistente con el resto de columnas"
   ]
  },
  {
   "cell_type": "code",
   "execution_count": 239,
   "metadata": {
    "jupyter": {
     "source_hidden": true
    }
   },
   "outputs": [
    {
     "data": {
      "text/plain": [
       "array(['No', 'Yes'], dtype=object)"
      ]
     },
     "execution_count": 239,
     "metadata": {},
     "output_type": "execute_result"
    }
   ],
   "source": [
    "# Uso de valores \"Yes\" y \"No\" en IsSeniorCitizen\n",
    "df_telco_cust_churn_processed[\"IsSeniorCitizen\"] = df_telco_cust_churn_processed[\"IsSeniorCitizen\"].replace(1, \"Yes\")\n",
    "df_telco_cust_churn_processed[\"IsSeniorCitizen\"] = df_telco_cust_churn_processed[\"IsSeniorCitizen\"].replace(0, \"No\")\n",
    "df_telco_cust_churn_processed[\"IsSeniorCitizen\"].unique()"
   ]
  },
  {
   "cell_type": "markdown",
   "metadata": {},
   "source": [
    "## Tratamiento sobe valores faltantes\n",
    "Puesto que el dataset tiene valores para todos los registros y todas las columnas, salvo para pocos registros en la columna TotalCharges, elimino estos pocos registros para el dataset esté completo.\n",
    "En el caso de que hubiera muchos registros en los que faltara valores, para no perder tantos datos, podríamos inferir los valores faltantes."
   ]
  },
  {
   "cell_type": "code",
   "execution_count": 240,
   "metadata": {},
   "outputs": [],
   "source": [
    "# Eliminación de los registros para los que no hay velor en TotalCharges\n",
    "df_telco_cust_churn_processed = df_telco_cust_churn_processed[df_telco_cust_churn_processed[\"TotalCharges\"] != \" \"]"
   ]
  },
  {
   "cell_type": "markdown",
   "metadata": {},
   "source": [
    "## Análisis de outliers"
   ]
  },
  {
   "cell_type": "code",
   "execution_count": null,
   "metadata": {},
   "outputs": [],
   "source": []
  },
  {
   "cell_type": "markdown",
   "metadata": {},
   "source": [
    "## Adaptación de los tipos de datos"
   ]
  },
  {
   "cell_type": "code",
   "execution_count": 241,
   "metadata": {
    "jupyter": {
     "source_hidden": true
    }
   },
   "outputs": [
    {
     "name": "stdout",
     "output_type": "stream",
     "text": [
      "<class 'pandas.core.frame.DataFrame'>\n",
      "Int64Index: 7032 entries, 0 to 7042\n",
      "Data columns (total 21 columns):\n",
      " #   Column               Non-Null Count  Dtype  \n",
      "---  ------               --------------  -----  \n",
      " 0   CustomerID           7032 non-null   object \n",
      " 1   Gender               7032 non-null   object \n",
      " 2   IsSeniorCitizen      7032 non-null   object \n",
      " 3   IsPartner            7032 non-null   object \n",
      " 4   HasDependents        7032 non-null   object \n",
      " 5   MonthsInCompany      7032 non-null   int64  \n",
      " 6   HasPhoneService      7032 non-null   object \n",
      " 7   HasMultipleLines     7032 non-null   object \n",
      " 8   InternetServiceType  7032 non-null   object \n",
      " 9   HasOnlineSecurity    7032 non-null   object \n",
      " 10  HasOnlineBackup      7032 non-null   object \n",
      " 11  HasDeviceProtection  7032 non-null   object \n",
      " 12  HasTechSupport       7032 non-null   object \n",
      " 13  HasStreamingTV       7032 non-null   object \n",
      " 14  HasStreamingMovies   7032 non-null   object \n",
      " 15  ContractTerm         7032 non-null   object \n",
      " 16  HasPaperlessBilling  7032 non-null   object \n",
      " 17  PaymentMethod        7032 non-null   object \n",
      " 18  MonthlyCharges       7032 non-null   float64\n",
      " 19  TotalCharges         7032 non-null   object \n",
      " 20  Abandoned            7032 non-null   object \n",
      "dtypes: float64(1), int64(1), object(19)\n",
      "memory usage: 1.2+ MB\n"
     ]
    }
   ],
   "source": [
    "df_telco_cust_churn_processed.info()"
   ]
  },
  {
   "cell_type": "markdown",
   "metadata": {},
   "source": [
    "Cambiamos el valor del campo TotalCharges para que sea numérico. Antes no era numérico porque no todos los valores eran numéricos, había valores \" \""
   ]
  },
  {
   "cell_type": "code",
   "execution_count": 242,
   "metadata": {
    "jupyter": {
     "source_hidden": true
    }
   },
   "outputs": [],
   "source": [
    "df_telco_cust_churn_processed[\"TotalCharges\"] = df_telco_cust_churn_processed[\"TotalCharges\"].astype(float)"
   ]
  },
  {
   "cell_type": "code",
   "execution_count": 243,
   "metadata": {
    "jupyter": {
     "source_hidden": true
    }
   },
   "outputs": [
    {
     "name": "stdout",
     "output_type": "stream",
     "text": [
      "<class 'pandas.core.frame.DataFrame'>\n",
      "Int64Index: 7032 entries, 0 to 7042\n",
      "Data columns (total 21 columns):\n",
      " #   Column               Non-Null Count  Dtype  \n",
      "---  ------               --------------  -----  \n",
      " 0   CustomerID           7032 non-null   object \n",
      " 1   Gender               7032 non-null   object \n",
      " 2   IsSeniorCitizen      7032 non-null   object \n",
      " 3   IsPartner            7032 non-null   object \n",
      " 4   HasDependents        7032 non-null   object \n",
      " 5   MonthsInCompany      7032 non-null   int64  \n",
      " 6   HasPhoneService      7032 non-null   object \n",
      " 7   HasMultipleLines     7032 non-null   object \n",
      " 8   InternetServiceType  7032 non-null   object \n",
      " 9   HasOnlineSecurity    7032 non-null   object \n",
      " 10  HasOnlineBackup      7032 non-null   object \n",
      " 11  HasDeviceProtection  7032 non-null   object \n",
      " 12  HasTechSupport       7032 non-null   object \n",
      " 13  HasStreamingTV       7032 non-null   object \n",
      " 14  HasStreamingMovies   7032 non-null   object \n",
      " 15  ContractTerm         7032 non-null   object \n",
      " 16  HasPaperlessBilling  7032 non-null   object \n",
      " 17  PaymentMethod        7032 non-null   object \n",
      " 18  MonthlyCharges       7032 non-null   float64\n",
      " 19  TotalCharges         7032 non-null   float64\n",
      " 20  Abandoned            7032 non-null   object \n",
      "dtypes: float64(2), int64(1), object(18)\n",
      "memory usage: 1.2+ MB\n"
     ]
    }
   ],
   "source": [
    "df_telco_cust_churn_processed.info()"
   ]
  },
  {
   "cell_type": "markdown",
   "metadata": {},
   "source": [
    "# Análisis del dataset"
   ]
  },
  {
   "cell_type": "markdown",
   "metadata": {},
   "source": [
    "## Balanceo del dataset\n",
    "% de casos de abandono en los datos"
   ]
  },
  {
   "cell_type": "code",
   "execution_count": 244,
   "metadata": {},
   "outputs": [
    {
     "data": {
      "text/html": [
       "<div>\n",
       "<style scoped>\n",
       "    .dataframe tbody tr th:only-of-type {\n",
       "        vertical-align: middle;\n",
       "    }\n",
       "\n",
       "    .dataframe tbody tr th {\n",
       "        vertical-align: top;\n",
       "    }\n",
       "\n",
       "    .dataframe thead th {\n",
       "        text-align: right;\n",
       "    }\n",
       "</style>\n",
       "<table border=\"1\" class=\"dataframe\">\n",
       "  <thead>\n",
       "    <tr style=\"text-align: right;\">\n",
       "      <th></th>\n",
       "      <th>CustomerID</th>\n",
       "    </tr>\n",
       "    <tr>\n",
       "      <th>Abandoned</th>\n",
       "      <th></th>\n",
       "    </tr>\n",
       "  </thead>\n",
       "  <tbody>\n",
       "    <tr>\n",
       "      <th>No</th>\n",
       "      <td>5163</td>\n",
       "    </tr>\n",
       "    <tr>\n",
       "      <th>Yes</th>\n",
       "      <td>1869</td>\n",
       "    </tr>\n",
       "  </tbody>\n",
       "</table>\n",
       "</div>"
      ],
      "text/plain": [
       "           CustomerID\n",
       "Abandoned            \n",
       "No               5163\n",
       "Yes              1869"
      ]
     },
     "execution_count": 244,
     "metadata": {},
     "output_type": "execute_result"
    }
   ],
   "source": [
    "df_telco_cust_churn_processed.groupby([\"Abandoned\"]).count()[[\"CustomerID\"]]"
   ]
  },
  {
   "cell_type": "code",
   "execution_count": 258,
   "metadata": {
    "jupyter": {
     "source_hidden": true
    }
   },
   "outputs": [
    {
     "data": {
      "text/plain": [
       "<matplotlib.axes._subplots.AxesSubplot at 0x2f235d36288>"
      ]
     },
     "execution_count": 258,
     "metadata": {},
     "output_type": "execute_result"
    },
    {
     "data": {
      "image/png": "[encoded data removed]",
      "text/plain": [
       "<Figure size 432x288 with 1 Axes>"
      ]
     },
     "metadata": {},
     "output_type": "display_data"
    }
   ],
   "source": [
    "df_telco_cust_churn_processed.groupby([\"Abandoned\"]).count()[[\"CustomerID\"]]\\\n",
    "    .plot(kind='pie', y=\"CustomerID\",autopct='%1.1f%%', title=\"Clientes que han abandonado\")"
   ]
  },
  {
   "cell_type": "markdown",
   "metadata": {},
   "source": [
    "El dataset está desbalanceado: hay muchos más casos de permanencia que de abandono"
   ]
  },
  {
   "cell_type": "markdown",
   "metadata": {},
   "source": [
    "## Incidencia de los factores demográficos en el abandono\n",
    "Análisis de la incidencia del género, edad y dependientes en el abandono"
   ]
  },
  {
   "cell_type": "markdown",
   "metadata": {},
   "source": [
    "### Género\n",
    "El género no parece que influya en la tasa de abandono, puesto que, tanto en los clientes que abandonaron como en los que no lo hicieron, el porcentaje de mujeres y hombres es aproximadamente la mitad."
   ]
  },
  {
   "cell_type": "code",
   "execution_count": 259,
   "metadata": {
    "jupyter": {
     "source_hidden": true
    }
   },
   "outputs": [
    {
     "data": {
      "text/plain": [
       "<matplotlib.axes._subplots.AxesSubplot at 0x2f235d8b508>"
      ]
     },
     "execution_count": 259,
     "metadata": {},
     "output_type": "execute_result"
    },
    {
     "data": {
      "image/png": "[encoded data removed]",
      "text/plain": [
       "<Figure size 432x288 with 1 Axes>"
      ]
     },
     "metadata": {},
     "output_type": "display_data"
    }
   ],
   "source": [
    "df_telco_cust_churn_processed[df_telco_cust_churn_processed[\"Abandoned\"]==\"Yes\"].groupby([\"Gender\"]).count()[[\"CustomerID\"]]\\\n",
    "    .plot(kind = \"pie\", y = \"CustomerID\", autopct='%1.1f%%', title = \"Género de los clientes que han abandonado\")"
   ]
  },
  {
   "cell_type": "code",
   "execution_count": 260,
   "metadata": {
    "jupyter": {
     "source_hidden": true
    }
   },
   "outputs": [
    {
     "data": {
      "text/plain": [
       "<matplotlib.axes._subplots.AxesSubplot at 0x2f235ddff08>"
      ]
     },
     "execution_count": 260,
     "metadata": {},
     "output_type": "execute_result"
    },
    {
     "data": {
      "image/png": "[encoded data removed]",
      "text/plain": [
       "<Figure size 432x288 with 1 Axes>"
      ]
     },
     "metadata": {},
     "output_type": "display_data"
    }
   ],
   "source": [
    "df_telco_cust_churn_processed[df_telco_cust_churn_processed[\"Abandoned\"]==\"No\"].groupby([\"Gender\"]).count()[[\"CustomerID\"]]\\\n",
    "    .plot(kind = \"pie\", y = \"CustomerID\", autopct='%1.1f%%', title = \"Género de los clientes que NO han abandonado\")"
   ]
  },
  {
   "cell_type": "markdown",
   "metadata": {},
   "source": [
    "### Edad\n",
    "Parece que los clientes senior son más propensos a abandonar"
   ]
  },
  {
   "cell_type": "code",
   "execution_count": 261,
   "metadata": {},
   "outputs": [
    {
     "data": {
      "text/plain": [
       "<matplotlib.axes._subplots.AxesSubplot at 0x2f235e35848>"
      ]
     },
     "execution_count": 261,
     "metadata": {},
     "output_type": "execute_result"
    },
    {
     "data": {
      "image/png": "[encoded data removed]",
      "text/plain": [
       "<Figure size 432x288 with 1 Axes>"
      ]
     },
     "metadata": {},
     "output_type": "display_data"
    }
   ],
   "source": [
    "df_telco_cust_churn_processed[df_telco_cust_churn_processed[\"Abandoned\"]==\"Yes\"].groupby([\"IsSeniorCitizen\"]).count()[[\"CustomerID\"]]\\\n",
    "    .plot(kind = \"pie\", y = \"CustomerID\", autopct='%1.1f%%', title = \"Edad de los clientes que han abandonado\")"
   ]
  },
  {
   "cell_type": "code",
   "execution_count": 262,
   "metadata": {
    "jupyter": {
     "source_hidden": true
    }
   },
   "outputs": [
    {
     "data": {
      "text/plain": [
       "<matplotlib.axes._subplots.AxesSubplot at 0x2f236eba3c8>"
      ]
     },
     "execution_count": 262,
     "metadata": {},
     "output_type": "execute_result"
    },
    {
     "data": {
      "image/png": "[encoded data removed]",
      "text/plain": [
       "<Figure size 432x288 with 1 Axes>"
      ]
     },
     "metadata": {},
     "output_type": "display_data"
    }
   ],
   "source": [
    "df_telco_cust_churn_processed[df_telco_cust_churn_processed[\"Abandoned\"]==\"No\"].groupby([\"IsSeniorCitizen\"]).count()[[\"CustomerID\"]]\\\n",
    "    .plot(kind = \"pie\", y = \"CustomerID\", autopct='%1.1f%%', title = \"Edad de los clientes que NO han abandonado\")"
   ]
  },
  {
   "cell_type": "markdown",
   "metadata": {},
   "source": [
    "### Dependientes\n",
    "Parece que los clientes sin dependientes son más propensos a abandonar"
   ]
  },
  {
   "cell_type": "code",
   "execution_count": 263,
   "metadata": {
    "jupyter": {
     "source_hidden": true
    }
   },
   "outputs": [
    {
     "data": {
      "text/plain": [
       "<matplotlib.axes._subplots.AxesSubplot at 0x2f236f10e88>"
      ]
     },
     "execution_count": 263,
     "metadata": {},
     "output_type": "execute_result"
    },
    {
     "data": {
      "image/png": "[encoded data removed]",
      "text/plain": [
       "<Figure size 432x288 with 1 Axes>"
      ]
     },
     "metadata": {},
     "output_type": "display_data"
    }
   ],
   "source": [
    "df_telco_cust_churn_processed[df_telco_cust_churn_processed[\"Abandoned\"]==\"Yes\"].groupby([\"HasDependents\"]).count()[[\"CustomerID\"]]\\\n",
    "    .plot(kind = \"pie\", y = \"CustomerID\", autopct='%1.1f%%', title = \"Clientes con dependientes que han abandonado\")"
   ]
  },
  {
   "cell_type": "code",
   "execution_count": 271,
   "metadata": {},
   "outputs": [
    {
     "data": {
      "text/plain": [
       "<matplotlib.axes._subplots.AxesSubplot at 0x2f23777b588>"
      ]
     },
     "execution_count": 271,
     "metadata": {},
     "output_type": "execute_result"
    },
    {
     "data": {
      "image/png": "[encoded data removed]",
      "text/plain": [
       "<Figure size 432x288 with 1 Axes>"
      ]
     },
     "metadata": {},
     "output_type": "display_data"
    }
   ],
   "source": [
    "df_telco_cust_churn_processed[df_telco_cust_churn_processed[\"Abandoned\"]==\"No\"].groupby([\"HasDependents\"]).count()[[\"CustomerID\"]]\\\n",
    "    .plot(kind = \"pie\", y = \"CustomerID\", autopct='%1.1f%%', title = \"Clientes con dependientes que NO han abandonado\")"
   ]
  },
  {
   "cell_type": "markdown",
   "metadata": {},
   "source": [
    "## Incidencia de la antigüedad de los clientes en el abandono\n",
    "Los clientes más recientes, sobre todos los que llevan en la compañía menos de un año, tienen mayor tasa de abandono. A partir del tercer año de permanencia, los clientes son mucho menos propensos a abandonar."
   ]
  },
  {
   "cell_type": "code",
   "execution_count": 338,
   "metadata": {},
   "outputs": [
    {
     "data": {
      "text/plain": [
       "<matplotlib.axes._subplots.AxesSubplot at 0x2f23aa49c48>"
      ]
     },
     "execution_count": 338,
     "metadata": {},
     "output_type": "execute_result"
    },
    {
     "data": {
      "image/png": "[encoded data removed]",
      "text/plain": [
       "<Figure size 432x288 with 1 Axes>"
      ]
     },
     "metadata": {
      "needs_background": "light"
     },
     "output_type": "display_data"
    }
   ],
   "source": [
    "df_telco_cust_churn_processed[df_telco_cust_churn_processed[\"Abandoned\"]==\"Yes\"].groupby([\"MonthsInCompany\"]).count()[[\"CustomerID\"]]\\\n",
    "    .plot(kind = \"bar\", title = \"Antigüedad de los clientes que han abandonado\")"
   ]
  },
  {
   "cell_type": "code",
   "execution_count": 339,
   "metadata": {},
   "outputs": [
    {
     "data": {
      "text/plain": [
       "<matplotlib.axes._subplots.AxesSubplot at 0x2f23ac1d0c8>"
      ]
     },
     "execution_count": 339,
     "metadata": {},
     "output_type": "execute_result"
    },
    {
     "data": {
      "image/png": "[encoded data removed]",
      "text/plain": [
       "<Figure size 432x288 with 1 Axes>"
      ]
     },
     "metadata": {
      "needs_background": "light"
     },
     "output_type": "display_data"
    }
   ],
   "source": [
    "df_telco_cust_churn_processed[df_telco_cust_churn_processed[\"Abandoned\"]==\"No\"].groupby([\"MonthsInCompany\"]).count()[[\"CustomerID\"]]\\\n",
    "    .plot(kind = \"bar\",  title = \"Antigüedad de los clientes que NO han abandonado\")"
   ]
  },
  {
   "cell_type": "code",
   "execution_count": 371,
   "metadata": {},
   "outputs": [
    {
     "data": {
      "text/plain": [
       "72"
      ]
     },
     "execution_count": 371,
     "metadata": {},
     "output_type": "execute_result"
    }
   ],
   "source": [
    "max(df_telco_cust_churn_processed[\"MonthsInCompany\"])"
   ]
  },
  {
   "cell_type": "markdown",
   "metadata": {},
   "source": [
    "Para realizar este análisis mejor, agruparemos a los clientes en segmentos de antigüedad."
   ]
  },
  {
   "cell_type": "code",
   "execution_count": 391,
   "metadata": {},
   "outputs": [],
   "source": [
    "def months_segment(df_telco_cust_churn_processed):\n",
    "    if df_telco_cust_churn_processed[\"MonthsInCompany\"] <= 12:\n",
    "        return \"0_12\"\n",
    "    elif (df_telco_cust_churn_processed[\"MonthsInCompany\"] <= 24) & (df_telco_cust_churn_processed[\"MonthsInCompany\"] > 12):\n",
    "        return \"12_24\"\n",
    "    elif (df_telco_cust_churn_processed[\"MonthsInCompany\"] <= 36) & (df_telco_cust_churn_processed[\"MonthsInCompany\"] > 24):\n",
    "        return \"24_36\"\n",
    "    elif (df_telco_cust_churn_processed[\"MonthsInCompany\"] <= 48) & (df_telco_cust_churn_processed[\"MonthsInCompany\"] > 36):\n",
    "        return \"26_48\"\n",
    "    elif (df_telco_cust_churn_processed[\"MonthsInCompany\"] <= 60) & (df_telco_cust_churn_processed[\"MonthsInCompany\"] > 48):\n",
    "        return \"48_60\"\n",
    "    elif (df_telco_cust_churn_processed[\"MonthsInCompany\"] <= 72) & (df_telco_cust_churn_processed[\"MonthsInCompany\"] > 60):\n",
    "        return \"60_72\"\n",
    "    else:\n",
    "        return \">72\"\n",
    "\n",
    "    \n",
    "df_telco_cust_churn_processed[\"MonthsInCompanySegment\"] = df_telco_cust_churn_processed.apply(lambda df_telco_cust_churn_processed:months_segment(df_telco_cust_churn_processed), axis = 1)"
   ]
  },
  {
   "cell_type": "code",
   "execution_count": 394,
   "metadata": {},
   "outputs": [
    {
     "data": {
      "text/plain": [
       "<matplotlib.axes._subplots.AxesSubplot at 0x2f23aed63c8>"
      ]
     },
     "execution_count": 394,
     "metadata": {},
     "output_type": "execute_result"
    },
    {
     "data": {
      "image/png": "[encoded data removed]",
      "text/plain": [
       "<Figure size 432x288 with 1 Axes>"
      ]
     },
     "metadata": {
      "needs_background": "light"
     },
     "output_type": "display_data"
    }
   ],
   "source": [
    "df_telco_cust_churn_processed[df_telco_cust_churn_processed[\"Abandoned\"]==\"Yes\"].groupby([\"MonthsInCompanySegment\"]).count()[[\"CustomerID\"]]\\\n",
    "    .plot(kind=\"bar\", title = \"Antigüedad de los clientes que han abandonado\")"
   ]
  },
  {
   "cell_type": "code",
   "execution_count": 395,
   "metadata": {},
   "outputs": [
    {
     "data": {
      "text/plain": [
       "<matplotlib.axes._subplots.AxesSubplot at 0x2f23b196288>"
      ]
     },
     "execution_count": 395,
     "metadata": {},
     "output_type": "execute_result"
    },
    {
     "data": {
      "image/png": "[encoded data removed]",
      "text/plain": [
       "<Figure size 432x288 with 1 Axes>"
      ]
     },
     "metadata": {
      "needs_background": "light"
     },
     "output_type": "display_data"
    }
   ],
   "source": [
    "df_telco_cust_churn_processed[df_telco_cust_churn_processed[\"Abandoned\"]==\"No\"].groupby([\"MonthsInCompanySegment\"]).count()[[\"CustomerID\"]]\\\n",
    "    .plot(kind=\"bar\", title = \"Antigüedad de los clientes que NO han abandonado\")"
   ]
  },
  {
   "cell_type": "markdown",
   "metadata": {},
   "source": [
    "## Incidencia en el abandono de si los clientes son partner"
   ]
  },
  {
   "cell_type": "code",
   "execution_count": 272,
   "metadata": {
    "jupyter": {
     "source_hidden": true
    }
   },
   "outputs": [
    {
     "data": {
      "text/plain": [
       "<matplotlib.axes._subplots.AxesSubplot at 0x2f2377d0b88>"
      ]
     },
     "execution_count": 272,
     "metadata": {},
     "output_type": "execute_result"
    },
    {
     "data": {
      "image/png": "[encoded data removed]",
      "text/plain": [
       "<Figure size 432x288 with 1 Axes>"
      ]
     },
     "metadata": {},
     "output_type": "display_data"
    }
   ],
   "source": [
    "df_telco_cust_churn_processed[df_telco_cust_churn_processed[\"Abandoned\"]==\"Yes\"].groupby([\"IsPartner\"]).count()[[\"CustomerID\"]]\\\n",
    "    .plot(kind = \"pie\", y = \"CustomerID\", autopct='%1.1f%%', title = \"Partnership de los clientes que han abandonado\")"
   ]
  },
  {
   "cell_type": "code",
   "execution_count": 273,
   "metadata": {
    "jupyter": {
     "source_hidden": true
    }
   },
   "outputs": [
    {
     "data": {
      "text/plain": [
       "<matplotlib.axes._subplots.AxesSubplot at 0x2f23781bac8>"
      ]
     },
     "execution_count": 273,
     "metadata": {},
     "output_type": "execute_result"
    },
    {
     "data": {
      "image/png": "[encoded data removed]",
      "text/plain": [
       "<Figure size 432x288 with 1 Axes>"
      ]
     },
     "metadata": {},
     "output_type": "display_data"
    }
   ],
   "source": [
    "df_telco_cust_churn_processed[df_telco_cust_churn_processed[\"Abandoned\"]==\"No\"].groupby([\"IsPartner\"]).count()[[\"CustomerID\"]]\\\n",
    "    .plot(kind = \"pie\", y = \"CustomerID\", autopct='%1.1f%%', title = \"Partnership de los clientes que NO han abandonado\")"
   ]
  },
  {
   "cell_type": "markdown",
   "metadata": {},
   "source": [
    "## Incidencia en el abandono de los productos de telefonía que tienen contratados los clientes\n",
    "La línea de teléfono no parece un factor determinante en el abandono de los clientes."
   ]
  },
  {
   "cell_type": "code",
   "execution_count": 292,
   "metadata": {},
   "outputs": [
    {
     "data": {
      "text/plain": [
       "<matplotlib.axes._subplots.AxesSubplot at 0x2f238d22788>"
      ]
     },
     "execution_count": 292,
     "metadata": {},
     "output_type": "execute_result"
    },
    {
     "data": {
      "image/png": "[encoded data removed]",
      "text/plain": [
       "<Figure size 432x288 with 1 Axes>"
      ]
     },
     "metadata": {},
     "output_type": "display_data"
    }
   ],
   "source": [
    "df_telco_cust_churn_processed[df_telco_cust_churn_processed[\"Abandoned\"]==\"Yes\"].groupby([\"HasPhoneService\"]).count()[[\"CustomerID\"]]\\\n",
    "    .plot(kind = \"pie\", y = \"CustomerID\", autopct='%1.1f%%', title = \"Clientes que han abandonado, en función de si tienen línea de teléfono\")"
   ]
  },
  {
   "cell_type": "code",
   "execution_count": 291,
   "metadata": {},
   "outputs": [
    {
     "data": {
      "text/plain": [
       "<matplotlib.axes._subplots.AxesSubplot at 0x2f238ccddc8>"
      ]
     },
     "execution_count": 291,
     "metadata": {},
     "output_type": "execute_result"
    },
    {
     "data": {
      "image/png": "[encoded data removed]",
      "text/plain": [
       "<Figure size 432x288 with 1 Axes>"
      ]
     },
     "metadata": {},
     "output_type": "display_data"
    }
   ],
   "source": [
    "df_telco_cust_churn_processed[df_telco_cust_churn_processed[\"Abandoned\"]==\"No\"].groupby([\"HasPhoneService\"]).count()[[\"CustomerID\"]]\\\n",
    "    .plot(kind = \"pie\", y = \"CustomerID\", autopct='%1.1f%%', title = \"Clientes que NO han abandonado, en función de si tienen línea de teléfono\")"
   ]
  },
  {
   "cell_type": "code",
   "execution_count": 308,
   "metadata": {},
   "outputs": [
    {
     "data": {
      "text/plain": [
       "<matplotlib.axes._subplots.AxesSubplot at 0x2f238f64148>"
      ]
     },
     "execution_count": 308,
     "metadata": {},
     "output_type": "execute_result"
    },
    {
     "data": {
      "image/png": "[encoded data removed]",
      "text/plain": [
       "<Figure size 432x288 with 1 Axes>"
      ]
     },
     "metadata": {},
     "output_type": "display_data"
    }
   ],
   "source": [
    "df_telco_cust_churn_processed[(df_telco_cust_churn_processed[\"Abandoned\"]==\"Yes\") & (df_telco_cust_churn_processed[\"HasPhoneService\"]==\"Yes\")].groupby([\"HasMultipleLines\"]).count()[[\"CustomerID\"]]\\\n",
    " .plot(kind = \"pie\", y = \"CustomerID\", autopct='%1.1f%%', title = \"Clientes con línea de teléfono que han abandonado, en función de si tienen varias línea\")"
   ]
  },
  {
   "cell_type": "code",
   "execution_count": 309,
   "metadata": {},
   "outputs": [
    {
     "data": {
      "text/plain": [
       "<matplotlib.axes._subplots.AxesSubplot at 0x2f238fafcc8>"
      ]
     },
     "execution_count": 309,
     "metadata": {},
     "output_type": "execute_result"
    },
    {
     "data": {
      "image/png": "[encoded data removed]",
      "text/plain": [
       "<Figure size 432x288 with 1 Axes>"
      ]
     },
     "metadata": {},
     "output_type": "display_data"
    }
   ],
   "source": [
    "df_telco_cust_churn_processed[(df_telco_cust_churn_processed[\"Abandoned\"]==\"No\") & (df_telco_cust_churn_processed[\"HasPhoneService\"]==\"Yes\")].groupby([\"HasMultipleLines\"]).count()[[\"CustomerID\"]]\\\n",
    " .plot(kind = \"pie\", y = \"CustomerID\", autopct='%1.1f%%', title = \"Clientes con línea de teléfono que han abandonado, en función de si tienen varias línea\")"
   ]
  },
  {
   "cell_type": "markdown",
   "metadata": {},
   "source": [
    "## Incidencia an el abandono de los productos de internet / online que tienen contratados los clientes\n",
    "Los clientes que tienen contratada fibra óptica son más propensos a abandonar, mientras que los que no tienen contratado internet - sólo telefonía - o tienen DSL son menos propensos a abandonar."
   ]
  },
  {
   "cell_type": "code",
   "execution_count": 310,
   "metadata": {},
   "outputs": [
    {
     "data": {
      "text/plain": [
       "<matplotlib.axes._subplots.AxesSubplot at 0x2f239008308>"
      ]
     },
     "execution_count": 310,
     "metadata": {},
     "output_type": "execute_result"
    },
    {
     "data": {
      "image/png": "[encoded data removed]",
      "text/plain": [
       "<Figure size 432x288 with 1 Axes>"
      ]
     },
     "metadata": {},
     "output_type": "display_data"
    }
   ],
   "source": [
    "df_telco_cust_churn_processed[df_telco_cust_churn_processed[\"Abandoned\"]==\"Yes\"].groupby([\"HasPhoneService\",\"InternetServiceType\"]).count()[[\"CustomerID\"]]\\\n",
    "    .plot(kind = \"pie\", y = \"CustomerID\", autopct='%1.1f%%', title = \"Clientes que han abandonado, en función de los productos de telefonía e internet que tienen contratados\")"
   ]
  },
  {
   "cell_type": "code",
   "execution_count": 311,
   "metadata": {},
   "outputs": [
    {
     "data": {
      "text/plain": [
       "<matplotlib.axes._subplots.AxesSubplot at 0x2f239076748>"
      ]
     },
     "execution_count": 311,
     "metadata": {},
     "output_type": "execute_result"
    },
    {
     "data": {
      "image/png": "[encoded data removed]",
      "text/plain": [
       "<Figure size 432x288 with 1 Axes>"
      ]
     },
     "metadata": {},
     "output_type": "display_data"
    }
   ],
   "source": [
    "df_telco_cust_churn_processed[df_telco_cust_churn_processed[\"Abandoned\"]==\"No\"].groupby([\"HasPhoneService\",\"InternetServiceType\"]).count()[[\"CustomerID\"]]\\\n",
    "    .plot(kind = \"pie\", y = \"CustomerID\", autopct='%1.1f%%', title = \"Clientes que NO han abandonado, en función de los productos de telefonía e internet que tienen contratados\")"
   ]
  },
  {
   "cell_type": "code",
   "execution_count": 313,
   "metadata": {
    "jupyter": {
     "source_hidden": true
    }
   },
   "outputs": [
    {
     "data": {
      "text/plain": [
       "<matplotlib.axes._subplots.AxesSubplot at 0x2f2390e0f48>"
      ]
     },
     "execution_count": 313,
     "metadata": {},
     "output_type": "execute_result"
    },
    {
     "data": {
      "image/png": "[encoded data removed]",
      "text/plain": [
       "<Figure size 432x288 with 1 Axes>"
      ]
     },
     "metadata": {},
     "output_type": "display_data"
    }
   ],
   "source": [
    "df_telco_cust_churn_processed[df_telco_cust_churn_processed[\"Abandoned\"]==\"Yes\"].groupby([\"InternetServiceType\"]).count()[[\"CustomerID\"]]\\\n",
    "    .plot(kind = \"pie\", y = \"CustomerID\", autopct='%1.1f%%', title = \"Clientes que han abandonado, en función de los productos de internet que tienen contratados\")"
   ]
  },
  {
   "cell_type": "code",
   "execution_count": 315,
   "metadata": {
    "jupyter": {
     "source_hidden": true
    }
   },
   "outputs": [
    {
     "data": {
      "text/plain": [
       "<matplotlib.axes._subplots.AxesSubplot at 0x2f23a16f808>"
      ]
     },
     "execution_count": 315,
     "metadata": {},
     "output_type": "execute_result"
    },
    {
     "data": {
      "image/png": "[encoded data removed]",
      "text/plain": [
       "<Figure size 432x288 with 1 Axes>"
      ]
     },
     "metadata": {},
     "output_type": "display_data"
    }
   ],
   "source": [
    "df_telco_cust_churn_processed[df_telco_cust_churn_processed[\"Abandoned\"]==\"No\"].groupby([\"InternetServiceType\"]).count()[[\"CustomerID\"]]\\\n",
    "    .plot(kind = \"pie\", y = \"CustomerID\", autopct='%1.1f%%', title = \"Clientes que NO an abandonado, en función de los productos de internet que tienen contratados\")"
   ]
  },
  {
   "cell_type": "code",
   "execution_count": 400,
   "metadata": {},
   "outputs": [
    {
     "data": {
      "text/plain": [
       "<matplotlib.axes._subplots.AxesSubplot at 0x2f23c27f248>"
      ]
     },
     "execution_count": 400,
     "metadata": {},
     "output_type": "execute_result"
    },
    {
     "data": {
      "image/png": "[encoded data removed]",
      "text/plain": [
       "<Figure size 432x288 with 1 Axes>"
      ]
     },
     "metadata": {
      "needs_background": "light"
     },
     "output_type": "display_data"
    }
   ],
   "source": [
    "df_telco_cust_churn_processed[df_telco_cust_churn_processed[\"Abandoned\"]==\"Yes\"]\\\n",
    "    .groupby([\"HasOnlineSecurity\",\"HasOnlineBackup\",\"HasDeviceProtection\",\"HasTechSupport\",\"HasStreamingTV\",\"HasStreamingMovies\"]).count()[[\"CustomerID\"]]\\\n",
    "    .plot(kind = \"bar\", y = \"CustomerID\", title = \"Clientes que han abandonado, en función de los productos de internet / online que tienen contratados\")"
   ]
  },
  {
   "cell_type": "code",
   "execution_count": 398,
   "metadata": {},
   "outputs": [
    {
     "data": {
      "text/html": [
       "<div>\n",
       "<style scoped>\n",
       "    .dataframe tbody tr th:only-of-type {\n",
       "        vertical-align: middle;\n",
       "    }\n",
       "\n",
       "    .dataframe tbody tr th {\n",
       "        vertical-align: top;\n",
       "    }\n",
       "\n",
       "    .dataframe thead th {\n",
       "        text-align: right;\n",
       "    }\n",
       "</style>\n",
       "<table border=\"1\" class=\"dataframe\">\n",
       "  <thead>\n",
       "    <tr style=\"text-align: right;\">\n",
       "      <th></th>\n",
       "      <th></th>\n",
       "      <th></th>\n",
       "      <th></th>\n",
       "      <th></th>\n",
       "      <th></th>\n",
       "      <th>CustomerID</th>\n",
       "    </tr>\n",
       "    <tr>\n",
       "      <th>HasOnlineSecurity</th>\n",
       "      <th>HasOnlineBackup</th>\n",
       "      <th>HasDeviceProtection</th>\n",
       "      <th>HasTechSupport</th>\n",
       "      <th>HasStreamingTV</th>\n",
       "      <th>HasStreamingMovies</th>\n",
       "      <th></th>\n",
       "    </tr>\n",
       "  </thead>\n",
       "  <tbody>\n",
       "    <tr>\n",
       "      <th rowspan=\"5\" valign=\"top\">No</th>\n",
       "      <th rowspan=\"5\" valign=\"top\">No</th>\n",
       "      <th rowspan=\"5\" valign=\"top\">No</th>\n",
       "      <th rowspan=\"4\" valign=\"top\">No</th>\n",
       "      <th rowspan=\"2\" valign=\"top\">No</th>\n",
       "      <th>No</th>\n",
       "      <td>475</td>\n",
       "    </tr>\n",
       "    <tr>\n",
       "      <th>Yes</th>\n",
       "      <td>120</td>\n",
       "    </tr>\n",
       "    <tr>\n",
       "      <th rowspan=\"2\" valign=\"top\">Yes</th>\n",
       "      <th>No</th>\n",
       "      <td>105</td>\n",
       "    </tr>\n",
       "    <tr>\n",
       "      <th>Yes</th>\n",
       "      <td>131</td>\n",
       "    </tr>\n",
       "    <tr>\n",
       "      <th>Yes</th>\n",
       "      <th>No</th>\n",
       "      <th>No</th>\n",
       "      <td>27</td>\n",
       "    </tr>\n",
       "    <tr>\n",
       "      <th>...</th>\n",
       "      <th>...</th>\n",
       "      <th>...</th>\n",
       "      <th>...</th>\n",
       "      <th>...</th>\n",
       "      <th>...</th>\n",
       "      <td>...</td>\n",
       "    </tr>\n",
       "    <tr>\n",
       "      <th rowspan=\"5\" valign=\"top\">Yes</th>\n",
       "      <th rowspan=\"5\" valign=\"top\">Yes</th>\n",
       "      <th rowspan=\"5\" valign=\"top\">Yes</th>\n",
       "      <th>No</th>\n",
       "      <th>Yes</th>\n",
       "      <th>Yes</th>\n",
       "      <td>13</td>\n",
       "    </tr>\n",
       "    <tr>\n",
       "      <th rowspan=\"4\" valign=\"top\">Yes</th>\n",
       "      <th rowspan=\"2\" valign=\"top\">No</th>\n",
       "      <th>No</th>\n",
       "      <td>3</td>\n",
       "    </tr>\n",
       "    <tr>\n",
       "      <th>Yes</th>\n",
       "      <td>4</td>\n",
       "    </tr>\n",
       "    <tr>\n",
       "      <th rowspan=\"2\" valign=\"top\">Yes</th>\n",
       "      <th>No</th>\n",
       "      <td>3</td>\n",
       "    </tr>\n",
       "    <tr>\n",
       "      <th>Yes</th>\n",
       "      <td>15</td>\n",
       "    </tr>\n",
       "  </tbody>\n",
       "</table>\n",
       "<p>64 rows × 1 columns</p>\n",
       "</div>"
      ],
      "text/plain": [
       "                                                                                                        CustomerID\n",
       "HasOnlineSecurity HasOnlineBackup HasDeviceProtection HasTechSupport HasStreamingTV HasStreamingMovies            \n",
       "No                No              No                  No             No             No                         475\n",
       "                                                                                    Yes                        120\n",
       "                                                                     Yes            No                         105\n",
       "                                                                                    Yes                        131\n",
       "                                                      Yes            No             No                          27\n",
       "...                                                                                                            ...\n",
       "Yes               Yes             Yes                 No             Yes            Yes                         13\n",
       "                                                      Yes            No             No                           3\n",
       "                                                                                    Yes                          4\n",
       "                                                                     Yes            No                           3\n",
       "                                                                                    Yes                         15\n",
       "\n",
       "[64 rows x 1 columns]"
      ]
     },
     "execution_count": 398,
     "metadata": {},
     "output_type": "execute_result"
    }
   ],
   "source": [
    "df_telco_cust_churn_processed[df_telco_cust_churn_processed[\"Abandoned\"]==\"Yes\"]\\\n",
    "    .groupby([\"HasOnlineSecurity\",\"HasOnlineBackup\",\"HasDeviceProtection\",\"HasTechSupport\",\"HasStreamingTV\",\"HasStreamingMovies\"]).count()[[\"CustomerID\"]]"
   ]
  },
  {
   "cell_type": "markdown",
   "metadata": {},
   "source": [
    "Creo columnas contando los diferentes productos de internet para los clientes que han abandonado y los que no"
   ]
  },
  {
   "cell_type": "code",
   "execution_count": 417,
   "metadata": {},
   "outputs": [],
   "source": [
    "df_telco_internet_products = pd.DataFrame({\n",
    "    \"Abandoned\":[\"Yes\", \"No\"],\n",
    "    \"HasOnlineSecurity\":0,\n",
    "    \"HasOnlineBackup\":0,\n",
    "    \"HasDeviceProtection\":0,\n",
    "    \"HasTechSupport\":0,\n",
    "    \"HasStreamingTV\":0,\n",
    "    \"HasStreamingMovies\":0\n",
    "})\n",
    "\n",
    "df_telco_internet_products[\"HasOnlineSecurity\"] = df_telco_cust_churn_processed[df_telco_cust_churn_processed[\"HasOnlineSecurity\"] == \"Yes\"].count()[[\"CustomerID\"]]"
   ]
  },
  {
   "cell_type": "code",
   "execution_count": 413,
   "metadata": {},
   "outputs": [
    {
     "data": {
      "text/html": [
       "<div>\n",
       "<style scoped>\n",
       "    .dataframe tbody tr th:only-of-type {\n",
       "        vertical-align: middle;\n",
       "    }\n",
       "\n",
       "    .dataframe tbody tr th {\n",
       "        vertical-align: top;\n",
       "    }\n",
       "\n",
       "    .dataframe thead th {\n",
       "        text-align: right;\n",
       "    }\n",
       "</style>\n",
       "<table border=\"1\" class=\"dataframe\">\n",
       "  <thead>\n",
       "    <tr style=\"text-align: right;\">\n",
       "      <th></th>\n",
       "      <th>Abandoned</th>\n",
       "      <th>HasOnlineSecurity</th>\n",
       "      <th>HasOnlineBackup</th>\n",
       "      <th>HasDeviceProtection</th>\n",
       "      <th>HasTechSupport</th>\n",
       "      <th>HasStreamingTV</th>\n",
       "      <th>HasStreamingMovies</th>\n",
       "    </tr>\n",
       "  </thead>\n",
       "  <tbody>\n",
       "    <tr>\n",
       "      <th>0</th>\n",
       "      <td>Yes</td>\n",
       "      <td>NaN</td>\n",
       "      <td>0</td>\n",
       "      <td>0</td>\n",
       "      <td>0</td>\n",
       "      <td>0</td>\n",
       "      <td>0</td>\n",
       "    </tr>\n",
       "    <tr>\n",
       "      <th>1</th>\n",
       "      <td>No</td>\n",
       "      <td>NaN</td>\n",
       "      <td>0</td>\n",
       "      <td>0</td>\n",
       "      <td>0</td>\n",
       "      <td>0</td>\n",
       "      <td>0</td>\n",
       "    </tr>\n",
       "  </tbody>\n",
       "</table>\n",
       "</div>"
      ],
      "text/plain": [
       "  Abandoned  HasOnlineSecurity  HasOnlineBackup  HasDeviceProtection  \\\n",
       "0       Yes                NaN                0                    0   \n",
       "1        No                NaN                0                    0   \n",
       "\n",
       "   HasTechSupport  HasStreamingTV  HasStreamingMovies  \n",
       "0               0               0                   0  \n",
       "1               0               0                   0  "
      ]
     },
     "execution_count": 413,
     "metadata": {},
     "output_type": "execute_result"
    }
   ],
   "source": [
    "df_telco_internet_products"
   ]
  },
  {
   "cell_type": "code",
   "execution_count": 418,
   "metadata": {},
   "outputs": [
    {
     "data": {
      "text/plain": [
       "CustomerID    2015\n",
       "dtype: int64"
      ]
     },
     "execution_count": 418,
     "metadata": {},
     "output_type": "execute_result"
    }
   ],
   "source": [
    "df_telco_cust_churn_processed[df_telco_cust_churn_processed[\"HasOnlineSecurity\"] == \"Yes\"].count()[[\"CustomerID\"]]"
   ]
  },
  {
   "cell_type": "code",
   "execution_count": 24,
   "metadata": {},
   "outputs": [
    {
     "data": {
      "text/html": [
       "<div>\n",
       "<style scoped>\n",
       "    .dataframe tbody tr th:only-of-type {\n",
       "        vertical-align: middle;\n",
       "    }\n",
       "\n",
       "    .dataframe tbody tr th {\n",
       "        vertical-align: top;\n",
       "    }\n",
       "\n",
       "    .dataframe thead th {\n",
       "        text-align: right;\n",
       "    }\n",
       "</style>\n",
       "<table border=\"1\" class=\"dataframe\">\n",
       "  <thead>\n",
       "    <tr style=\"text-align: right;\">\n",
       "      <th></th>\n",
       "      <th>customerID</th>\n",
       "      <th>gender</th>\n",
       "      <th>SeniorCitizen</th>\n",
       "      <th>Partner</th>\n",
       "      <th>Dependents</th>\n",
       "      <th>tenure</th>\n",
       "      <th>PhoneService</th>\n",
       "      <th>MultipleLines</th>\n",
       "      <th>InternetService</th>\n",
       "      <th>OnlineSecurity</th>\n",
       "      <th>...</th>\n",
       "      <th>DeviceProtection</th>\n",
       "      <th>TechSupport</th>\n",
       "      <th>StreamingTV</th>\n",
       "      <th>StreamingMovies</th>\n",
       "      <th>Contract</th>\n",
       "      <th>PaperlessBilling</th>\n",
       "      <th>PaymentMethod</th>\n",
       "      <th>MonthlyCharges</th>\n",
       "      <th>TotalCharges</th>\n",
       "      <th>Churn</th>\n",
       "    </tr>\n",
       "  </thead>\n",
       "  <tbody>\n",
       "    <tr>\n",
       "      <td>2845</td>\n",
       "      <td>9093-FPDLG</td>\n",
       "      <td>Female</td>\n",
       "      <td>0</td>\n",
       "      <td>No</td>\n",
       "      <td>No</td>\n",
       "      <td>11</td>\n",
       "      <td>Yes</td>\n",
       "      <td>No</td>\n",
       "      <td>Fiber optic</td>\n",
       "      <td>No</td>\n",
       "      <td>...</td>\n",
       "      <td>Yes</td>\n",
       "      <td>Yes</td>\n",
       "      <td>No</td>\n",
       "      <td>Yes</td>\n",
       "      <td>Month-to-month</td>\n",
       "      <td>Yes</td>\n",
       "      <td>Electronic check</td>\n",
       "      <td>94.20</td>\n",
       "      <td>999.9</td>\n",
       "      <td>No</td>\n",
       "    </tr>\n",
       "    <tr>\n",
       "      <td>3353</td>\n",
       "      <td>4536-PLEQY</td>\n",
       "      <td>Male</td>\n",
       "      <td>0</td>\n",
       "      <td>Yes</td>\n",
       "      <td>No</td>\n",
       "      <td>12</td>\n",
       "      <td>Yes</td>\n",
       "      <td>No</td>\n",
       "      <td>Fiber optic</td>\n",
       "      <td>No</td>\n",
       "      <td>...</td>\n",
       "      <td>No</td>\n",
       "      <td>No</td>\n",
       "      <td>No</td>\n",
       "      <td>Yes</td>\n",
       "      <td>Month-to-month</td>\n",
       "      <td>Yes</td>\n",
       "      <td>Credit card (automatic)</td>\n",
       "      <td>85.05</td>\n",
       "      <td>999.8</td>\n",
       "      <td>No</td>\n",
       "    </tr>\n",
       "    <tr>\n",
       "      <td>3686</td>\n",
       "      <td>5899-MQZZL</td>\n",
       "      <td>Female</td>\n",
       "      <td>0</td>\n",
       "      <td>No</td>\n",
       "      <td>No</td>\n",
       "      <td>13</td>\n",
       "      <td>Yes</td>\n",
       "      <td>Yes</td>\n",
       "      <td>Fiber optic</td>\n",
       "      <td>No</td>\n",
       "      <td>...</td>\n",
       "      <td>No</td>\n",
       "      <td>No</td>\n",
       "      <td>No</td>\n",
       "      <td>No</td>\n",
       "      <td>Month-to-month</td>\n",
       "      <td>Yes</td>\n",
       "      <td>Mailed check</td>\n",
       "      <td>75.00</td>\n",
       "      <td>999.45</td>\n",
       "      <td>Yes</td>\n",
       "    </tr>\n",
       "    <tr>\n",
       "      <td>5598</td>\n",
       "      <td>6051-PTVNS</td>\n",
       "      <td>Female</td>\n",
       "      <td>0</td>\n",
       "      <td>Yes</td>\n",
       "      <td>Yes</td>\n",
       "      <td>55</td>\n",
       "      <td>Yes</td>\n",
       "      <td>No</td>\n",
       "      <td>No</td>\n",
       "      <td>No internet service</td>\n",
       "      <td>...</td>\n",
       "      <td>No internet service</td>\n",
       "      <td>No internet service</td>\n",
       "      <td>No internet service</td>\n",
       "      <td>No internet service</td>\n",
       "      <td>One year</td>\n",
       "      <td>No</td>\n",
       "      <td>Credit card (automatic)</td>\n",
       "      <td>19.15</td>\n",
       "      <td>998.1</td>\n",
       "      <td>No</td>\n",
       "    </tr>\n",
       "    <tr>\n",
       "      <td>6646</td>\n",
       "      <td>8249-THVEC</td>\n",
       "      <td>Male</td>\n",
       "      <td>0</td>\n",
       "      <td>Yes</td>\n",
       "      <td>Yes</td>\n",
       "      <td>51</td>\n",
       "      <td>Yes</td>\n",
       "      <td>No</td>\n",
       "      <td>No</td>\n",
       "      <td>No internet service</td>\n",
       "      <td>...</td>\n",
       "      <td>No internet service</td>\n",
       "      <td>No internet service</td>\n",
       "      <td>No internet service</td>\n",
       "      <td>No internet service</td>\n",
       "      <td>One year</td>\n",
       "      <td>No</td>\n",
       "      <td>Mailed check</td>\n",
       "      <td>19.40</td>\n",
       "      <td>997.75</td>\n",
       "      <td>No</td>\n",
       "    </tr>\n",
       "  </tbody>\n",
       "</table>\n",
       "<p>5 rows × 21 columns</p>\n",
       "</div>"
      ],
      "text/plain": [
       "      customerID  gender  SeniorCitizen Partner Dependents  tenure  \\\n",
       "2845  9093-FPDLG  Female              0      No         No      11   \n",
       "3353  4536-PLEQY    Male              0     Yes         No      12   \n",
       "3686  5899-MQZZL  Female              0      No         No      13   \n",
       "5598  6051-PTVNS  Female              0     Yes        Yes      55   \n",
       "6646  8249-THVEC    Male              0     Yes        Yes      51   \n",
       "\n",
       "     PhoneService MultipleLines InternetService       OnlineSecurity  ...  \\\n",
       "2845          Yes            No     Fiber optic                   No  ...   \n",
       "3353          Yes            No     Fiber optic                   No  ...   \n",
       "3686          Yes           Yes     Fiber optic                   No  ...   \n",
       "5598          Yes            No              No  No internet service  ...   \n",
       "6646          Yes            No              No  No internet service  ...   \n",
       "\n",
       "         DeviceProtection          TechSupport          StreamingTV  \\\n",
       "2845                  Yes                  Yes                   No   \n",
       "3353                   No                   No                   No   \n",
       "3686                   No                   No                   No   \n",
       "5598  No internet service  No internet service  No internet service   \n",
       "6646  No internet service  No internet service  No internet service   \n",
       "\n",
       "          StreamingMovies        Contract PaperlessBilling  \\\n",
       "2845                  Yes  Month-to-month              Yes   \n",
       "3353                  Yes  Month-to-month              Yes   \n",
       "3686                   No  Month-to-month              Yes   \n",
       "5598  No internet service        One year               No   \n",
       "6646  No internet service        One year               No   \n",
       "\n",
       "                PaymentMethod MonthlyCharges  TotalCharges Churn  \n",
       "2845         Electronic check          94.20         999.9    No  \n",
       "3353  Credit card (automatic)          85.05         999.8    No  \n",
       "3686             Mailed check          75.00        999.45   Yes  \n",
       "5598  Credit card (automatic)          19.15         998.1    No  \n",
       "6646             Mailed check          19.40        997.75    No  \n",
       "\n",
       "[5 rows x 21 columns]"
      ]
     },
     "execution_count": 24,
     "metadata": {},
     "output_type": "execute_result"
    }
   ],
   "source": [
    "# Ordenación según los cargos\n",
    "df_telco_cust_churn.sort_values(['TotalCharges','MonthlyCharges'], ascending=[False, False]).head(5)"
   ]
  },
  {
   "cell_type": "code",
   "execution_count": 17,
   "metadata": {
    "collapsed": true,
    "jupyter": {
     "outputs_hidden": true
    }
   },
   "outputs": [
    {
     "data": {
      "text/html": [
       "<div>\n",
       "<style scoped>\n",
       "    .dataframe tbody tr th:only-of-type {\n",
       "        vertical-align: middle;\n",
       "    }\n",
       "\n",
       "    .dataframe tbody tr th {\n",
       "        vertical-align: top;\n",
       "    }\n",
       "\n",
       "    .dataframe thead th {\n",
       "        text-align: right;\n",
       "    }\n",
       "</style>\n",
       "<table border=\"1\" class=\"dataframe\">\n",
       "  <thead>\n",
       "    <tr style=\"text-align: right;\">\n",
       "      <th></th>\n",
       "      <th>SeniorCitizen</th>\n",
       "      <th>tenure</th>\n",
       "      <th>MonthlyCharges</th>\n",
       "    </tr>\n",
       "  </thead>\n",
       "  <tbody>\n",
       "    <tr>\n",
       "      <td>count</td>\n",
       "      <td>7043.000000</td>\n",
       "      <td>7043.000000</td>\n",
       "      <td>7043.000000</td>\n",
       "    </tr>\n",
       "    <tr>\n",
       "      <td>mean</td>\n",
       "      <td>0.162147</td>\n",
       "      <td>32.371149</td>\n",
       "      <td>64.761692</td>\n",
       "    </tr>\n",
       "    <tr>\n",
       "      <td>std</td>\n",
       "      <td>0.368612</td>\n",
       "      <td>24.559481</td>\n",
       "      <td>30.090047</td>\n",
       "    </tr>\n",
       "    <tr>\n",
       "      <td>min</td>\n",
       "      <td>0.000000</td>\n",
       "      <td>0.000000</td>\n",
       "      <td>18.250000</td>\n",
       "    </tr>\n",
       "    <tr>\n",
       "      <td>25%</td>\n",
       "      <td>0.000000</td>\n",
       "      <td>9.000000</td>\n",
       "      <td>35.500000</td>\n",
       "    </tr>\n",
       "    <tr>\n",
       "      <td>50%</td>\n",
       "      <td>0.000000</td>\n",
       "      <td>29.000000</td>\n",
       "      <td>70.350000</td>\n",
       "    </tr>\n",
       "    <tr>\n",
       "      <td>75%</td>\n",
       "      <td>0.000000</td>\n",
       "      <td>55.000000</td>\n",
       "      <td>89.850000</td>\n",
       "    </tr>\n",
       "    <tr>\n",
       "      <td>max</td>\n",
       "      <td>1.000000</td>\n",
       "      <td>72.000000</td>\n",
       "      <td>118.750000</td>\n",
       "    </tr>\n",
       "  </tbody>\n",
       "</table>\n",
       "</div>"
      ],
      "text/plain": [
       "       SeniorCitizen       tenure  MonthlyCharges\n",
       "count    7043.000000  7043.000000     7043.000000\n",
       "mean        0.162147    32.371149       64.761692\n",
       "std         0.368612    24.559481       30.090047\n",
       "min         0.000000     0.000000       18.250000\n",
       "25%         0.000000     9.000000       35.500000\n",
       "50%         0.000000    29.000000       70.350000\n",
       "75%         0.000000    55.000000       89.850000\n",
       "max         1.000000    72.000000      118.750000"
      ]
     },
     "execution_count": 17,
     "metadata": {},
     "output_type": "execute_result"
    }
   ],
   "source": [
    "df_telco_cust_churn.describe()"
   ]
  }
 ],
 "metadata": {
  "kernelspec": {
   "display_name": "Python 3",
   "language": "python",
   "name": "python3"
  },
  "language_info": {
   "codemirror_mode": {
    "name": "ipython",
    "version": 3
   },
   "file_extension": ".py",
   "mimetype": "text/x-python",
   "name": "python",
   "nbconvert_exporter": "python",
   "pygments_lexer": "ipython3",
   "version": "3.7.7"
  }
 },
 "nbformat": 4,
 "nbformat_minor": 4
}
