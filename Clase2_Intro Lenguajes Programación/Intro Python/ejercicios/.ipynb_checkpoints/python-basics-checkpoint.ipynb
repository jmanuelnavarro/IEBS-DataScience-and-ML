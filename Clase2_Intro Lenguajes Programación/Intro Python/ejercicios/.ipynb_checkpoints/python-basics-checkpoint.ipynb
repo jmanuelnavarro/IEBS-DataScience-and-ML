{
 "cells": [
  {
   "cell_type": "markdown",
   "metadata": {
    "ExecuteTime": {
     "end_time": "2019-01-10T12:04:16.316807Z",
     "start_time": "2019-01-10T12:04:16.314183Z"
    }
   },
   "source": [
    "\n",
    "# IEBS\n",
    "\n",
    "## Introducción a python\n",
    "\n",
    "### Jacinto Arias - arias.jacinto@gmail.com\n",
    "---\n"
   ]
  },
  {
   "cell_type": "markdown",
   "metadata": {
    "ExecuteTime": {
     "end_time": "2019-01-10T15:16:20.101238Z",
     "start_time": "2019-01-10T15:16:20.094558Z"
    }
   },
   "source": [
    "## Índice\n",
    "\n",
    "---\n",
    "\n",
    "El objetivo de este tutorial es conocer los elementos básico del lenguaje python, haciendo especial hincapié en lo que será ampliamente utilizado durante el curso.\n",
    "\n",
    "<a id=\"indice\"></a>\n",
    "\n",
    "### Básico\n",
    "* [Declaración de variables](#section_declaracion)\n",
    "* [Expresiones](#section_expresiones)\n",
    "* [Estructuras de control](#section_estructuras)\n",
    "* [Funciones built-in](#section_funcionesbuilt)\n",
    "* [Creación de Funciones](#section_funciones)\n",
    "* [Paquetes](#section_paquetes)\n",
    "* [Clases y objectos](#section_clases)\n",
    "* [Ejercicios](#section_ejercicios)\n",
    "\n"
   ]
  },
  {
   "cell_type": "markdown",
   "metadata": {},
   "source": [
    "---\n",
    "<a id=\"section_declaracion\"></a>\n",
    "\n",
    "## Declaración de variables"
   ]
  },
  {
   "cell_type": "markdown",
   "metadata": {},
   "source": [
    "### Tipado dinámico"
   ]
  },
  {
   "cell_type": "markdown",
   "metadata": {},
   "source": [
    "En Python los **tipos se infieren dinámicamente**, es decir, no es necesario declarar de qué tipo es una variable pero ésta tiene un tipo asociado (el intérprete determina el tipo). Para declarar una variable basta con escribir un **identificador o nombre y asignarle un valor usando el símbolo `=`**. "
   ]
  },
  {
   "cell_type": "code",
   "execution_count": null,
   "metadata": {
    "ExecuteTime": {
     "end_time": "2019-01-12T10:15:12.628495Z",
     "start_time": "2019-01-12T10:15:12.617565Z"
    }
   },
   "outputs": [],
   "source": [
    "# Hola, soy un comentario! Usame para anotar partes importantes del codigo.\n",
    "\n",
    "# Declara una variable numérica\n",
    "un_numero = 5\n",
    "\n",
    "print(un_numero)\n",
    "\n",
    "un_numero"
   ]
  },
  {
   "cell_type": "markdown",
   "metadata": {},
   "source": [
    "<div class=\"alert alert-block alert-info\">\n",
    "    <i class=\"fa fa-info-circle\" aria-hidden=\"true\"></i> <strong>Nota</strong>: print es la función que se utiliza para imprimir por terminal al ejecutar python desde un fichero. En jupyter podemos usarla para imprimir varios valores en una celda."
   ]
  },
  {
   "cell_type": "markdown",
   "metadata": {},
   "source": [
    "Como veis no ha sido necesario declarar explícitamente el tipo de la variable. Para comprobar el tipo que ha entendido el intérprete podemos usar la función `type`"
   ]
  },
  {
   "cell_type": "code",
   "execution_count": null,
   "metadata": {
    "ExecuteTime": {
     "end_time": "2019-01-12T10:16:18.722306Z",
     "start_time": "2019-01-12T10:16:18.717695Z"
    }
   },
   "outputs": [],
   "source": [
    "type(un_numero)"
   ]
  },
  {
   "cell_type": "markdown",
   "metadata": {},
   "source": [
    "En python tenemos distintos tipos, cada uno de ellos se representa por la forma del valor literal que toma la variable al ser asignada."
   ]
  },
  {
   "cell_type": "code",
   "execution_count": null,
   "metadata": {
    "ExecuteTime": {
     "end_time": "2019-01-12T10:18:51.595542Z",
     "start_time": "2019-01-12T10:18:51.591328Z"
    }
   },
   "outputs": [],
   "source": [
    "# Algunos de los más comunes\n",
    "\n",
    "entero = 1 # Numeros sin decimal\n",
    "flotante = 1.0 # Numeros en coma flotante\n",
    "cadena = \"Hola\" # Cualquier secuencia entrecomillada con '' o \"\"\n",
    "booleano = True # Puede ser True o False\n",
    "\n",
    "vacio = None # None es una palabra reservada\n",
    "\n",
    "print(entero)\n",
    "print(flotante)\n",
    "print(cadena)\n",
    "print(booleano)\n",
    "print(vacio)"
   ]
  },
  {
   "cell_type": "markdown",
   "metadata": {},
   "source": [
    "Vamos a comprobar el tipo de las variables creadas"
   ]
  },
  {
   "cell_type": "code",
   "execution_count": null,
   "metadata": {
    "ExecuteTime": {
     "end_time": "2019-01-12T10:19:09.543551Z",
     "start_time": "2019-01-12T10:19:09.539471Z"
    }
   },
   "outputs": [],
   "source": [
    "print(type(entero))\n",
    "print(type(flotante))\n",
    "print(type(cadena))\n",
    "print(type(booleano))\n",
    "print(type(vacio))"
   ]
  },
  {
   "cell_type": "markdown",
   "metadata": {},
   "source": [
    "<div class=\"alert alert-block alert-warning\">\n",
    "<i class=\"fa fa-exclamation-circle\" aria-hidden=\"true\"></i>\n",
    "Esta flexibilidad, la no necesidad de declarar tipos, es muy potente, pero hay que manejarla con cautela. No existe una declaración de variables al uso, es decir:\n",
    "<ul>\n",
    "    <li> La asignación se encarga de crear la variable si no existe</li>\n",
    "    <li> La asignación modifica el valor de la variable si existe ¡y puede asignar un valor de un tipo diferente! (dinámicamente se cambia el tipo)</li>\n",
    "</ul>\n",
    "</div>"
   ]
  },
  {
   "cell_type": "markdown",
   "metadata": {},
   "source": [
    "<div class=\"alert alert-block alert-warning\">\n",
    "<i class=\"fa fa-exclamation-circle\" aria-hidden=\"true\"></i> Es necesario cuidar el nombrado de variables y ser consistente, ya que es posible incluso reasignar (sobreescribir) **funciones especiales**, **palabras reservadas**, **paquetes importados**, etc.\n",
    "</ul>\n",
    "</div>\n",
    "\n"
   ]
  },
  {
   "cell_type": "code",
   "execution_count": null,
   "metadata": {
    "ExecuteTime": {
     "end_time": "2019-01-12T10:21:03.981034Z",
     "start_time": "2019-01-12T10:21:03.977068Z"
    }
   },
   "outputs": [],
   "source": [
    "variable = \"Creada por primera vez\"\n",
    "print(variable)  # Imprime el string \"Creada por primera vez\"\n",
    "\n",
    "variable = \"Este valor ha sido asignado\"\n",
    "print(variable)  # Imprime el string \"Este valor ha sido asignado\"\n",
    "\n",
    "# Asignamos ahora un número.\n",
    "variable = 1.0\n",
    "print(variable)  # ¡El tipo de la variable a cambiado dinámicamente a float!"
   ]
  },
  {
   "cell_type": "markdown",
   "metadata": {},
   "source": [
    "### Nombrado de variables\n",
    "\n",
    "Un identificador **válido** debe cumplir una serie de **condiciones**:\n",
    "\n",
    "* Tiene que **empezar por una letra o el símbolo _**\n",
    "* No puede contener espacios\n",
    "* Aunque puede contener caractéres especiales, como la ñ, se recomienda no hacerlo (estándar en programación)"
   ]
  },
  {
   "cell_type": "code",
   "execution_count": null,
   "metadata": {
    "ExecuteTime": {
     "end_time": "2019-01-10T17:05:04.742087Z",
     "start_time": "2019-01-10T17:05:04.739518Z"
    }
   },
   "outputs": [],
   "source": [
    "mivariable = 1       # Tiene que empezar por una letra\n",
    "_mivariable = 0.123  # O empezar por el símbolo _\n",
    "\n",
    "# Tras el primer caracter, \n",
    "# se permiten letras, números y _ (pero no espacios)\n",
    "_123 = \"Hola\"  \n",
    "var2_3_4_final = \"Mundo\""
   ]
  },
  {
   "cell_type": "markdown",
   "metadata": {
    "ExecuteTime": {
     "end_time": "2019-01-10T15:22:41.618253Z",
     "start_time": "2019-01-10T15:22:41.613721Z"
    }
   },
   "source": [
    "<div style=\"text-align: right\">\n",
    "    <font size=5>\n",
    "        <a href=\"#indice\"><i class=\"fa fa-arrow-circle-up\" aria-hidden=\"true\"></i></a>\n",
    "    </font>\n",
    "</div>\n",
    "\n",
    "---\n",
    "\n",
    "<a id=\"section_expresiones\"></a>\n",
    "\n",
    "## Expresiones"
   ]
  },
  {
   "cell_type": "markdown",
   "metadata": {},
   "source": [
    "Una expresión es cualquier operación que finalmente resuelva a un valor.\n",
    "\n",
    "- Un literal\n",
    "- Una variable\n",
    "- Una operación entre literales o variables\n",
    "- La llamada a una función\n",
    "- Una operación entre una variable y la salida de una función"
   ]
  },
  {
   "cell_type": "code",
   "execution_count": null,
   "metadata": {
    "ExecuteTime": {
     "end_time": "2019-01-12T10:24:43.986666Z",
     "start_time": "2019-01-12T10:24:43.983122Z"
    }
   },
   "outputs": [],
   "source": [
    "myvar = 1 # Asignación, no devuelve nada\n",
    "\n",
    "# Por ejemplo esto no tiene sentido y dara un error del interprete\n",
    "# print(myvar = 1)\n",
    "\n",
    "# Sin embargo la variable se resuelve al literal anterior\n",
    "print(myvar)\n",
    "\n",
    "# La parte derecha de una asignacion si es una expresion!!"
   ]
  },
  {
   "cell_type": "code",
   "execution_count": null,
   "metadata": {
    "ExecuteTime": {
     "end_time": "2019-01-12T10:24:53.647665Z",
     "start_time": "2019-01-12T10:24:53.643377Z"
    }
   },
   "outputs": [],
   "source": [
    "myvar + 3"
   ]
  },
  {
   "cell_type": "markdown",
   "metadata": {},
   "source": [
    "### Operadores aritméticos\n",
    "\n",
    "Operadores entre variables numéricas"
   ]
  },
  {
   "cell_type": "code",
   "execution_count": null,
   "metadata": {
    "ExecuteTime": {
     "end_time": "2019-01-12T10:25:26.049406Z",
     "start_time": "2019-01-12T10:25:26.043483Z"
    }
   },
   "outputs": [],
   "source": [
    "print(2 + 3)     # Suma: 5\n",
    "print(2 - 3)     # Resta: -1\n",
    "print(-6)        # Un número negativo: -6\n",
    "\n",
    "print()\n",
    "\n",
    "print(2 * 3)     # Multiplicación: 6\n",
    "print(5 / 2)     # División flotante: 2.5\n",
    "print(4 / 2)     # Aunque los números sean enteros y la división sea exacta\n",
    "                 # el resultado es un número flotante\n",
    "print(5 // 2)    # División entera: 2 (se trunca; equivalente a int(5/2))\n",
    "print(4 // 2)    # El resultado es un entero: 2\n",
    "\n",
    "print()\n",
    "\n",
    "print(5 % 2)     # El módulo es 1 (resto de 5 / 2)\n",
    "print(2**3)      # 2 elevado a 3: 8"
   ]
  },
  {
   "cell_type": "markdown",
   "metadata": {},
   "source": [
    "### Jerarquía (precedencia) de operadores\n",
    "\n",
    "La jerarquía natural de las operaciones es la habitual: primero potencias, luego multiplicación y división, y por último sumas y restas. Se puede utilizar los paréntesis para cambiar el orden natural:"
   ]
  },
  {
   "cell_type": "code",
   "execution_count": null,
   "metadata": {
    "ExecuteTime": {
     "end_time": "2019-01-12T10:26:03.062657Z",
     "start_time": "2019-01-12T10:26:03.059054Z"
    }
   },
   "outputs": [],
   "source": [
    "x = 3 * 2**3 + 5  # = 3 * 8 + 5 = 24 + 5 = 29\n",
    "print(x)\n",
    "\n",
    "x = (3 * 2)**(3 + 5)  # = 6 ** 8 = 1679616\n",
    "print(x)"
   ]
  },
  {
   "cell_type": "code",
   "execution_count": null,
   "metadata": {
    "ExecuteTime": {
     "end_time": "2019-01-12T10:26:03.556045Z",
     "start_time": "2019-01-12T10:26:03.553687Z"
    }
   },
   "outputs": [],
   "source": [
    "a = 1"
   ]
  },
  {
   "cell_type": "markdown",
   "metadata": {},
   "source": [
    "### Operadores lógicos\n",
    "\n",
    "Operadores de comparación entre números y objetos y cláusulas lógicas que operan con booleanos."
   ]
  },
  {
   "cell_type": "code",
   "execution_count": null,
   "metadata": {
    "ExecuteTime": {
     "end_time": "2019-01-10T17:14:41.167354Z",
     "start_time": "2019-01-10T17:14:41.160960Z"
    }
   },
   "outputs": [],
   "source": [
    "if"
   ]
  },
  {
   "cell_type": "markdown",
   "metadata": {},
   "source": [
    "### Operadores sobre string\n",
    "\n",
    "Algunos operadores están __sobrecargados__ para permitir operar sobre objetos de tipo string sin tener que usar funciones."
   ]
  },
  {
   "cell_type": "code",
   "execution_count": null,
   "metadata": {
    "ExecuteTime": {
     "end_time": "2019-01-12T10:27:15.356692Z",
     "start_time": "2019-01-12T10:27:15.353273Z"
    }
   },
   "outputs": [],
   "source": [
    "print('a' + 'b') # Concatenacion\n",
    "print('a'* 2) # Repeticion"
   ]
  },
  {
   "cell_type": "markdown",
   "metadata": {},
   "source": [
    "También es posible invocar métodos de la clase string. Este concepto anticipa lo que veremos en unas pocas secciones, pero es interesante ir acostumbrándose a la sintaxis.\n",
    "\n",
    "Para ello usamos el operador punto `.` seguido del nombre del metodo."
   ]
  },
  {
   "cell_type": "code",
   "execution_count": null,
   "metadata": {
    "ExecuteTime": {
     "end_time": "2019-01-12T10:29:18.340401Z",
     "start_time": "2019-01-12T10:29:18.337952Z"
    }
   },
   "outputs": [],
   "source": [
    "# Division de strings, devuelve una lista de valores\n",
    "s = \"Rojo,Verde,Azul,Amarillo\""
   ]
  },
  {
   "cell_type": "code",
   "execution_count": null,
   "metadata": {
    "ExecuteTime": {
     "end_time": "2019-01-12T10:31:27.019381Z",
     "start_time": "2019-01-12T10:31:27.015040Z"
    }
   },
   "outputs": [],
   "source": [
    "s.split(',')"
   ]
  },
  {
   "cell_type": "code",
   "execution_count": null,
   "metadata": {
    "ExecuteTime": {
     "end_time": "2019-01-12T10:31:36.725835Z",
     "start_time": "2019-01-12T10:31:36.721973Z"
    }
   },
   "outputs": [],
   "source": [
    "# Limpiar espacios al principio y al final\n",
    "s = \"     Me sobran espacios   \"\n",
    "print(s)\n",
    "print(s.strip())"
   ]
  },
  {
   "cell_type": "markdown",
   "metadata": {},
   "source": [
    "Para consultar la documentación de una función podemos seleccionarla y pulsar `shift + tab` o bien escribirla con una interrogación delante `?s.strip`"
   ]
  },
  {
   "cell_type": "code",
   "execution_count": null,
   "metadata": {
    "ExecuteTime": {
     "end_time": "2019-01-10T17:47:51.442131Z",
     "start_time": "2019-01-10T17:47:51.439113Z"
    }
   },
   "outputs": [],
   "source": [
    "?s.strip"
   ]
  },
  {
   "cell_type": "code",
   "execution_count": null,
   "metadata": {
    "ExecuteTime": {
     "end_time": "2019-01-12T10:31:54.782689Z",
     "start_time": "2019-01-12T10:31:54.778694Z"
    }
   },
   "outputs": [],
   "source": [
    "# Reemplazo de caracteres\n",
    "s_original = \"Me,sobran,comas\"\n",
    "print(s)\n",
    "\n",
    "s = s_original.replace(',', ' ')\n",
    "print(s)\n",
    "\n",
    "s = s_original.replace(',', '')\n",
    "print(s)"
   ]
  },
  {
   "cell_type": "markdown",
   "metadata": {},
   "source": [
    "### Formateo de strings\n",
    "\n",
    "Cuando queremos que la salida de nuestros programas sea enriquecida y muestre información útil utilizamos la función `format` para poder intercalar nuestras cadenas con variables de manera mas comoda."
   ]
  },
  {
   "cell_type": "code",
   "execution_count": null,
   "metadata": {
    "ExecuteTime": {
     "end_time": "2019-01-12T10:32:49.150077Z",
     "start_time": "2019-01-12T10:32:49.146516Z"
    }
   },
   "outputs": [],
   "source": [
    "x = 4 + 5\n",
    "s = \"El resultado es {}\".format(x)\n",
    "\n",
    "print(s)"
   ]
  },
  {
   "cell_type": "code",
   "execution_count": null,
   "metadata": {
    "ExecuteTime": {
     "end_time": "2019-01-12T10:33:27.139610Z",
     "start_time": "2019-01-12T10:33:27.135716Z"
    }
   },
   "outputs": [],
   "source": [
    "# Podemos formatear el tipo del dato en si con sintaxis printf de c\n",
    "x = 4 + 5\n",
    "s = \"El resultado es {:f}\".format(x)\n",
    "print(s)\n",
    "\n",
    "x = 4 + 5\n",
    "s = \"El resultado es {:.2f}\".format(x)\n",
    "print(s)"
   ]
  },
  {
   "cell_type": "markdown",
   "metadata": {},
   "source": [
    "En versiones recientes de python es posible utilizar una versión más corta y expresiva de esta funcion."
   ]
  },
  {
   "cell_type": "code",
   "execution_count": null,
   "metadata": {
    "ExecuteTime": {
     "end_time": "2019-01-12T10:34:03.727844Z",
     "start_time": "2019-01-12T10:34:03.724490Z"
    }
   },
   "outputs": [],
   "source": [
    "# Cuidado no funciona en versiones de python <3.6\n",
    "s = f\"El resultado es {x}\"\n",
    "print(s)\n"
   ]
  },
  {
   "cell_type": "markdown",
   "metadata": {},
   "source": [
    "<div style=\"text-align: right\">\n",
    "    <font size=5>\n",
    "        <a href=\"#indice\"><i class=\"fa fa-arrow-circle-up\" aria-hidden=\"true\"></i></a>\n",
    "    </font>\n",
    "</div>\n",
    "\n",
    "---\n",
    "\n",
    "<a id=\"section_estructuras\"></a>\n",
    "\n",
    "## Estructuras de control"
   ]
  },
  {
   "cell_type": "markdown",
   "metadata": {},
   "source": [
    "Las estructuras de control sirven para definir flujos de ejecución dentro de un programa. Las estructuras básicas de control son:\n",
    "\n",
    "* **If-else**: estructura condicional\n",
    "* **Bucle for**: estructura de bucle for\n",
    "* **Bucle while**: estructura de bucle while\n",
    "\n",
    "Las estrucutras de control dividen el código en bloques que deben ser demilitados. En python hay una serie de reglas sintácticas que son muy características.\n",
    "\n",
    "Esto puede costar a la hora de migrar de lenguaje, pero hacen el código mucho más limpio y legible.\n",
    "\n",
    "### Bloques por indentación\n",
    "\n",
    "En python no existen llaves como en la mayoría de lenguajes populares (java, C, ...) para definir (o delimitar ) bloques de código. \n",
    "\n",
    "Por el contrario, en python utilizamos directamente la __indentación__, que consiste en <strong>4 espacios consecutivos</strong>, para definir los bloques de código.\n",
    "\n",
    "### Estructuras de control delimitadas por dos puntos\n",
    "\n",
    "Para delimitar el fin de una estructura de control utilizamos los dos puntos `:`"
   ]
  },
  {
   "cell_type": "markdown",
   "metadata": {},
   "source": [
    "### if\n",
    "\n",
    "La estructura condicional permite **bifurcar el flujo de la ejecución de un programa** en dos alternativas. Mediante el uso de una expresión booleana (que se resuelve como `True` o `False`), perimte ejecutar uno u otro bloque, asociados a cada uno de los posibles valores booleanos."
   ]
  },
  {
   "cell_type": "code",
   "execution_count": null,
   "metadata": {
    "ExecuteTime": {
     "end_time": "2019-01-12T10:41:31.768575Z",
     "start_time": "2019-01-12T10:41:31.764485Z"
    }
   },
   "outputs": [],
   "source": [
    "\"\"\"\n",
    "if condición booleana:\n",
    "    # indentación de 4 espacios para definir código dentro del if.\n",
    "    código ejecutado si condición es True\n",
    "else:\n",
    "    # indentación de 4 espacios para definir código dentro del else.\n",
    "    código ejecutado si condición es False\n",
    "\"\"\"\n",
    "\n",
    "x = 2\n",
    "\n",
    "if x % 2 == 0:\n",
    "    print(\"x es par\")\n",
    "else:\n",
    "    print(\"x es impar\")"
   ]
  },
  {
   "cell_type": "markdown",
   "metadata": {},
   "source": [
    "### for\n",
    "\n",
    "La estructura de bucle for permite **repetir un bloque de código** tantas veces como elementos tenga una **lista** (veremos estructuras de datos en el Tutorial de Python II). En cada iteración sobre el bucle, una variable tomará el valor de cada uno de los elementos de esa lista."
   ]
  },
  {
   "cell_type": "markdown",
   "metadata": {},
   "source": [
    "<div class=\"alert alert-block alert-info\">\n",
    "<i class=\"fa fa-info-circle\" aria-hidden=\"true\"></i> En otros lenguajes de programación es común definir los bucles for asignando un valor e incrementándolo al final de cada iteración. Esa opción no está disponible en python.\n",
    "</div>"
   ]
  },
  {
   "cell_type": "code",
   "execution_count": null,
   "metadata": {
    "ExecuteTime": {
     "end_time": "2019-01-12T10:44:06.978924Z",
     "start_time": "2019-01-12T10:44:06.975008Z"
    }
   },
   "outputs": [],
   "source": [
    "\"\"\"\n",
    "for variable in lista:\n",
    "    # indentación de 4 espacios para definir código dentro del for.\n",
    "    código a ejecutar dentro del bucle, donde variable toma cada uno de los valores de la lista\n",
    "    (el código se ejecutará tantas veces como valores diferentes haya en la lista)\n",
    "\"\"\"\n",
    "for i in [1, 2, 3, 4]:\n",
    "    print(\"Soy el número {:d}\".format(i))"
   ]
  },
  {
   "cell_type": "markdown",
   "metadata": {},
   "source": [
    "### While\n",
    "\n",
    "La estructura de bucle for permite **repetir un bloque de código** en función de una expresión **booleana**. Al comienzo de cada iteración se comprobará el valor de esta expresión, y se continuará ejecutando el bucle si la condición es `True`, y se terminará en caso contrario (`False`)"
   ]
  },
  {
   "cell_type": "code",
   "execution_count": null,
   "metadata": {
    "ExecuteTime": {
     "end_time": "2019-01-12T10:44:17.141320Z",
     "start_time": "2019-01-12T10:44:17.137448Z"
    }
   },
   "outputs": [],
   "source": [
    "\"\"\"\n",
    "while condición:\n",
    "    # indentación de 4 espacios para definir código dentro del for.\n",
    "    código a ejecutar dentro del bucle, donde variable toma cada uno de los valores de la lista\n",
    "    (el código se ejecutará tantas veces como valores diferentes haya en la lista)\n",
    "\"\"\"\n",
    "x = 1\n",
    "while x < 5:\n",
    "    print(\"Soy el número {:d}\".format(x))\n",
    "    x += 1"
   ]
  },
  {
   "cell_type": "markdown",
   "metadata": {},
   "source": [
    "<div style=\"text-align: right\">\n",
    "    <font size=5>\n",
    "        <a href=\"#indice\"><i class=\"fa fa-arrow-circle-up\" aria-hidden=\"true\"></i></a>\n",
    "    </font>\n",
    "</div>\n",
    "\n",
    "---\n",
    "\n",
    "<a id=\"section_funcionesbuilt\"></a>\n",
    "\n",
    "## Funciones built-in"
   ]
  },
  {
   "cell_type": "markdown",
   "metadata": {},
   "source": [
    "Una **función** es un bloque que parte de unas entradas (argumentos), que son utilizados por un código que ejecuta internamente para devolver una salida. Por ejemplo, la función `sum(x, y)` es una función que recibe dos números `x` e `y`, y devuelve como salida la suma de ambos. El uso de una función se realiza mediante su nombre (`sum`) e introduciendo la lista de variables de entrada (**argumentos**), separadas por comas, entre paréntesis: por ejemplo al ejecutar `sum(2,3)` devuelve 5.\n",
    "\n",
    "En este [enlace](https://docs.python.org/3.6/library/functions.html) se puede ver la lista de funciones built-in en Python 3.6. Éstas son funciones que están disponibles desde que se inicia el intérprete. A continuación se describen las que pueden resultar de mayor interes. Éstas son un subconjunto de las más importantes:\n",
    "\n",
    "* **abs**: Computa el valor absoluto\n",
    "* **bool**: Fuerza un elemento (cast) a ser de tipo booleano\n",
    "* **int**: Fuerza un elemento (cast) a ser de tipo entero\n",
    "* **float**: Fuerza un elemento (cast) a ser de tipo flotante\n",
    "* **str**: Fuerza un elemento (cast) a ser de tipo string\n",
    "* **max** _(iterable)_: Computa el máximo entre los números pasados como argumentos\n",
    "* **min** _(iterable)_: Computa el mínimo entre los números pasados como argumentos\n",
    "* **pow**: Computa la potencia del primer argumento (base) con el segundo argumento (exponente)\n",
    "* **print**: Función que imprime en la salida el string pasado como argumento. Si no es un string, intentará castearlo a string.\n",
    "* **range** Genera un rango de enteros (secuencia de números enteros)\n",
    "* **round**: Redondea un número flotante a entero. **Utiliza el método de redondeo del banquero**.\n",
    "* **type**: Devuelve el tipo de la variable pasada como argumento.\n",
    "\n",
    "\n",
    "<div class=\"alert alert-block alert-info\">\n",
    "<i class=\"fa fa-info-circle\" aria-hidden=\"true\"></i>\n",
    "    <strong>Nota 1</strong>: Las funciones en las que se indica la palabra <i>iterable</i> se volverán a utilizar en el Tutorial de Python II, donde se explicará qué significa <i>\"iterable\"</i>.\n",
    "</div>"
   ]
  },
  {
   "cell_type": "markdown",
   "metadata": {},
   "source": [
    "#### abs"
   ]
  },
  {
   "cell_type": "code",
   "execution_count": null,
   "metadata": {
    "ExecuteTime": {
     "end_time": "2019-01-12T10:47:21.445825Z",
     "start_time": "2019-01-12T10:47:21.441503Z"
    }
   },
   "outputs": [],
   "source": [
    "# Función valor absoluto\n",
    "abs(-1)  # Devuelve 1"
   ]
  },
  {
   "cell_type": "markdown",
   "metadata": {},
   "source": [
    "#### Casting: bool, int, float y str"
   ]
  },
  {
   "cell_type": "code",
   "execution_count": null,
   "metadata": {
    "ExecuteTime": {
     "end_time": "2019-01-12T10:47:26.747717Z",
     "start_time": "2019-01-12T10:47:26.742420Z"
    }
   },
   "outputs": [],
   "source": [
    "# Constructores de elementos booleanos, enteros, float y strings\n",
    "\n",
    "# bool\n",
    "x = 0\n",
    "print( bool(x) )   # Castea el entero 0 a booleano (False)\n",
    "\n",
    "# int\n",
    "x = 2.5\n",
    "print( int(x) )    # Castea el número flotante a entero por truncamiento\n",
    "\n",
    "# float\n",
    "x = 1\n",
    "print( float(x) )  # Castea el número entero a flotante\n",
    "\n",
    "# str\n",
    "x = 3.14\n",
    "print( str(x) )    # Castea el flotante a string"
   ]
  },
  {
   "cell_type": "markdown",
   "metadata": {},
   "source": [
    "#### max y min"
   ]
  },
  {
   "cell_type": "code",
   "execution_count": null,
   "metadata": {
    "ExecuteTime": {
     "end_time": "2019-01-12T10:49:32.018930Z",
     "start_time": "2019-01-12T10:49:32.014882Z"
    }
   },
   "outputs": [],
   "source": [
    "# max y min\n",
    "a = 3\n",
    "b = 7\n",
    "c = 6\n",
    "\n",
    "print( max(a, b, c) )  # Imprime el valor máximo de a, b y c\n",
    "print( min(b, a, c) )  # Imprime el valor mínimo de a, b y c"
   ]
  },
  {
   "cell_type": "markdown",
   "metadata": {},
   "source": [
    "#### pow"
   ]
  },
  {
   "cell_type": "code",
   "execution_count": null,
   "metadata": {
    "ExecuteTime": {
     "end_time": "2019-01-12T10:49:39.792256Z",
     "start_time": "2019-01-12T10:49:39.789018Z"
    }
   },
   "outputs": [],
   "source": [
    "# Función pow. Computa la potencia del primer argumento (base)\n",
    "# con el segundo argumento (exponente)\n",
    "\n",
    "print( pow(3, 4) ) # Imprime 3^4\n",
    "\n",
    "# Existe un operador equivalente más intuitivo: el doble asterisco\n",
    "print( 3**4 )      # Imprime 3^4"
   ]
  },
  {
   "cell_type": "markdown",
   "metadata": {},
   "source": [
    "#### print"
   ]
  },
  {
   "cell_type": "code",
   "execution_count": null,
   "metadata": {
    "ExecuteTime": {
     "end_time": "2019-01-12T10:49:46.325489Z",
     "start_time": "2019-01-12T10:49:46.320797Z"
    }
   },
   "outputs": [],
   "source": [
    "# print. Como hemos estado utilizando, imprime lo que se le pasa como argumento\n",
    "print(\"Hola mundo\")\n",
    "\n",
    "# Se le puede pasar más de un argumento, y los concatena usando un espacio\n",
    "print(\"Hola\", \"mundo\")\n",
    "\n",
    "# Los argumentos pueden ser de diferentes tipos (los que no son String los convierte)\n",
    "print(2, \"más\", 2, \"son\", 4)\n"
   ]
  },
  {
   "cell_type": "markdown",
   "metadata": {},
   "source": [
    "#### range\n",
    "\n",
    "<div class=\"alert alert-block alert-info\"><i class=\"fa fa-info-circle\" aria-hidden=\"true\"></i> En el Tutorial de\n",
    "python II veremos en detalle los <strong>generadores</strong>.\n",
    "    \n",
    "Por ahora, nos basta con saber que es necesario combinar la función `range` con la función `list` (que veremos en la sección) [4-A](#section3A)\n",
    "\n",
    "</div>"
   ]
  },
  {
   "cell_type": "code",
   "execution_count": null,
   "metadata": {
    "ExecuteTime": {
     "end_time": "2019-01-12T10:50:39.521892Z",
     "start_time": "2019-01-12T10:50:39.517014Z"
    }
   },
   "outputs": [],
   "source": [
    "# Range permite especificar una secuencia de enteros. Tiene 3 argumentos:\n",
    "# range(valor inicial inclusive, valor final exclusive, incremento)\n",
    "\n",
    "# Nota: utilizaremos la función list() para poder visualizar la secuencia\n",
    "# de valores devuelta por range. En el punto 4-A veremos la función list, \n",
    "# y en el Tutorial python II veremos por qué es necesaria junto con range.\n",
    "\n",
    "print( list(range(5, 10, 2)) )  # 5, 7 y 9\n",
    "\n",
    "print( list(range(10, 6, -1)) )  # 10, 9 y 8 y 7\n",
    "\n",
    "# Algunos argumentos se pueden omitir. Si solo se especifican 2, corresponden\n",
    "# con el valor inicial y final, y se supone el incremento = +1\n",
    "print( list(range(1, 3)) )  # 1 y 2\n",
    "\n",
    "# Por ello, si se empieza en 3 y se termina en 1 con incrementos de +1, la secuencia es vacía\n",
    "print( list(range(3, 1)) )  # Secuencia vacía\n",
    "\n",
    "# Si solo se especifica un argumento, éste es el valor final, siendo el valor\n",
    "# inicial 0, y el incremento +1\n",
    "print( list(range(5)) )  # 0, 1, 2, 3 y 4"
   ]
  },
  {
   "cell_type": "markdown",
   "metadata": {},
   "source": [
    "#### round"
   ]
  },
  {
   "cell_type": "code",
   "execution_count": null,
   "metadata": {
    "ExecuteTime": {
     "end_time": "2019-01-12T10:51:27.468049Z",
     "start_time": "2019-01-12T10:51:27.462655Z"
    }
   },
   "outputs": [],
   "source": [
    "# Función round. Redondea al entero siguiendo el método del banquero:\n",
    "# Se trata de un redondeo más justo. Es un redondeo típoco si la parte\n",
    "# decimal es >.5 o <.5. Sin embargo, si es exactamente .5: si la parte\n",
    "# entera es par, se redondea como si fuese <.5, y si es impar como si fuese > .5\n",
    "\n",
    "# Si la parte entera es par\n",
    "print( round(10.4) )  # 10.4 se redondea a 10\n",
    "print( round(10.6) )  # 10.6 se redondea a 11\n",
    "# Si la parte entera es impar\n",
    "print( round(11.4) )  # 11.4 se redondea a 11\n",
    "print( round(11.6) )  # 11.6 se redondea a 12\n",
    "\n",
    "print(\"\")\n",
    "\n",
    "# En cambio, si la parte decimal es .5 exactamente\n",
    "# Si la parte entera es par\n",
    "print( round(10.5) )  # 10.5 se redondea a 10\n",
    "print( round(-10.5) ) # -10.5 se redondea a 10\n",
    "# Si la parte entera es impar\n",
    "print( round(11.5) )  # 11.5 se redondea a 12\n",
    "print( round(-11.5) ) # -11.5 se redondea a -12"
   ]
  },
  {
   "cell_type": "markdown",
   "metadata": {},
   "source": [
    "#### type"
   ]
  },
  {
   "cell_type": "code",
   "execution_count": null,
   "metadata": {
    "ExecuteTime": {
     "end_time": "2019-01-10T18:01:49.238707Z",
     "start_time": "2019-01-10T18:01:49.234288Z"
    }
   },
   "outputs": [],
   "source": [
    "# Por último, la función type devuelve el tipo de la variable\n",
    "print( type(True) )         # Es un booleano\n",
    "print( type(2) )            # Es un entero\n",
    "print( type(1.0) )          # Es un flotante\n",
    "print( type(\"Hola mundo\") ) # Es un string"
   ]
  },
  {
   "cell_type": "markdown",
   "metadata": {},
   "source": [
    "<div style=\"text-align: right\">\n",
    "    <font size=5>\n",
    "        <a href=\"#indice\"><i class=\"fa fa-arrow-circle-up\" aria-hidden=\"true\"></i></a>\n",
    "    </font>\n",
    "</div>\n",
    "\n",
    "---\n",
    "\n",
    "<a id=\"section_funciones\"></a>\n",
    "\n",
    "## Funciones"
   ]
  },
  {
   "cell_type": "markdown",
   "metadata": {},
   "source": [
    "Las funciones permiten nombrar a bloques de código para ser reutilizados en múltiples partes de nuestro programa.\n",
    "\n",
    "Como vimos en la sección anterior éstas se caracterizan por un número de entradas (**argumentos**) y una **salida**.\n",
    "\n",
    "Se crean usando la palabra reserada `def` seguido del **nombre** de la función (para que sea un nombre válido, debe cumplir las mismas condiciones que el nombrado de variables), y **entre paréntesis el nombre de los argumentos separados por comas** (si no tiene argumentos, tan solo los paréntesis). Si la función tiene una salida (ésta es opcional) se usa `return` para especificar qué devuelve."
   ]
  },
  {
   "cell_type": "code",
   "execution_count": null,
   "metadata": {
    "ExecuteTime": {
     "end_time": "2019-01-12T10:53:45.646544Z",
     "start_time": "2019-01-12T10:53:45.610163Z"
    }
   },
   "outputs": [],
   "source": [
    "def mi_funcion():\n",
    "    \"\"\"\n",
    "    Esto es un docstring.\n",
    "    Esta funcion no tiene argumentos ni salida.\n",
    "    \"\"\"\n",
    "    print(\"Mi primera función\")\n",
    "\n",
    "?mi_funcion"
   ]
  },
  {
   "cell_type": "code",
   "execution_count": null,
   "metadata": {
    "ExecuteTime": {
     "end_time": "2019-01-12T10:54:04.146037Z",
     "start_time": "2019-01-12T10:54:04.143207Z"
    }
   },
   "outputs": [],
   "source": [
    "# Para usarla, igual que con las fucniones build-in\n",
    "mi_funcion()"
   ]
  },
  {
   "cell_type": "code",
   "execution_count": null,
   "metadata": {
    "ExecuteTime": {
     "end_time": "2019-01-12T11:00:55.660925Z",
     "start_time": "2019-01-12T11:00:55.655272Z"
    }
   },
   "outputs": [],
   "source": [
    "def mi_funcion_suma(x, y):\n",
    "    \"\"\"\n",
    "    Esta función devuelve la suma de dos entradas\n",
    "    @param x: Primer número a sumar\n",
    "    @param y: Segundo número a sumar\n",
    "    :return: La suma de x e y\n",
    "    \"\"\"\n",
    "    return x + y\n",
    "\n",
    "?mi_funcion_suma"
   ]
  },
  {
   "cell_type": "code",
   "execution_count": null,
   "metadata": {
    "ExecuteTime": {
     "end_time": "2019-01-12T10:59:51.804887Z",
     "start_time": "2019-01-12T10:59:51.800974Z"
    }
   },
   "outputs": [],
   "source": [
    "# Para usarla, igual que con las fucniones built-in\n",
    "x = 5.3\n",
    "y = 7.9\n",
    "suma = mi_funcion_suma(x, y)\n",
    "print(\"La suma de {:f} y {:f} es {:f}\".format(x, y, suma))"
   ]
  },
  {
   "cell_type": "code",
   "execution_count": null,
   "metadata": {
    "ExecuteTime": {
     "end_time": "2019-01-12T11:02:52.974372Z",
     "start_time": "2019-01-12T11:02:52.970256Z"
    }
   },
   "outputs": [],
   "source": [
    "# Definición de una función más compleja (haciendo uso de la definida anteriormente)\n",
    "def mi_funcion_multiplica_enteros(x, y):\n",
    "    \"\"\"\n",
    "    Esta función devuelve la multiplicación de dos números enteros\n",
    "    @param x: Primer número a multiplicar (número entero)\n",
    "    @param y: Segundo número a multiplicar (número entero)\n",
    "    :return: La multiplicación de x e y (número entero)\n",
    "    \"\"\"\n",
    "    # Aseguramos que x e y son números enteros\n",
    "    x = int(x)\n",
    "    y = int(y)\n",
    "\n",
    "    # Hacemos uso de la función mi_funcion_suma para multiplicar\n",
    "    suma = 0\n",
    "    for _ in range(y):  # Itera sin tener en cuenta la variable\n",
    "        suma = mi_funcion_suma(suma, x)  # Acumula x y veces en la variable suma\n",
    "    return suma"
   ]
  },
  {
   "cell_type": "code",
   "execution_count": null,
   "metadata": {
    "ExecuteTime": {
     "end_time": "2019-01-12T11:04:10.179728Z",
     "start_time": "2019-01-12T11:04:10.175649Z"
    }
   },
   "outputs": [],
   "source": [
    "x = 5\n",
    "y = 7\n",
    "multiplicacion = mi_funcion_multiplica_enteros(x, y)\n",
    "print(\"La multiplicación de {} por {} es {}\".format(x, y, multiplicacion))"
   ]
  },
  {
   "cell_type": "markdown",
   "metadata": {},
   "source": [
    "<div class=\"alert alert-block alert-info\">\n",
    "<i class=\"fa fa-info-circle\" aria-hidden=\"true\"></i>\n",
    "En el ejemplo anterior, el bucle for declara la variable de iteración como _. Ésta es una forma de declarar variables anónimas: de esta manera permite que la variable no se cree ni consuma espacio en memoria (útil cuando no vayamos a hacer uso de la variable)\n",
    "</div>"
   ]
  },
  {
   "cell_type": "markdown",
   "metadata": {},
   "source": [
    "### Orden de los argumentos\n",
    "\n",
    "Cuando se llama a una función, los argumentos pueden ser proporcionados en **orden** o por **nombre**."
   ]
  },
  {
   "cell_type": "code",
   "execution_count": null,
   "metadata": {
    "ExecuteTime": {
     "end_time": "2019-01-12T11:06:33.366082Z",
     "start_time": "2019-01-12T11:06:33.361382Z"
    }
   },
   "outputs": [],
   "source": [
    "def suma(x, y, c=1, d=1):\n",
    "    return x + y + c + d\n",
    "\n",
    "print(suma(1,2))      # En orden\n",
    "print(suma(x=1, y=2)) # Por nombre\n",
    "print(suma(y=2, x=1)) # ¡Por nombre y cambiando el orden!"
   ]
  },
  {
   "cell_type": "markdown",
   "metadata": {},
   "source": [
    "<div style=\"text-align: right\">\n",
    "    <font size=5>\n",
    "        <a href=\"#indice\"><i class=\"fa fa-arrow-circle-up\" aria-hidden=\"true\"></i></a>\n",
    "    </font>\n",
    "</div>\n",
    "\n",
    "---\n",
    "\n",
    "<a id=\"section_paquetes\"></a>\n",
    "\n",
    "## Paquetes y  módulos"
   ]
  },
  {
   "cell_type": "markdown",
   "metadata": {},
   "source": [
    "Ya hemos comentado que python es un lenguaje extensible.\n",
    "\n",
    "Muchas partes importantes del lenguaje deben ser cargadas de manera adicional durante el ejecución de un programa para añadir nuevas funciones.\n",
    "\n",
    "Un __módulo__ es un fichero de python que puede __importarse__ para hacer su código accesible.\n",
    "\n",
    "Una instalación estándar de python contiene una serie de módulos que podemos añadir a nuestro programas como `math` o `random` que sirven para usar funciones matemáticas o generar número aleatorios. Hay otros muchos paquetes estándar para todo tipo de tareas.\n",
    "\n",
    "También podemos __descargar__ otros módulos desde un repositorio y añadirlos a nuestros programas o libretas. Generalemente a estos módulos externos los llamamos __dependencias__ y debemos dejar claro que son necesarios para que nuestros colaboradores puedan ejecutar o reproducir nuestro código.\n",
    "\n",
    "Por último, es posible crear nuestros propios módulos a partir de una carpeta con código python para separar nuestros programas en unidades lógicas. Estos módulos propios los podemos subir a un repositorio y compartilos entre distintos proyectos para no tener que repetir el código. Esto sin embargo, queda fuera del ámbito de este curso.\n",
    "\n",
    "### Importación\n",
    "\n",
    "Hay varias formas de importar paquetes en python"
   ]
  },
  {
   "cell_type": "code",
   "execution_count": null,
   "metadata": {
    "ExecuteTime": {
     "end_time": "2019-01-12T11:09:48.659210Z",
     "start_time": "2019-01-12T11:09:48.656597Z"
    }
   },
   "outputs": [],
   "source": [
    "# Importar el paquete entero con su propio nombre (namespace)\n",
    "\n",
    "import math"
   ]
  },
  {
   "cell_type": "markdown",
   "metadata": {
    "slideshow": {
     "slide_type": "subslide"
    }
   },
   "source": [
    "Una vez importado el paquete podemos acceder a sus funciones y objetos internos con el operador punto `.`"
   ]
  },
  {
   "cell_type": "code",
   "execution_count": null,
   "metadata": {
    "ExecuteTime": {
     "end_time": "2019-01-12T11:10:05.567683Z",
     "start_time": "2019-01-12T11:10:05.562863Z"
    }
   },
   "outputs": [],
   "source": [
    "??math"
   ]
  },
  {
   "cell_type": "code",
   "execution_count": null,
   "metadata": {
    "ExecuteTime": {
     "end_time": "2019-01-12T11:09:50.220083Z",
     "start_time": "2019-01-12T11:09:50.215979Z"
    }
   },
   "outputs": [],
   "source": [
    "math.pi"
   ]
  },
  {
   "cell_type": "markdown",
   "metadata": {},
   "source": [
    "Resulta util comprobar la documentación de los paquetes para poder hacernos una idea de la funcionalidad que implementan.\n",
    "\n",
    "Si se trata de paquetes estándar de python basta con ir a la documentación oficial.\n",
    "\n",
    "https://docs.python.org/3.7/library/math.html\n",
    "\n",
    "En ocasiones es habitual que queramos cambiar el nombre de la variable en la que se importa el paquete, para eso usamos la instrucción `as` para hacer el renombrado."
   ]
  },
  {
   "cell_type": "code",
   "execution_count": null,
   "metadata": {
    "ExecuteTime": {
     "end_time": "2019-01-12T11:11:33.750214Z",
     "start_time": "2019-01-12T11:11:33.747423Z"
    }
   },
   "outputs": [],
   "source": [
    "import random as r"
   ]
  },
  {
   "cell_type": "code",
   "execution_count": null,
   "metadata": {
    "ExecuteTime": {
     "end_time": "2019-01-12T11:11:53.008362Z",
     "start_time": "2019-01-12T11:11:53.005022Z"
    }
   },
   "outputs": [],
   "source": [
    "r.random()"
   ]
  },
  {
   "cell_type": "markdown",
   "metadata": {},
   "source": [
    "También es posible importar elementos individuales de los paquetes. Esta es una función avanzada que puede traer problemas si no estamos acostumbrados a python porque podemos sobreescribir accidentalmente los elementos del paquete. Para ello usamos la instrucción `from`"
   ]
  },
  {
   "cell_type": "code",
   "execution_count": null,
   "metadata": {
    "ExecuteTime": {
     "end_time": "2019-01-12T11:14:43.067394Z",
     "start_time": "2019-01-12T11:14:43.064455Z"
    }
   },
   "outputs": [],
   "source": [
    "from math import sqrt"
   ]
  },
  {
   "cell_type": "code",
   "execution_count": null,
   "metadata": {
    "ExecuteTime": {
     "end_time": "2019-01-12T11:14:43.384745Z",
     "start_time": "2019-01-12T11:14:43.381682Z"
    }
   },
   "outputs": [],
   "source": [
    "print(sqrt(16))\n",
    "print(math.sqrt(16))"
   ]
  },
  {
   "cell_type": "markdown",
   "metadata": {},
   "source": [
    "<div style=\"text-align: right\">\n",
    "    <font size=5>\n",
    "        <a href=\"#indice\"><i class=\"fa fa-arrow-circle-up\" aria-hidden=\"true\"></i></a>\n",
    "    </font>\n",
    "</div>\n",
    "\n",
    "---\n",
    "\n",
    "<a id=\"section_clases\"></a>\n",
    "\n",
    "## Clases y objetos"
   ]
  },
  {
   "cell_type": "markdown",
   "metadata": {},
   "source": [
    "En un entorno de data science interactivo como jupyter no es común tener que desarrollar una aplicación basada en clases. No obstante es una parte muy importante de python.\n",
    "\n",
    "Lo que si utilizaremos de manera habitual son clases predefinidas en los paquetes estándar de python o las dependencias que instalemos. Por lo que nos centraremos más en esta segunda parte.\n",
    "\n",
    "Si queréis ampliar la parte de declaración de clases propias podéis acudir a la documentación oficial de python. \n",
    "\n",
    "https://docs.python.org/3.6/tutorial/classes.html\n",
    "\n",
    "Una clase es una definición que consiste en una colección de **variables** y **métodos** (funciones). Un objeto es una **instanciación** de esa clase, es decir, un objeto que contiene esas variables y funciones. La clase es la receta (solo definición), mientras que el objeto es algo manipulable (podemos llamar a sus funciones, sus atributos, etc.)\n",
    "\n",
    "Dos objetos creados a partir de la misma clase son completamente **independientes**.\n",
    "\n",
    "Por convenio las clases se crean utilizando un identificador que empieza en mayusculas, de este modo es facil detectarlas.\n",
    "\n",
    "Cuando creamos un objeto a partir de una clase decimos que estamos __instanciando__ esa clase. Para ello utilizamos el operador constructor que consiste en hacer una llamada utilizando paréntesis, igual que al invocar una función. Muchas clases necesitan recibir una serie de atributos iniciales para crear el objeto.\n",
    "\n",
    "Por ejemplo, el paquete `random` contiene una clase `Random` que nos permite inicializar un generador de números independiente, con su semilla y otras propiedades."
   ]
  },
  {
   "cell_type": "code",
   "execution_count": null,
   "metadata": {
    "ExecuteTime": {
     "end_time": "2019-01-12T11:16:24.109418Z",
     "start_time": "2019-01-12T11:16:24.106818Z"
    }
   },
   "outputs": [],
   "source": [
    "import random"
   ]
  },
  {
   "cell_type": "code",
   "execution_count": null,
   "metadata": {
    "ExecuteTime": {
     "end_time": "2019-01-12T11:16:24.508518Z",
     "start_time": "2019-01-12T11:16:24.505645Z"
    }
   },
   "outputs": [],
   "source": [
    "# Random recibe una semilla inicial opcional\n",
    "ran1 = random.Random(1234)\n",
    "ran2 = random.Random(5678)"
   ]
  },
  {
   "cell_type": "markdown",
   "metadata": {},
   "source": [
    "Vamos a comprobar el tipo de los objetos que estamos recibiendo"
   ]
  },
  {
   "cell_type": "code",
   "execution_count": null,
   "metadata": {
    "ExecuteTime": {
     "end_time": "2019-01-12T11:16:26.665379Z",
     "start_time": "2019-01-12T11:16:26.660985Z"
    }
   },
   "outputs": [],
   "source": [
    "type(random.Random)"
   ]
  },
  {
   "cell_type": "code",
   "execution_count": null,
   "metadata": {
    "ExecuteTime": {
     "end_time": "2019-01-12T11:16:34.591943Z",
     "start_time": "2019-01-12T11:16:34.587810Z"
    }
   },
   "outputs": [],
   "source": [
    "type(ran1)"
   ]
  },
  {
   "cell_type": "code",
   "execution_count": null,
   "metadata": {
    "ExecuteTime": {
     "end_time": "2019-01-12T11:16:56.470988Z",
     "start_time": "2019-01-12T11:16:56.464900Z"
    }
   },
   "outputs": [],
   "source": [
    "?random.Random"
   ]
  },
  {
   "cell_type": "markdown",
   "metadata": {},
   "source": [
    "Ahora podemos invocar a métodos de este objeto de manera cómoda"
   ]
  },
  {
   "cell_type": "code",
   "execution_count": null,
   "metadata": {
    "ExecuteTime": {
     "end_time": "2019-01-12T11:17:11.856724Z",
     "start_time": "2019-01-12T11:17:11.853490Z"
    }
   },
   "outputs": [],
   "source": [
    "print(ran1.uniform(0, 1))\n",
    "print(ran2.uniform(0, 1))"
   ]
  },
  {
   "cell_type": "markdown",
   "metadata": {},
   "source": [
    "Prueba a volver a instanciar los objetos y verás que podrás reproducir los números semialeatorios!"
   ]
  }
 ],
 "metadata": {
  "kernelspec": {
   "display_name": "Python 3",
   "language": "python",
   "name": "python3"
  },
  "language_info": {
   "codemirror_mode": {
    "name": "ipython",
    "version": 3
   },
   "file_extension": ".py",
   "mimetype": "text/x-python",
   "name": "python",
   "nbconvert_exporter": "python",
   "pygments_lexer": "ipython3",
   "version": "3.7.4"
  },
  "toc": {
   "base_numbering": 1,
   "nav_menu": {},
   "number_sections": false,
   "sideBar": true,
   "skip_h1_title": true,
   "title_cell": "Table of Contents",
   "title_sidebar": "Contents",
   "toc_cell": false,
   "toc_position": {},
   "toc_section_display": true,
   "toc_window_display": false
  }
 },
 "nbformat": 4,
 "nbformat_minor": 2
}
