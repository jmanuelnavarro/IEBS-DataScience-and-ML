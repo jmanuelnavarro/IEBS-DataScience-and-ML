{
 "cells": [
  {
   "cell_type": "markdown",
   "metadata": {},
   "source": [
    "# IEBS\n",
    "\n",
    "## Colecciones en python\n",
    "\n",
    "### Jacinto Arias - arias.jacinto@gmail.com\n",
    "---\n"
   ]
  },
  {
   "cell_type": "markdown",
   "metadata": {},
   "source": [
    "## Índice\n",
    "\n",
    "---\n",
    "\n",
    "El objetivo de este tutorial es conocer los elementos básico del lenguaje python.\n",
    "\n",
    "<a id=\"indice\"></a>\n",
    "\n",
    "### Básico\n",
    "* [Listas](#section_listas)\n",
    "* [Tuplas](#section_tuplas)\n",
    "* [Diccionarios](#section_diccionarios)\n",
    "* [I/O](#section_io)\n",
    "* [Excepciones](#section_excepciones)\n"
   ]
  },
  {
   "cell_type": "markdown",
   "metadata": {},
   "source": [
    "---\n",
    "\n",
    "<a id=\"section_listas\"></a>\n",
    "\n",
    "## Listas"
   ]
  },
  {
   "cell_type": "markdown",
   "metadata": {},
   "source": [
    "Las listas son **secuencias de elementos** (análogo a los arrays en otros lenguajes). **No es necesario especificar el tamaño máximo** (crece según sea necesario) **ni el tipo de datos que albergará** (puede ser cualquier combinación).\n",
    "\n",
    "Las funciones que utlizaremos para gestionar las listas son:\n",
    "\n",
    "* **Creacón de listas**: `list` o `[]`\n",
    "* **Indexación**: acceso a los elementos de la lista usando los corchetes `[]`\n",
    "* **Insertar elementos al final**: `append`\n",
    "* **Concatenar**: Operador `+`\n",
    "* **Insertar un elemento en cualquier posición**: `insert`\n",
    "* **Borrar un elemento**: `del`\n",
    "* **Número de elementos en la lista**: `len`\n",
    "* Operaciones sobre **iterables**: all, any, max, min y sum"
   ]
  },
  {
   "cell_type": "markdown",
   "metadata": {},
   "source": [
    "### Creación de listas"
   ]
  },
  {
   "cell_type": "code",
   "execution_count": 97,
   "metadata": {
    "ExecuteTime": {
     "end_time": "2019-01-12T11:24:13.614992Z",
     "start_time": "2019-01-12T11:24:13.610643Z"
    }
   },
   "outputs": [
    {
     "name": "stdout",
     "output_type": "stream",
     "text": [
      "[]\n",
      "[]\n",
      "[0, 1, 2, 3, 'a', 'b']\n"
     ]
    }
   ],
   "source": [
    "# Se crean de dos formas distintas:\n",
    "\n",
    "# Usando la función built-in list\n",
    "lista = list()\n",
    "print(lista)\n",
    "\n",
    "# O usando los corchetes\n",
    "lista = []\n",
    "print(lista)\n",
    "\n",
    "# La ventaja de usar los corchetes es que la podemos inicializar con una secuencia de valores:\n",
    "lista = [0, 1, 2, 3, \"a\", \"b\"]\n",
    "print(lista)"
   ]
  },
  {
   "cell_type": "code",
   "execution_count": 98,
   "metadata": {},
   "outputs": [
    {
     "name": "stdout",
     "output_type": "stream",
     "text": [
      "uno\n",
      "del elemento 2 en adelante: ['tres', 'cuatro']\n",
      "hasta el elemento 3 (no incluido): ['uno', 'dos', 'tres']\n",
      "del elemento 2 hasta el elemento 3 (no incluido): ['tres']\n"
     ]
    }
   ],
   "source": [
    "lista1 = ['uno', 'dos', 'tres', 'cuatro']\n",
    "print(lista1[0])\n",
    "print(f'del elemento 2 en adelante: {lista1[2:]}')\n",
    "print(f'hasta el elemento 3 (no incluido): {lista1[:3]}')\n",
    "print(f'del elemento 2 hasta el elemento 3 (no incluido): {lista1[2:3]}')"
   ]
  },
  {
   "cell_type": "code",
   "execution_count": 99,
   "metadata": {},
   "outputs": [
    {
     "data": {
      "text/plain": [
       "['uno', 'dos', 'tres', 'cuatro', 'cinco']"
      ]
     },
     "execution_count": 99,
     "metadata": {},
     "output_type": "execute_result"
    }
   ],
   "source": [
    "lista1.append('cinco')\n",
    "lista1"
   ]
  },
  {
   "cell_type": "code",
   "execution_count": 100,
   "metadata": {},
   "outputs": [
    {
     "data": {
      "text/plain": [
       "['uno', 'dos', 'tres', 'cuatro', 'cinco', 'nuevo']"
      ]
     },
     "execution_count": 100,
     "metadata": {},
     "output_type": "execute_result"
    }
   ],
   "source": [
    "lista1.insert(len(lista1),'nuevo')\n",
    "lista1"
   ]
  },
  {
   "cell_type": "code",
   "execution_count": 101,
   "metadata": {},
   "outputs": [
    {
     "data": {
      "text/plain": [
       "['uno', 'dos', 'tres', 'cuatro', 'cinco', 'nuevo', 1, 2, 3, 4, 5]"
      ]
     },
     "execution_count": 101,
     "metadata": {},
     "output_type": "execute_result"
    }
   ],
   "source": [
    "lista2 = [1,2,3,4,5]\n",
    "lista1+lista2"
   ]
  },
  {
   "cell_type": "markdown",
   "metadata": {},
   "source": [
    "### Tamaño de una lista\n",
    "\n",
    "Podemos obtener el tamaño de una lista con la funcion `len`"
   ]
  },
  {
   "cell_type": "code",
   "execution_count": 102,
   "metadata": {
    "ExecuteTime": {
     "end_time": "2019-01-12T11:24:15.651285Z",
     "start_time": "2019-01-12T11:24:15.647282Z"
    }
   },
   "outputs": [
    {
     "data": {
      "text/plain": [
       "6"
      ]
     },
     "execution_count": 102,
     "metadata": {},
     "output_type": "execute_result"
    }
   ],
   "source": [
    "len(lista)"
   ]
  },
  {
   "cell_type": "code",
   "execution_count": 103,
   "metadata": {},
   "outputs": [
    {
     "data": {
      "text/plain": [
       "6"
      ]
     },
     "execution_count": 103,
     "metadata": {},
     "output_type": "execute_result"
    }
   ],
   "source": [
    "len(lista1)"
   ]
  },
  {
   "cell_type": "markdown",
   "metadata": {},
   "source": [
    "### Indexado: Acceso a los elementos de una lista"
   ]
  },
  {
   "cell_type": "markdown",
   "metadata": {},
   "source": [
    "Podemos acceder a un elemento de una lista indicando el índice de dicho elemento o utilizando algunas operaciones especiales."
   ]
  },
  {
   "cell_type": "markdown",
   "metadata": {},
   "source": [
    "<div class=\"alert alert-block alert-info\">\n",
    "<i class=\"fa fa-info-circle\" aria-hidden=\"true\"></i>\n",
    "Los elementos de una lista empiezan a contar desde el 0!\n",
    "</div>"
   ]
  },
  {
   "cell_type": "code",
   "execution_count": 104,
   "metadata": {
    "ExecuteTime": {
     "end_time": "2019-01-12T11:24:17.727488Z",
     "start_time": "2019-01-12T11:24:17.723945Z"
    }
   },
   "outputs": [
    {
     "name": "stdout",
     "output_type": "stream",
     "text": [
      "Imprimo el primer elemento 0\n"
     ]
    }
   ],
   "source": [
    "x = lista[0]\n",
    "print(\"Imprimo el primer elemento {}\".format(x))"
   ]
  },
  {
   "cell_type": "code",
   "execution_count": 105,
   "metadata": {
    "ExecuteTime": {
     "end_time": "2019-01-12T11:24:18.773841Z",
     "start_time": "2019-01-12T11:24:18.770512Z"
    }
   },
   "outputs": [
    {
     "name": "stdout",
     "output_type": "stream",
     "text": [
      "Imprimo el último elemento b\n"
     ]
    }
   ],
   "source": [
    "x = lista[len(lista) - 1]\n",
    "print(\"Imprimo el último elemento {}\".format(x))"
   ]
  },
  {
   "cell_type": "markdown",
   "metadata": {},
   "source": [
    "Una forma más cómoda de aceder a los últimos elementos de la lista es utilizar índices negativos, para indicar que empezamos a contar desde el final."
   ]
  },
  {
   "cell_type": "code",
   "execution_count": 106,
   "metadata": {
    "ExecuteTime": {
     "end_time": "2019-01-12T11:24:20.503752Z",
     "start_time": "2019-01-12T11:24:20.500033Z"
    }
   },
   "outputs": [
    {
     "name": "stdout",
     "output_type": "stream",
     "text": [
      "Imprimo el último elemento b\n",
      "Imprimo el penultimo elemento a\n"
     ]
    }
   ],
   "source": [
    "x = lista[-1]\n",
    "print(\"Imprimo el último elemento {}\".format(x))\n",
    "\n",
    "x = lista[-2]\n",
    "print(\"Imprimo el penultimo elemento {}\".format(x))"
   ]
  },
  {
   "cell_type": "markdown",
   "metadata": {},
   "source": [
    "### Indexado: Accediendo a subconjuntos de una lista"
   ]
  },
  {
   "cell_type": "markdown",
   "metadata": {},
   "source": [
    "Podemos recuperar un subconjunto en lugar de acceder a un elemento individual definiendo un rango de índices. Para ello podemos utilizar el operador dos puntos `:`. Los extremos del rango pueden ser positivos, negativos o dejarse abiertos para llegar al principio/final de la lista"
   ]
  },
  {
   "cell_type": "code",
   "execution_count": 107,
   "metadata": {
    "ExecuteTime": {
     "end_time": "2019-01-12T11:24:24.084782Z",
     "start_time": "2019-01-12T11:24:24.081201Z"
    }
   },
   "outputs": [
    {
     "name": "stdout",
     "output_type": "stream",
     "text": [
      "[0, 1]\n"
     ]
    }
   ],
   "source": [
    "print(lista[0:2])"
   ]
  },
  {
   "cell_type": "code",
   "execution_count": 108,
   "metadata": {
    "ExecuteTime": {
     "end_time": "2019-01-12T11:24:27.427032Z",
     "start_time": "2019-01-12T11:24:27.423951Z"
    }
   },
   "outputs": [
    {
     "name": "stdout",
     "output_type": "stream",
     "text": [
      "[0, 1]\n"
     ]
    }
   ],
   "source": [
    "print(lista[:2])"
   ]
  },
  {
   "cell_type": "code",
   "execution_count": 109,
   "metadata": {
    "ExecuteTime": {
     "end_time": "2019-01-12T11:25:02.376791Z",
     "start_time": "2019-01-12T11:25:02.373756Z"
    }
   },
   "outputs": [
    {
     "name": "stdout",
     "output_type": "stream",
     "text": [
      "[1, 2, 3, 'a', 'b']\n"
     ]
    }
   ],
   "source": [
    "print(lista[1:])"
   ]
  },
  {
   "cell_type": "code",
   "execution_count": 110,
   "metadata": {
    "ExecuteTime": {
     "end_time": "2019-01-12T11:25:15.529752Z",
     "start_time": "2019-01-12T11:25:15.526441Z"
    }
   },
   "outputs": [
    {
     "name": "stdout",
     "output_type": "stream",
     "text": [
      "[1, 2, 3, 'a']\n"
     ]
    }
   ],
   "source": [
    "print(lista[1:-1])"
   ]
  },
  {
   "cell_type": "markdown",
   "metadata": {},
   "source": [
    "### Añadir elementos"
   ]
  },
  {
   "cell_type": "markdown",
   "metadata": {},
   "source": [
    "La función append permite añadir elementos al final de una lista"
   ]
  },
  {
   "cell_type": "code",
   "execution_count": 111,
   "metadata": {
    "ExecuteTime": {
     "end_time": "2019-01-11T18:11:22.909796Z",
     "start_time": "2019-01-11T18:11:22.906741Z"
    }
   },
   "outputs": [
    {
     "name": "stdout",
     "output_type": "stream",
     "text": [
      "[1, 2, 3, 'c']\n"
     ]
    }
   ],
   "source": [
    "# Podemos extender la lista añadiendole nuevos elementos por el final\n",
    "lista = [1, 2, 3]\n",
    "lista.append('c')\n",
    "\n",
    "print(lista)"
   ]
  },
  {
   "cell_type": "markdown",
   "metadata": {},
   "source": [
    "<div class=\"alert alert-block alert-warning\">\n",
    "<i class=\"fa fa-exclamation-circle\" aria-hidden=\"true\"></i>\n",
    "Como una lista puede albergar cualquier elemento, puede albergar una lista también. Si ejecutamos `lista.append([1, 2, 3])` no introduce los elementos 1, 2 y 3, sino que introduce un elemento (lista) que contiene los elementos 1, 2 y 3.\n",
    "</div>"
   ]
  },
  {
   "cell_type": "code",
   "execution_count": 112,
   "metadata": {
    "ExecuteTime": {
     "end_time": "2019-01-12T11:26:08.229545Z",
     "start_time": "2019-01-12T11:26:08.225854Z"
    }
   },
   "outputs": [
    {
     "name": "stdout",
     "output_type": "stream",
     "text": [
      "[1, 2, 3, [1, 2, 3]]\n"
     ]
    }
   ],
   "source": [
    "lista = [1, 2, 3]\n",
    "lista.append([1, 2, 3])\n",
    "\n",
    "print(lista)"
   ]
  },
  {
   "cell_type": "markdown",
   "metadata": {},
   "source": [
    "### Concatenación de listas"
   ]
  },
  {
   "cell_type": "markdown",
   "metadata": {},
   "source": [
    "Podemos crear una nueva lista a partir de dos listas concatenándolas con el operador `+`"
   ]
  },
  {
   "cell_type": "code",
   "execution_count": 113,
   "metadata": {
    "ExecuteTime": {
     "end_time": "2019-01-12T11:27:37.430876Z",
     "start_time": "2019-01-12T11:27:37.426413Z"
    }
   },
   "outputs": [
    {
     "name": "stdout",
     "output_type": "stream",
     "text": [
      "[1, 2, 3, 'a', 'b', 'c']\n",
      "\n",
      "[1, 2, 3]\n",
      "['a', 'b', 'c']\n"
     ]
    }
   ],
   "source": [
    "l1 = [1, 2, 3]\n",
    "l2 = ['a', 'b', 'c']\n",
    "print(l1 + l2)\n",
    "\n",
    "print()\n",
    "\n",
    "# Las listas l1 y l2 no han sido modificadas\n",
    "print(l1)\n",
    "print(l2)"
   ]
  },
  {
   "cell_type": "markdown",
   "metadata": {},
   "source": [
    "### Inserción y borrado\n",
    "\n",
    "Existen operaciones de inserción y borrado de elementos, aunque no se suelen utilizar en exceso ya que son ineficientes."
   ]
  },
  {
   "cell_type": "code",
   "execution_count": 114,
   "metadata": {
    "ExecuteTime": {
     "end_time": "2019-01-11T18:13:39.238002Z",
     "start_time": "2019-01-11T18:13:39.233466Z"
    }
   },
   "outputs": [
    {
     "name": "stdout",
     "output_type": "stream",
     "text": [
      "[1, 'a', 2, 3]\n",
      "['primer elemento', 1, 'a', 2, 3]\n",
      "['primer elemento', 1, 'a', 2, 3, 'último elemento']\n"
     ]
    }
   ],
   "source": [
    "# Existe la función insert para insertar un elemento en una posición determinada\n",
    "\n",
    "l = [1, 2, 3]\n",
    "l.insert(1, 'a')                 # Inserta el elemento 'a' (segundo argumento) en la posición 1 (primer argumento)\n",
    "                                 # Los índices van desde el 0 (primera posición) hasta la última (número de elementos menos 1)\n",
    "print(l)\n",
    "\n",
    "l.insert(0, 'primer elemento')   # Insertamos un elemento en la primera posición\n",
    "print(l)\n",
    "\n",
    "l.insert(5, 'último elemento')   # Insertamos un elemento en la última posición (la lista tiene 6 elementos)\n",
    "print(l)"
   ]
  },
  {
   "cell_type": "code",
   "execution_count": 115,
   "metadata": {
    "ExecuteTime": {
     "end_time": "2019-01-11T18:13:48.935433Z",
     "start_time": "2019-01-11T18:13:48.931122Z"
    }
   },
   "outputs": [
    {
     "name": "stdout",
     "output_type": "stream",
     "text": [
      "3\n",
      "[1, 2, 4, 5]\n",
      "[1, 5]\n"
     ]
    }
   ],
   "source": [
    "# Permite borrar elementos de la lista. Para ello se indexa los elementos que queremos borrar, y se precede la palabra \"del\"\n",
    "l = [1, 2, 3, 4, 5]\n",
    "print( l[2] ) # Indexamos un elemento (el 3)\n",
    "\n",
    "del l[2]      # Lo borramos\n",
    "print(l)\n",
    "\n",
    "# Borramos una secuencia de elementos utilizando slice indices\n",
    "del l[1:3]\n",
    "print(l)"
   ]
  },
  {
   "cell_type": "markdown",
   "metadata": {},
   "source": [
    "### Operaciones sobre iterables\n",
    "\n",
    "Un elemento **iterable** representa una secuencia de elementos: ejemplo de elementos iterables son las listas, los conjuntos, las tuplas y los diccionarios (tanto las claves como los valores). Las operaciones sobre iterables son operaciones que se pueden ejecutar recibiendo como argumento un elemento iterable."
   ]
  },
  {
   "cell_type": "markdown",
   "metadata": {},
   "source": [
    "### all\n",
    "\n",
    "Devuelve `True` si todos los elementos son `True``\n"
   ]
  },
  {
   "cell_type": "code",
   "execution_count": 116,
   "metadata": {
    "ExecuteTime": {
     "end_time": "2019-01-12T11:28:56.694849Z",
     "start_time": "2019-01-12T11:28:56.691164Z"
    }
   },
   "outputs": [
    {
     "name": "stdout",
     "output_type": "stream",
     "text": [
      "False\n",
      "True\n"
     ]
    }
   ],
   "source": [
    "# Si la lista es una lista de booleanos, devuelve True si todos los elementos son True, y False en caso contrario\n",
    "l = [True, False, True]\n",
    "print(all(l))   # Imprime False\n",
    "\n",
    "l = [True, True, True]\n",
    "print(all(l))   # Imprime True"
   ]
  },
  {
   "cell_type": "code",
   "execution_count": 117,
   "metadata": {},
   "outputs": [
    {
     "name": "stdout",
     "output_type": "stream",
     "text": [
      "uno\n",
      "dos\n",
      "tres\n",
      "cuatro\n",
      "cinco\n",
      "nuevo\n",
      "1\n",
      "2\n",
      "3\n",
      "4\n",
      "5\n"
     ]
    }
   ],
   "source": [
    "for i in lista1+lista2:\n",
    "    print(i)"
   ]
  },
  {
   "cell_type": "markdown",
   "metadata": {},
   "source": [
    "### any\n",
    "\n",
    "Devuelve `True` si algún elemento es `True`"
   ]
  },
  {
   "cell_type": "code",
   "execution_count": 118,
   "metadata": {
    "ExecuteTime": {
     "end_time": "2019-01-12T11:29:05.539437Z",
     "start_time": "2019-01-12T11:29:05.535679Z"
    }
   },
   "outputs": [
    {
     "name": "stdout",
     "output_type": "stream",
     "text": [
      "True\n",
      "False\n"
     ]
    }
   ],
   "source": [
    "# Si la lista es una lista de booleanos, devuelve True si alguno de los elementos es True, y False en caso contrario\n",
    "l = [True, False, True]\n",
    "print(any(l))   # Imprime True\n",
    "\n",
    "l = [False, False, False]\n",
    "print(any(l))   # Imprime True"
   ]
  },
  {
   "cell_type": "markdown",
   "metadata": {},
   "source": [
    "### max, min y sum\n",
    "\n",
    "Devuelven el valor máximo, minimo y la suma de la lista"
   ]
  },
  {
   "cell_type": "code",
   "execution_count": 119,
   "metadata": {
    "ExecuteTime": {
     "end_time": "2019-01-12T11:29:16.642274Z",
     "start_time": "2019-01-12T11:29:16.637995Z"
    }
   },
   "outputs": [
    {
     "data": {
      "text/plain": [
       "9"
      ]
     },
     "execution_count": 119,
     "metadata": {},
     "output_type": "execute_result"
    }
   ],
   "source": [
    "# Max también puede ser utilizado pasando una lista como único argumento, analizando todos los elementos de la lista para computar el máximo\n",
    "max([1,2,3,9,8,7,6]) # Computa 9"
   ]
  },
  {
   "cell_type": "code",
   "execution_count": 120,
   "metadata": {
    "ExecuteTime": {
     "end_time": "2019-01-12T11:29:16.920682Z",
     "start_time": "2019-01-12T11:29:16.916263Z"
    }
   },
   "outputs": [
    {
     "data": {
      "text/plain": [
       "1"
      ]
     },
     "execution_count": 120,
     "metadata": {},
     "output_type": "execute_result"
    }
   ],
   "source": [
    "# Min también puede ser utilizado pasando una lista como único argumento, analizando todos los elementos de la lista para computar el mínimo\n",
    "min([1,2,3,9,8,7,6]) # Computa 1"
   ]
  },
  {
   "cell_type": "code",
   "execution_count": 121,
   "metadata": {
    "ExecuteTime": {
     "end_time": "2019-01-12T11:29:17.331044Z",
     "start_time": "2019-01-12T11:29:17.327224Z"
    }
   },
   "outputs": [
    {
     "data": {
      "text/plain": [
       "15"
      ]
     },
     "execution_count": 121,
     "metadata": {},
     "output_type": "execute_result"
    }
   ],
   "source": [
    "# Computa la suma de todos los elementos de una lista, pasada como argumento\n",
    "sum([1, 2, 3, 4, 5]) # Devuelve 15"
   ]
  },
  {
   "cell_type": "code",
   "execution_count": 122,
   "metadata": {},
   "outputs": [
    {
     "data": {
      "text/plain": [
       "5"
      ]
     },
     "execution_count": 122,
     "metadata": {},
     "output_type": "execute_result"
    }
   ],
   "source": [
    "max(lista2)"
   ]
  },
  {
   "cell_type": "code",
   "execution_count": 123,
   "metadata": {},
   "outputs": [
    {
     "data": {
      "text/plain": [
       "15"
      ]
     },
     "execution_count": 123,
     "metadata": {},
     "output_type": "execute_result"
    }
   ],
   "source": [
    "sum(lista2)"
   ]
  },
  {
   "cell_type": "markdown",
   "metadata": {},
   "source": [
    "<div style=\"text-align: right\">\n",
    "    <font size=5>\n",
    "        <a href=\"#indice\"><i class=\"fa fa-arrow-circle-up\" aria-hidden=\"true\"></i></a>\n",
    "    </font>\n",
    "</div>\n",
    "\n",
    "---\n",
    "\n",
    "<a id=\"section_tuplas\"></a>\n",
    "\n",
    "## Tuplas y conjuntos"
   ]
  },
  {
   "cell_type": "markdown",
   "metadata": {},
   "source": [
    "Las tuplas son secuencias de elementos, de forma similar a las listas, pero que son **inmutables**. Esto significa que una tupla no se puede modificar una vez ésta ha sido creada.\n",
    "\n",
    "Una de las ventajas de las tuplas, más allá de la definición conceptual, es que permiten operaciones de comparación muy eficiente.\n",
    "\n",
    "Al ser una especialización de las listas, tanto la **indexación** como las funciones descritas anteriormente para las listas sirven para las tuplas. La **excepción** son las funciones que modifican la lista (¡ya que las tuplas son inmutables!). Éstas son las funciones `append`, `insert` y `del`, además de las que trabajan con **iterables**: all, any, max, min y sum.\n",
    "\n",
    "Por lo tanto, a modo de índice, éstas son las funciones que usaremos para gestionar las tuplas:\n",
    "* **Creación de tuplas**: `tuple` o `()`\n",
    "* **Indexación**: acceso a los elementos de la tupla usando los corchetes `[]` **(igual que para listas)**.\n",
    "* **Concatenar**: Operador `+` **(igual que para listas)**\n",
    "* **Número de elementos en la tupla**: `len` **(igual que para listas)**\n",
    "* Operaciones sobre **iterables**: all, any, max, min y sum **(igual que para listas)**\n"
   ]
  },
  {
   "cell_type": "markdown",
   "metadata": {},
   "source": [
    "### Inmutabilidad"
   ]
  },
  {
   "cell_type": "code",
   "execution_count": 124,
   "metadata": {
    "ExecuteTime": {
     "end_time": "2019-01-12T11:32:52.101587Z",
     "start_time": "2019-01-12T11:32:52.098697Z"
    }
   },
   "outputs": [],
   "source": [
    "t = (1,2)"
   ]
  },
  {
   "cell_type": "code",
   "execution_count": 125,
   "metadata": {
    "ExecuteTime": {
     "end_time": "2019-01-12T11:32:55.248190Z",
     "start_time": "2019-01-12T11:32:55.241071Z"
    }
   },
   "outputs": [
    {
     "ename": "TypeError",
     "evalue": "'tuple' object does not support item assignment",
     "output_type": "error",
     "traceback": [
      "\u001b[1;31m---------------------------------------------------------------------------\u001b[0m",
      "\u001b[1;31mTypeError\u001b[0m                                 Traceback (most recent call last)",
      "\u001b[1;32m<ipython-input-125-eee80f1aab81>\u001b[0m in \u001b[0;36m<module>\u001b[1;34m\u001b[0m\n\u001b[1;32m----> 1\u001b[1;33m \u001b[0mt\u001b[0m\u001b[1;33m[\u001b[0m\u001b[1;36m0\u001b[0m\u001b[1;33m]\u001b[0m \u001b[1;33m=\u001b[0m \u001b[1;36m3\u001b[0m  \u001b[1;31m# TypeError: 'tuple' object does not support item assignment\u001b[0m\u001b[1;33m\u001b[0m\u001b[1;33m\u001b[0m\u001b[0m\n\u001b[0m",
      "\u001b[1;31mTypeError\u001b[0m: 'tuple' object does not support item assignment"
     ]
    }
   ],
   "source": [
    "t[0] = 3  # TypeError: 'tuple' object does not support item assignment"
   ]
  },
  {
   "cell_type": "code",
   "execution_count": 126,
   "metadata": {
    "ExecuteTime": {
     "end_time": "2019-01-11T18:18:38.905214Z",
     "start_time": "2019-01-11T18:18:38.901890Z"
    }
   },
   "outputs": [
    {
     "data": {
      "text/plain": [
       "(1, 2)"
      ]
     },
     "execution_count": 126,
     "metadata": {},
     "output_type": "execute_result"
    }
   ],
   "source": [
    "t"
   ]
  },
  {
   "cell_type": "code",
   "execution_count": null,
   "metadata": {},
   "outputs": [],
   "source": []
  },
  {
   "cell_type": "markdown",
   "metadata": {},
   "source": [
    "### Creación de tuplas"
   ]
  },
  {
   "cell_type": "code",
   "execution_count": 127,
   "metadata": {
    "ExecuteTime": {
     "end_time": "2019-01-12T11:33:16.116179Z",
     "start_time": "2019-01-12T11:33:16.111516Z"
    }
   },
   "outputs": [
    {
     "name": "stdout",
     "output_type": "stream",
     "text": [
      "(1, 2, 3)\n",
      "(1, 2, 3)\n",
      "()\n",
      "()\n"
     ]
    }
   ],
   "source": [
    "# Mediante la función built-in tuple, a la que se le pasa una lista (si no se indican argumentos, construye una tupla vacía)\n",
    "t = tuple([1, 2, 3])   # Tupla con los elementos 1, 2, 3\n",
    "print(t)\n",
    "\n",
    "# También se puede crear mediante el uso de paréntesis:\n",
    "t = (1, 2, 3)\n",
    "print(t)\n",
    "\n",
    "# Creación de tuplas vacías:\n",
    "print(tuple())         # Función tuple sin argumentos\n",
    "print(())              # Paréntesis sin elementos."
   ]
  },
  {
   "cell_type": "markdown",
   "metadata": {},
   "source": [
    "### Destructuración (asignación múltiple)\n",
    "\n",
    "En Python se permite asignación múltiple: `x, y, z = 1, 2, 3`\n",
    "\n",
    "En realidad, el código al que se traduce es el siguiente: `(x, y, z) = (1, 2, 3)`.\n",
    "\n",
    "Puede ser muy útil, por ejemplo, en la descomposición de strings o para devolver varias salidas en una sola función."
   ]
  },
  {
   "cell_type": "code",
   "execution_count": 128,
   "metadata": {
    "ExecuteTime": {
     "end_time": "2019-01-11T18:19:54.960410Z",
     "start_time": "2019-01-11T18:19:54.956656Z"
    }
   },
   "outputs": [
    {
     "name": "stdout",
     "output_type": "stream",
     "text": [
      "Pedro\n",
      "López\n",
      "Santos\n"
     ]
    }
   ],
   "source": [
    "nombre, apellido1, apellido2 = \"Pedro López Santos\".split(\" \")\n",
    "\n",
    "print(nombre)\n",
    "print(apellido1)\n",
    "print(apellido2)"
   ]
  },
  {
   "cell_type": "markdown",
   "metadata": {},
   "source": [
    "### Conjuntos\n",
    "\n",
    "Los conjuntos son **conjuntos de elementos no repetidos**. En este caso la indexación no tiene sentido, únicamente la comprobación de pertenencia de un elemento al conjunto. Para ello haremos uso de la palabra reservada `in`.\n",
    "\n",
    "Las funciones utilizadas para gestionar un conjunto son:\n",
    "* **Creación de conjuntos**: `set`\n",
    "* **Insertar elementos**: `add`\n",
    "* **Eliminar elementos**: `remove`\n",
    "* **Pertenencia de elementos al conjunto**: operador infijo `in`\n",
    "* **Operaciones básicas de conjuntos**: unión, intersección y diferencia\n",
    "* **Número de elementos en el conjunto**: `len`\n",
    "* Operaciones sobre **iterables**: all, any, max, min y sum **(igual que para listas)**"
   ]
  },
  {
   "cell_type": "markdown",
   "metadata": {},
   "source": [
    "<div class=\"alert alert-block alert-info\">\n",
    "<i class=\"fa fa-info-circle\" aria-hidden=\"true\"></i>\n",
    "Se puede almacenar los tipos básicos (int, float, bool y str, además de tuplas.\n",
    "</div>"
   ]
  },
  {
   "cell_type": "markdown",
   "metadata": {},
   "source": [
    "### Creación"
   ]
  },
  {
   "cell_type": "code",
   "execution_count": 129,
   "metadata": {
    "ExecuteTime": {
     "end_time": "2019-01-12T11:40:25.961905Z",
     "start_time": "2019-01-12T11:40:25.958009Z"
    }
   },
   "outputs": [
    {
     "name": "stdout",
     "output_type": "stream",
     "text": [
      "set()\n",
      "{1, 2, 3, 4}\n"
     ]
    }
   ],
   "source": [
    "# Se crean usando la función built-in set\n",
    "print(set())\n",
    "\n",
    "# También se puede crear un conjunto con una lista de elementos incial\n",
    "print(set([1,2,3,4]))"
   ]
  },
  {
   "cell_type": "markdown",
   "metadata": {},
   "source": [
    "### Inserción de elementos"
   ]
  },
  {
   "cell_type": "code",
   "execution_count": 130,
   "metadata": {
    "ExecuteTime": {
     "end_time": "2019-01-12T11:40:40.118405Z",
     "start_time": "2019-01-12T11:40:40.114017Z"
    }
   },
   "outputs": [
    {
     "name": "stdout",
     "output_type": "stream",
     "text": [
      "{1, 2.3, 'Hola'}\n",
      "{1, 2.3, 'Hola'}\n"
     ]
    }
   ],
   "source": [
    "# Se utiliza la función add\n",
    "s = set()      # Creamos el conjunto\n",
    "s.add(1)       # Añadimos el 1\n",
    "s.add(\"Hola\")  # Añadimos el string \"Hola\"\n",
    "s.add(2.3)     # Añadimos el flotante 2.3\n",
    "print(s)\n",
    "\n",
    "# Ahora si añadimos un elemento repetido no hace nada (el conjunto sigue siendo el mismo)\n",
    "s.add(1)       # Añadimos el 1\n",
    "s.add(\"Hola\")  # Añadimos el string \"Hola\"\n",
    "s.add(2.3)     # Añadimos el flotante 2.3\n",
    "print(s)"
   ]
  },
  {
   "cell_type": "markdown",
   "metadata": {},
   "source": [
    "### Eliminación de elementos"
   ]
  },
  {
   "cell_type": "code",
   "execution_count": 131,
   "metadata": {
    "ExecuteTime": {
     "end_time": "2019-01-12T11:40:54.412168Z",
     "start_time": "2019-01-12T11:40:54.408578Z"
    }
   },
   "outputs": [
    {
     "name": "stdout",
     "output_type": "stream",
     "text": [
      "{'b', 'c', 'a'}\n",
      "{'c', 'a'}\n"
     ]
    }
   ],
   "source": [
    "s = set(['a','b','c'])\n",
    "print(s)\n",
    "\n",
    "s.remove('b')  # Extraemos el elemento 'b'\n",
    "print(s)"
   ]
  },
  {
   "cell_type": "markdown",
   "metadata": {},
   "source": [
    "### Pertenencia"
   ]
  },
  {
   "cell_type": "code",
   "execution_count": 132,
   "metadata": {
    "ExecuteTime": {
     "end_time": "2019-01-11T18:22:46.246908Z",
     "start_time": "2019-01-11T18:22:46.243387Z"
    }
   },
   "outputs": [
    {
     "name": "stdout",
     "output_type": "stream",
     "text": [
      "True\n",
      "False\n"
     ]
    }
   ],
   "source": [
    "# Con el operador infijo \"in\" se puede comprobar la petenencia de elementos en un set\n",
    "# Comprueba si el elemento a la izquierda existe en el elemento de la derecha\n",
    "\n",
    "s = set([1,2,3])\n",
    "\n",
    "print(2 in s) # Devuelve True\n",
    "print(5 in s) # Devuelve False"
   ]
  },
  {
   "cell_type": "markdown",
   "metadata": {},
   "source": [
    "<div class=\"alert alert-block alert-info\">\n",
    "<i class=\"fa fa-info-circle\" aria-hidden=\"true\"></i>\n",
    "En realidad el operador infijo <i>in</i> se puede utilizar sobre cualquier elemento que sea iterable (como listas, tuplas o diccionarios).\n",
    "    \n",
    "Por ejemplo: `'b' in ['a', 'b', 'c']` devolvería `True`\n",
    "</div>"
   ]
  },
  {
   "cell_type": "markdown",
   "metadata": {},
   "source": [
    "### Operaciones  sobre conjuntos\n",
    "* unión: union\n",
    "* intersección: intersection\n",
    "* diferencia: difference (-)"
   ]
  },
  {
   "cell_type": "code",
   "execution_count": 133,
   "metadata": {
    "ExecuteTime": {
     "end_time": "2019-01-11T18:25:34.827399Z",
     "start_time": "2019-01-11T18:25:34.822056Z"
    }
   },
   "outputs": [
    {
     "name": "stdout",
     "output_type": "stream",
     "text": [
      "Unión de conjuntos: {1, 2, 3, 4, 5, 6, 7, 8}\n",
      "Intersección de conjuntos: {4, 5}\n",
      "Diferencia entre conjuntos: {1, 2, 3}, igual que {1, 2, 3}\n"
     ]
    }
   ],
   "source": [
    "s1 = set([1,2,3,4,5])\n",
    "s2 = set([4,5,6,7,8])\n",
    "\n",
    "s_union = s1.union(s2)\n",
    "s_inter = s1.intersection(s2)\n",
    "s_difer1 = s1.difference(s2)\n",
    "s_difer2 = s1 - s2\n",
    "\n",
    "print(\"Unión de conjuntos: {}\".format(s_union))\n",
    "print(\"Intersección de conjuntos: {}\".format(s_inter))\n",
    "print(\"Diferencia entre conjuntos: {}, igual que {}\".format(s_difer1, s_difer2))"
   ]
  },
  {
   "cell_type": "markdown",
   "metadata": {},
   "source": [
    "<div style=\"text-align: right\">\n",
    "    <font size=5>\n",
    "        <a href=\"#indice\"><i class=\"fa fa-arrow-circle-up\" aria-hidden=\"true\"></i></a>\n",
    "    </font>\n",
    "</div>\n",
    "\n",
    "---\n",
    "\n",
    "<a id=\"section_diccionarios\"></a>\n",
    "\n",
    "## Diccionarios"
   ]
  },
  {
   "cell_type": "markdown",
   "metadata": {},
   "source": [
    "Los diccionarios son elementos que relacionan una **clave** con un **valor**. La clave tiene que un tipo básico o una tupla, como pasaba con el set. Las siguientes funciones son las utilizadas para gestionar diccionarios:\n",
    "\n",
    "* **Creacón de diccionarios**: `dict` o `{}`\n",
    "* **Indexación**: acceso a los elementos de la tupla usando los corchetes `[]`, donde dentro de los corchetes se especifica una clave\n",
    "* **Borrar un elementos**: `del` **(igual que para listas)**\n",
    "* **Número de elementos en el diccionario**: `len` **(igual que para listas)**\n",
    "* Operaciones sobre **iterables**: all, any, max, min y sum **(igual que para listas. Opera sobre la lista de claves)**\n",
    "* Operaciones **iterables**: all, any, max, min y sum (**se opera sobre la lista de claves**)"
   ]
  },
  {
   "cell_type": "markdown",
   "metadata": {},
   "source": [
    "### Creación de diccionarios"
   ]
  },
  {
   "cell_type": "code",
   "execution_count": 134,
   "metadata": {
    "ExecuteTime": {
     "end_time": "2019-01-12T11:45:28.762023Z",
     "start_time": "2019-01-12T11:45:28.759021Z"
    }
   },
   "outputs": [
    {
     "name": "stdout",
     "output_type": "stream",
     "text": [
      "{'a': 1, 'b': 2}\n"
     ]
    }
   ],
   "source": [
    "# También se puede crear utilizando las llaves, y elemenos \"clave:valor\" separados por comas\n",
    "print({'a':1, 'b':2})\n",
    "\n"
   ]
  },
  {
   "cell_type": "code",
   "execution_count": 151,
   "metadata": {},
   "outputs": [
    {
     "name": "stdout",
     "output_type": "stream",
     "text": [
      "navarro\n",
      "julio\n",
      "dict_keys(['nombre', 'apellido'])\n",
      "dict_values(['julio', 'navarro'])\n"
     ]
    }
   ],
   "source": [
    "dict_julio=[\n",
    "    {'nombre':'julio', 'apellido':'navarro'},\n",
    "    {'nombre':'daniel', 'apellido':'navarro'},\n",
    "    {'nombre':'gema', 'apellido':'fonseca'}\n",
    "]\n",
    "print(dict_julio[1]['apellido'])\n",
    "print(dict_julio[0]['nombre'])\n",
    "print(dict_julio[0].keys())\n",
    "print(dict_julio[0].values())"
   ]
  },
  {
   "cell_type": "code",
   "execution_count": 161,
   "metadata": {},
   "outputs": [
    {
     "name": "stdout",
     "output_type": "stream",
     "text": [
      "{'nombre': 'julio', 'apellido': 'navarro'} -> nombre : julio\n",
      "{'nombre': 'julio', 'apellido': 'navarro'} -> apellido : navarro\n",
      "{'nombre': 'daniel', 'apellido': 'navarro'} -> nombre : daniel\n",
      "{'nombre': 'daniel', 'apellido': 'navarro'} -> apellido : navarro\n",
      "{'nombre': 'gema', 'apellido': 'fonseca'} -> nombre : gema\n",
      "{'nombre': 'gema', 'apellido': 'fonseca'} -> apellido : fonseca\n"
     ]
    }
   ],
   "source": [
    "for i in dict_julio:\n",
    "    for k in i.keys():\n",
    "        print(f'{i} -> {k} : {i[k]}')\n",
    "    "
   ]
  },
  {
   "cell_type": "markdown",
   "metadata": {},
   "source": [
    "<div class=\"alert alert-block alert-info\">\n",
    "<i class=\"fa fa-info-circle\" aria-hidden=\"true\"></i>\n",
    "La ventaja de crear los diccionarios con la palabra reservada `dict` es que puede resultar más cómodo de recordar, al seguir el formato de agumentos en funciones.\n",
    "\n",
    "<br>\n",
    "<i class=\"fa fa-info-circle\" aria-hidden=\"true\"></i>\n",
    "La desventaja es que las claves en este formato siempre se toman como caracteres. Si queremos utilizar enteros o flotantes como clave, hay que hacerlo usando el constructor basado en llaves `{}`\n",
    "</div>"
   ]
  },
  {
   "cell_type": "markdown",
   "metadata": {},
   "source": [
    "### Acceso a los elementos"
   ]
  },
  {
   "cell_type": "code",
   "execution_count": 138,
   "metadata": {
    "ExecuteTime": {
     "end_time": "2019-01-11T18:29:49.755527Z",
     "start_time": "2019-01-11T18:29:49.751684Z"
    }
   },
   "outputs": [
    {
     "name": "stdout",
     "output_type": "stream",
     "text": [
      "entero\n",
      "flotante\n",
      "string\n"
     ]
    }
   ],
   "source": [
    "# El acceso se realiza mediante el uso de corchetes\n",
    "d = {1:\"entero\", 2.5: \"flotante\", \"hola\": \"string\"}\n",
    "\n",
    "print(d[1])       # \"entero\"\n",
    "print(d[2.5])     # \"flotante\"\n",
    "print(d[\"hola\"])  # \"string\""
   ]
  },
  {
   "cell_type": "code",
   "execution_count": 139,
   "metadata": {
    "ExecuteTime": {
     "end_time": "2019-01-12T11:47:20.426334Z",
     "start_time": "2019-01-12T11:47:20.423461Z"
    }
   },
   "outputs": [],
   "source": [
    "d = {\n",
    "    'config': {\n",
    "        'a': 2,\n",
    "        'b': \"value\",\n",
    "        'values': [1, 2, 3 ]\n",
    "    }\n",
    "}"
   ]
  },
  {
   "cell_type": "code",
   "execution_count": 140,
   "metadata": {
    "ExecuteTime": {
     "end_time": "2019-01-12T11:48:15.306341Z",
     "start_time": "2019-01-12T11:48:15.303629Z"
    }
   },
   "outputs": [],
   "source": [
    "d['config']['values'][2] = 4"
   ]
  },
  {
   "cell_type": "code",
   "execution_count": 141,
   "metadata": {
    "ExecuteTime": {
     "end_time": "2019-01-12T11:48:17.089595Z",
     "start_time": "2019-01-12T11:48:17.084796Z"
    }
   },
   "outputs": [
    {
     "data": {
      "text/plain": [
       "{'config': {'a': 2, 'b': 'value', 'values': [1, 2, 4]}}"
      ]
     },
     "execution_count": 141,
     "metadata": {},
     "output_type": "execute_result"
    }
   ],
   "source": [
    "d"
   ]
  },
  {
   "cell_type": "markdown",
   "metadata": {},
   "source": [
    "<div class=\"alert alert-block alert-warning\">\n",
    "<i class=\"fa fa-exclamation-circle\" aria-hidden=\"true\"></i> Hay que tener cuidado, si accedemos a un elemento que no existe obtendremos un error del tipo KeyError\n",
    "\n",
    "</div>"
   ]
  },
  {
   "cell_type": "code",
   "execution_count": 142,
   "metadata": {
    "ExecuteTime": {
     "end_time": "2019-01-12T11:48:29.288996Z",
     "start_time": "2019-01-12T11:48:29.281828Z"
    }
   },
   "outputs": [
    {
     "ename": "KeyError",
     "evalue": "'mal'",
     "output_type": "error",
     "traceback": [
      "\u001b[1;31m---------------------------------------------------------------------------\u001b[0m",
      "\u001b[1;31mKeyError\u001b[0m                                  Traceback (most recent call last)",
      "\u001b[1;32m<ipython-input-142-3fff9898cbe8>\u001b[0m in \u001b[0;36m<module>\u001b[1;34m\u001b[0m\n\u001b[1;32m----> 1\u001b[1;33m \u001b[0mprint\u001b[0m\u001b[1;33m(\u001b[0m\u001b[0md\u001b[0m\u001b[1;33m[\u001b[0m\u001b[1;34m'mal'\u001b[0m\u001b[1;33m]\u001b[0m\u001b[1;33m)\u001b[0m\u001b[1;33m\u001b[0m\u001b[1;33m\u001b[0m\u001b[0m\n\u001b[0m",
      "\u001b[1;31mKeyError\u001b[0m: 'mal'"
     ]
    }
   ],
   "source": [
    "print(d['mal'])"
   ]
  },
  {
   "cell_type": "markdown",
   "metadata": {},
   "source": [
    "Podemos evitar estos errores usando un tipo de diccionario especial llamado `defaultdict` muy útil para procesar datos.\n",
    "\n",
    "En estos diccionarios podemos expecificar un valor por defecto para cualquier clave que no exista en el diccionario."
   ]
  },
  {
   "cell_type": "code",
   "execution_count": 143,
   "metadata": {
    "ExecuteTime": {
     "end_time": "2019-01-12T11:49:40.903567Z",
     "start_time": "2019-01-12T11:49:40.899742Z"
    }
   },
   "outputs": [
    {
     "name": "stdout",
     "output_type": "stream",
     "text": [
      "1\n",
      "0\n"
     ]
    }
   ],
   "source": [
    "from collections import defaultdict\n",
    "\n",
    "d = defaultdict(int)\n",
    "\n",
    "d['perro'] = 1\n",
    "\n",
    "print(d['perro'])\n",
    "print(d['gato'])"
   ]
  },
  {
   "cell_type": "markdown",
   "metadata": {},
   "source": [
    "### Añadir elementos"
   ]
  },
  {
   "cell_type": "code",
   "execution_count": 144,
   "metadata": {
    "ExecuteTime": {
     "end_time": "2019-01-12T11:50:31.908678Z",
     "start_time": "2019-01-12T11:50:31.903695Z"
    }
   },
   "outputs": [
    {
     "data": {
      "text/plain": [
       "{'hola': 'mundo', 'uno': 1}"
      ]
     },
     "execution_count": 144,
     "metadata": {},
     "output_type": "execute_result"
    }
   ],
   "source": [
    "d = {}\n",
    "\n",
    "d['hola'] = 'mundo'\n",
    "d['uno'] = 1\n",
    "\n",
    "d"
   ]
  },
  {
   "cell_type": "markdown",
   "metadata": {},
   "source": [
    "<div style=\"text-align: right\">\n",
    "    <font size=5>\n",
    "        <a href=\"#indice\"><i class=\"fa fa-arrow-circle-up\" aria-hidden=\"true\"></i></a>\n",
    "    </font>\n",
    "</div>\n",
    "\n",
    "---\n",
    "\n",
    "<a id=\"section_io\"></a>\n",
    "\n",
    "## I/O"
   ]
  },
  {
   "cell_type": "markdown",
   "metadata": {},
   "source": [
    "Como en cualquier lenguaje de programación, los ficheros se manejan en dos fases:\n",
    "\n",
    "- Primero se obtiene el descriptor del fichero. Éste es un objeto que permite efectuar operaciones de entrada / salida sobre el fichero. Se crea con la llamada `open`.\n",
    "- Sobre el descriptor se pueden efectuar operaciones de lectura (función `read`) y escritura (función `write`). La función `open` debe ser correctamente parametrizada para poder efectuar correctamente estas operaciones.\n",
    "\n",
    "Hay que recordar cerrar el fichero una vez éste ha sido utilizado. Para ello, se usa la función `close`."
   ]
  },
  {
   "cell_type": "markdown",
   "metadata": {},
   "source": [
    "### Escritura"
   ]
  },
  {
   "cell_type": "code",
   "execution_count": 163,
   "metadata": {
    "ExecuteTime": {
     "end_time": "2019-01-12T11:53:05.411282Z",
     "start_time": "2019-01-12T11:53:05.407775Z"
    }
   },
   "outputs": [],
   "source": [
    "file = open('fichero.txt', 'a')\n",
    "file.write('Nuevo texto\\n')\n",
    "# Cerramos el descriptor del fichero\n",
    "file.close()"
   ]
  },
  {
   "cell_type": "markdown",
   "metadata": {},
   "source": [
    "### Lectura"
   ]
  },
  {
   "cell_type": "code",
   "execution_count": 164,
   "metadata": {
    "ExecuteTime": {
     "end_time": "2019-01-12T11:53:19.299643Z",
     "start_time": "2019-01-12T11:53:19.294985Z"
    }
   },
   "outputs": [
    {
     "name": "stdout",
     "output_type": "stream",
     "text": [
      "Nuevo texto\n",
      "Nuevo texto\n",
      "\n"
     ]
    }
   ],
   "source": [
    "# Abre el fichero\n",
    "file = open('fichero.txt', 'r')\n",
    "\n",
    "# Lee el contenido\n",
    "texto = file.read()\n",
    "print(texto)\n",
    "\n",
    "# Cerramos el descriptor del fichero\n",
    "file.close()"
   ]
  },
  {
   "cell_type": "code",
   "execution_count": 184,
   "metadata": {},
   "outputs": [],
   "source": [
    "file_quijote = open('quijote.txt', 'r', encoding=\"utf8\")"
   ]
  },
  {
   "cell_type": "code",
   "execution_count": 185,
   "metadata": {},
   "outputs": [],
   "source": [
    "quijote = file_quijote.read()"
   ]
  },
  {
   "cell_type": "code",
   "execution_count": 187,
   "metadata": {},
   "outputs": [],
   "source": [
    "file_quijote.close()"
   ]
  },
  {
   "cell_type": "code",
   "execution_count": 197,
   "metadata": {},
   "outputs": [
    {
     "name": "stdout",
     "output_type": "stream",
     "text": [
      "<class 'list'>\n",
      "El Quijote tienen 74513 líneas\n",
      "El Quijote tiene 425496 palabras\n"
     ]
    }
   ],
   "source": [
    "# Lista con las líneas de El Quijote\n",
    "lineas_quijote = quijote.split('\\n')\n",
    "print(type(lineas_quijote))\n",
    "print(f'El Quijote tienen {len(lineas_quijote)} líneas')\n",
    "\n",
    "\n",
    "# Reemplazamos puntos y comas, línea a línea\n",
    "lineas_quijote_limpias = []\n",
    "\n",
    "for lin in lineas_quijote:\n",
    "    clean_lin = lin.replace('.', '')\n",
    "    clean_lin = lin.replace(',', '')\n",
    "    clean_lin = lin.replace('-', '')\n",
    "    lineas_quijote_limpias.append(clean_lin)\n",
    "    \n",
    "\n",
    "# Contamos las palabras de cada línea\n",
    "num_palabras = 0\n",
    "for lin in lineas_quijote_limpias:\n",
    "    num_palabras = num_palabras + len(lin.split(' '))\n",
    "\n",
    "print(f'El Quijote tiene {num_palabras} palabras')"
   ]
  },
  {
   "cell_type": "markdown",
   "metadata": {},
   "source": [
    "Para escribir el fichero, hemos utilizado un segundo parámetro en la función `write`. Este parámetro indica de qué forma se debe abrir el fichero. Los modos en los que se puede abrir un fichero son _(se pueden combinar dos letras para elegir modo texto o binario, por ejemplo 'rb' para leer en binario)_:\n",
    "\n",
    "\n",
    "| Carácter | Significado|\n",
    "|------|------|\n",
    "| 'r' | en modo lectura (por defecto)| \n",
    "| 'w' | en modo escritura (primero vacía el fichero)| \n",
    "| 'x' | en modo escritura, pero lanza una excepción si el fichero ya existe | \n",
    "| 'a' | en modo escritura, pero no vacía el fichero. Lo que se escribe, se pone al final | \n",
    "| '+' | en modo actualización (permite leer y escribir) | \n",
    "| 'b' | modo binario | \n",
    "| 't' | modo texto (por defecto)| "
   ]
  },
  {
   "cell_type": "markdown",
   "metadata": {},
   "source": [
    "<div style=\"text-align: right\">\n",
    "    <font size=5>\n",
    "        <a href=\"#indice\"><i class=\"fa fa-arrow-circle-up\" aria-hidden=\"true\"></i></a>\n",
    "    </font>\n",
    "</div>\n",
    "\n",
    "---\n",
    "\n",
    "<a id=\"section_excepciones\"></a>\n",
    "\n",
    "## Excepciones"
   ]
  },
  {
   "cell_type": "markdown",
   "metadata": {},
   "source": [
    "Hay ocasiones en las que sabemos que el código puede fallar, pero queremos gestionar esa excepción de forma controlada. Por ejemplo, hemos visto que es posible que esperemos un valor en un diccionario que luego no está, o que intentamos leer un fichero que no existe.\n",
    "\n",
    "Para gestionar las excepciones, se debe situar el código que puede lanzar esta excepción entre las palabras `try` y `except`. En la parte de `except` se introduce el código para tratar dicha excepción."
   ]
  },
  {
   "cell_type": "code",
   "execution_count": null,
   "metadata": {
    "ExecuteTime": {
     "end_time": "2019-01-12T12:10:25.769256Z",
     "start_time": "2019-01-12T12:10:25.765755Z"
    }
   },
   "outputs": [],
   "source": [
    "try:\n",
    "    numerador = 10\n",
    "    denominador = 0\n",
    "    print(f\"{numerador} / {denominador} = {numerador / denominador}\")\n",
    "    \n",
    "except:\n",
    "    print(\"No se puede dividir por 0!\")"
   ]
  },
  {
   "cell_type": "markdown",
   "metadata": {},
   "source": [
    "En la parte del except se puede, además, especificar el tipo de error esperado y utilizar más de un bloque `except`. Es decir, se puede gestionar más de un posible error en el código `try`."
   ]
  },
  {
   "cell_type": "code",
   "execution_count": null,
   "metadata": {
    "ExecuteTime": {
     "end_time": "2019-01-12T12:13:32.124067Z",
     "start_time": "2019-01-12T12:13:32.119339Z"
    }
   },
   "outputs": [],
   "source": [
    "try:\n",
    "    numerador = 10\n",
    "    denominador = 'a'\n",
    "    resultado = numerador / denominador\n",
    "    print(f\"{numerador} / {denominador} = {resultado}\")\n",
    "    \n",
    "except ZeroDivisionError:\n",
    "    print(\"No se puede dividir por 0!\")\n",
    "    \n",
    "except ValueError as ve:\n",
    "    print(f\"Debes introducir un número como denominador! Error: {ve}\")\n",
    "    \n",
    "except TypeError: \n",
    "    print('Tipo no valido')\n",
    "except:\n",
    "    print('Error no reconocido')"
   ]
  }
 ],
 "metadata": {
  "kernelspec": {
   "display_name": "Python 3",
   "language": "python",
   "name": "python3"
  },
  "language_info": {
   "codemirror_mode": {
    "name": "ipython",
    "version": 3
   },
   "file_extension": ".py",
   "mimetype": "text/x-python",
   "name": "python",
   "nbconvert_exporter": "python",
   "pygments_lexer": "ipython3",
   "version": "3.7.4"
  },
  "toc": {
   "base_numbering": 1,
   "nav_menu": {},
   "number_sections": false,
   "sideBar": true,
   "skip_h1_title": true,
   "title_cell": "Table of Contents",
   "title_sidebar": "Contents",
   "toc_cell": false,
   "toc_position": {},
   "toc_section_display": true,
   "toc_window_display": false
  }
 },
 "nbformat": 4,
 "nbformat_minor": 4
}
