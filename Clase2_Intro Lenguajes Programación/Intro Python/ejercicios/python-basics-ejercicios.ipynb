{
 "cells": [
  {
   "cell_type": "markdown",
   "metadata": {},
   "source": [
    "\n",
    "# IEBS\n",
    "\n",
    "## Introducción a python - Ejercicios\n",
    "\n",
    "### Jacinto Arias - arias.jacinto@gmail.com\n",
    "---\n"
   ]
  },
  {
   "cell_type": "markdown",
   "metadata": {},
   "source": [
    "$\\bullet$ ¿Cuánto es 7 a la 4ª?"
   ]
  },
  {
   "cell_type": "code",
   "execution_count": 1,
   "metadata": {},
   "outputs": [
    {
     "name": "stdout",
     "output_type": "stream",
     "text": [
      "7 a la 4ª potencia es: 2401\n"
     ]
    }
   ],
   "source": [
    "siete_a_la_cuarta = 7 ** 4\n",
    "print(f\"7 a la 4ª potencia es: {siete_a_la_cuarta}\")"
   ]
  },
  {
   "cell_type": "markdown",
   "metadata": {},
   "source": [
    "---\n",
    "$\\bullet$  ¿El resultado anterior es divisible por 3?"
   ]
  },
  {
   "cell_type": "code",
   "execution_count": 2,
   "metadata": {},
   "outputs": [
    {
     "name": "stdout",
     "output_type": "stream",
     "text": [
      "¿Es 7 a la 4ª potencia divisible entre 3? False\n"
     ]
    }
   ],
   "source": [
    "print(f\"¿Es 7 a la 4ª potencia divisible entre 3? {siete_a_la_cuarta % 3 == 0}\")"
   ]
  },
  {
   "cell_type": "markdown",
   "metadata": {},
   "source": [
    "---\n",
    "$\\bullet$  Sabiendo que el radio de la Tierra es 6.371Km, imprime el mensaje: \"El perímetro de la Tierra es aproximadamente XXXX Km\" almacenando el resultado en la variable perimetro, calculando el valor de perimetro usando radio y pi.\n",
    "\n"
   ]
  },
  {
   "cell_type": "code",
   "execution_count": 3,
   "metadata": {},
   "outputs": [],
   "source": [
    "from math import pi\n",
    "planeta = 'Tierra'\n",
    "radio = 6371"
   ]
  },
  {
   "cell_type": "code",
   "execution_count": 4,
   "metadata": {},
   "outputs": [
    {
     "name": "stdout",
     "output_type": "stream",
     "text": [
      "El perímetro de la Tierra es aproximadamente 40030.173592041145 Km\n"
     ]
    }
   ],
   "source": [
    "perimetro = 2 * radio * pi\n",
    "print(f\"El perímetro de la Tierra es aproximadamente {perimetro} Km\")"
   ]
  },
  {
   "cell_type": "markdown",
   "metadata": {},
   "source": [
    "---\n",
    "\n",
    "$\\bullet$ Dada la ecuación $4x^2 -7x + 3 = 0$, calcular los dos posibles valores para la variable x\n",
    "\n",
    "<font size=4> <i class=\"fa fa-book\" aria-hidden=\"true\" style=\"color:#004D7F\"></i> </font> Dada la ecuación $ax^2 + bx + c = 0$, la fórmula para despejar la variable `x` es: $x = \\frac{-b \\pm \\sqrt{b^2 - 4ac}}{2a}$"
   ]
  },
  {
   "cell_type": "code",
   "execution_count": 5,
   "metadata": {},
   "outputs": [],
   "source": [
    "a = 4\n",
    "b = -7\n",
    "c = 3"
   ]
  },
  {
   "cell_type": "code",
   "execution_count": 6,
   "metadata": {},
   "outputs": [
    {
     "data": {
      "text/plain": [
       "4.0"
      ]
     },
     "execution_count": 6,
     "metadata": {},
     "output_type": "execute_result"
    }
   ],
   "source": [
    "# Recordatorio, para usar la raiz cuadrada:\n",
    "import math\n",
    "\n",
    "math.sqrt(16)\n"
   ]
  },
  {
   "cell_type": "code",
   "execution_count": 7,
   "metadata": {},
   "outputs": [],
   "source": [
    "# Solución con +\n",
    "solucion1 = (-b + math.sqrt(b**2 - 4*a*c)) / (2*a)\n",
    "# Solución con -\n",
    "solucion2 = (-b - math.sqrt(b**2 - 4*a*c)) / (2*a)"
   ]
  },
  {
   "cell_type": "code",
   "execution_count": 8,
   "metadata": {},
   "outputs": [
    {
     "name": "stdout",
     "output_type": "stream",
     "text": [
      "La primera solución de la ecuación es 1.0\n"
     ]
    }
   ],
   "source": [
    "print(f\"La primera solución de la ecuación es {solucion1}\")"
   ]
  },
  {
   "cell_type": "code",
   "execution_count": 9,
   "metadata": {},
   "outputs": [
    {
     "name": "stdout",
     "output_type": "stream",
     "text": [
      "La primera solución de la ecuación es 0.75\n"
     ]
    }
   ],
   "source": [
    "print(f\"La primera solución de la ecuación es {solucion2}\")"
   ]
  },
  {
   "cell_type": "markdown",
   "metadata": {},
   "source": [
    "---\n",
    "\n",
    "$\\bullet$ Vamos a calcular el factorial de un número solicitado por teclado (usando la función `input`).\n",
    "\n",
    "<font size=4> <i class=\"fa fa-book\" aria-hidden=\"true\" style=\"color:#004D7F\"></i> </font> El factorial de un número $n$ ($n!$) se calcula como $\\prod_{k=1}^n k$, es decir, $n! = 1 \\cdot 2 \\cdot 3 \\cdot \\ldots \\cdot (n-1) \\cdot  n$"
   ]
  },
  {
   "cell_type": "markdown",
   "metadata": {},
   "source": [
    "Algoritmo de factorial:\n",
    "\n",
    "Utilizar un bucle for, y la función built-in range para realizar las multiplicaciones desde 1 hasta n, acumulando los resultados parciales en resultado:\n",
    "\n",
    "`(resultado = resultado * 1, resultado = resultado * 2, ... resultado = resultado * n)`"
   ]
  },
  {
   "cell_type": "code",
   "execution_count": 10,
   "metadata": {},
   "outputs": [],
   "source": [
    "n = 10"
   ]
  },
  {
   "cell_type": "code",
   "execution_count": 11,
   "metadata": {},
   "outputs": [
    {
     "name": "stdout",
     "output_type": "stream",
     "text": [
      "factorial de 10 es 3628800\n"
     ]
    }
   ],
   "source": [
    "fact_n = 1\n",
    "for i in range(1, n+1):\n",
    "    fact_n = fact_n * i\n",
    "print(f\"factorial de {n} es {fact_n}\")\n"
   ]
  },
  {
   "cell_type": "markdown",
   "metadata": {},
   "source": [
    "---\n",
    "$\\bullet$ Escribe una función `es_par(n)` que indique si un numero es par, por ejemplo `es_par(4)` devolveria `True` y `es_par(5)` devolveria `False`"
   ]
  },
  {
   "cell_type": "code",
   "execution_count": 12,
   "metadata": {},
   "outputs": [],
   "source": [
    "def es_par(n):\n",
    "    return(n % 2 == 0)"
   ]
  },
  {
   "cell_type": "code",
   "execution_count": 13,
   "metadata": {},
   "outputs": [
    {
     "data": {
      "text/plain": [
       "True"
      ]
     },
     "execution_count": 13,
     "metadata": {},
     "output_type": "execute_result"
    }
   ],
   "source": [
    "es_par(4)"
   ]
  },
  {
   "cell_type": "code",
   "execution_count": 14,
   "metadata": {},
   "outputs": [
    {
     "data": {
      "text/plain": [
       "False"
      ]
     },
     "execution_count": 14,
     "metadata": {},
     "output_type": "execute_result"
    }
   ],
   "source": [
    "es_par(5)"
   ]
  },
  {
   "cell_type": "markdown",
   "metadata": {},
   "source": [
    "---\n",
    "$\\bullet$ Introduce la implementacion anterior de la funcion factorial dentro de una función de modo que podamos llamar a `factorial(5)`"
   ]
  },
  {
   "cell_type": "code",
   "execution_count": 15,
   "metadata": {},
   "outputs": [],
   "source": [
    "def factorial(n):\n",
    "    resultado = 1\n",
    "    for i in range(1, n+1):\n",
    "        resultado = resultado * i\n",
    "    return resultado"
   ]
  },
  {
   "cell_type": "code",
   "execution_count": 16,
   "metadata": {},
   "outputs": [
    {
     "data": {
      "text/plain": [
       "120"
      ]
     },
     "execution_count": 16,
     "metadata": {},
     "output_type": "execute_result"
    }
   ],
   "source": [
    "factorial(5)"
   ]
  },
  {
   "cell_type": "markdown",
   "metadata": {},
   "source": [
    "---\n",
    "\n",
    "$\\bullet$ Escribir una función que calcule si un numero n es primo, `es_primo(5)` deberia devolver `True` y `es_primo(4)` devolvería `False`"
   ]
  },
  {
   "cell_type": "code",
   "execution_count": 38,
   "metadata": {},
   "outputs": [],
   "source": [
    "def es_primo(num):\n",
    "    es_primo = True\n",
    "    for num_div in range (2, num, 1):\n",
    "        if num % num_div == 0:\n",
    "            es_primo = False\n",
    "            exit  # Si es divisible por algún número, no es primo\n",
    "        #print(f\"num_div = {num_div}\")\n",
    "    return es_primo"
   ]
  },
  {
   "cell_type": "code",
   "execution_count": 42,
   "metadata": {},
   "outputs": [
    {
     "data": {
      "text/plain": [
       "True"
      ]
     },
     "execution_count": 42,
     "metadata": {},
     "output_type": "execute_result"
    }
   ],
   "source": [
    "es_primo(5)"
   ]
  },
  {
   "cell_type": "code",
   "execution_count": 43,
   "metadata": {},
   "outputs": [
    {
     "data": {
      "text/plain": [
       "False"
      ]
     },
     "execution_count": 43,
     "metadata": {},
     "output_type": "execute_result"
    }
   ],
   "source": [
    "es_primo(4)"
   ]
  },
  {
   "cell_type": "code",
   "execution_count": null,
   "metadata": {},
   "outputs": [],
   "source": []
  }
 ],
 "metadata": {
  "kernelspec": {
   "display_name": "Python 3",
   "language": "python",
   "name": "python3"
  },
  "language_info": {
   "codemirror_mode": {
    "name": "ipython",
    "version": 3
   },
   "file_extension": ".py",
   "mimetype": "text/x-python",
   "name": "python",
   "nbconvert_exporter": "python",
   "pygments_lexer": "ipython3",
   "version": "3.7.4"
  }
 },
 "nbformat": 4,
 "nbformat_minor": 4
}
